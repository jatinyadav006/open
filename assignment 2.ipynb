{
 "cells": [
  {
   "cell_type": "markdown",
   "id": "999069d8",
   "metadata": {},
   "source": [
    "# 1. What is a List?"
   ]
  },
  {
   "cell_type": "markdown",
   "id": "4bce8bdc",
   "metadata": {},
   "source": [
    "List is collection of items or entities that are enclosed within square brackets & stores\n",
    "multiple values."
   ]
  },
  {
   "cell_type": "markdown",
   "id": "7e816b62",
   "metadata": {},
   "source": [
    "## 2. What is a Tuple?\n"
   ]
  },
  {
   "cell_type": "markdown",
   "id": "be422856",
   "metadata": {},
   "source": [
    "Tuple are data types that are used to store different data types (int,float,complex,dict)\n",
    "It stores multiple values separated by comma\n",
    "Tuple also allow duplicate items"
   ]
  },
  {
   "cell_type": "markdown",
   "id": "baf25b27",
   "metadata": {},
   "source": [
    "## 3. What is the difference between List and Tuple?\n"
   ]
  },
  {
   "cell_type": "markdown",
   "id": "54372575",
   "metadata": {},
   "source": [
    "List are mutable data type whereas tuple are immutable.\n",
    "List is enclosed with square brackets whereas tuple is enclosed with roundbrackets.\n",
    "Tuples are sligtly faster than list\n",
    "List requires more memory while tuple requires less memory."
   ]
  },
  {
   "cell_type": "markdown",
   "id": "61a71906",
   "metadata": {},
   "source": [
    "## 4. Python Program to find the largest element in the list\n"
   ]
  },
  {
   "cell_type": "code",
   "execution_count": 6,
   "id": "8f339099",
   "metadata": {},
   "outputs": [
    {
     "name": "stdout",
     "output_type": "stream",
     "text": [
      "largest no. :  6\n"
     ]
    }
   ],
   "source": [
    "list1 = [2,3,4,5,6]\n",
    "print(\"largest no. : \",max(list1))"
   ]
  },
  {
   "cell_type": "markdown",
   "id": "35be4fcc",
   "metadata": {},
   "source": [
    "## 5. Python program to interchange first and last elements in a list.\n"
   ]
  },
  {
   "cell_type": "code",
   "execution_count": 8,
   "id": "15243cdc",
   "metadata": {},
   "outputs": [
    {
     "name": "stdout",
     "output_type": "stream",
     "text": [
      "[55, 3, 45, 8, 9, 1]\n"
     ]
    }
   ],
   "source": [
    "list1 = [1,3,45,8,9,55]\n",
    "list1[0],list1[-1] = list1[-1],list1[0]\n",
    "print(list1)"
   ]
  },
  {
   "cell_type": "markdown",
   "id": "92db0873",
   "metadata": {},
   "source": [
    "## 6. Python program to swap two elements in a list\n"
   ]
  },
  {
   "cell_type": "code",
   "execution_count": 9,
   "id": "67a7c9e2",
   "metadata": {},
   "outputs": [
    {
     "name": "stdout",
     "output_type": "stream",
     "text": [
      "[55, 3, 45, 8, 9, 1]\n"
     ]
    }
   ],
   "source": [
    "list1 = [1,3,45,8,9,55]\n",
    "list1[0],list1[-1] = list1[-1],list1[0]\n",
    "print(list1)"
   ]
  },
  {
   "cell_type": "markdown",
   "id": "f01ac3de",
   "metadata": {},
   "source": [
    "## 7. Python program to Reverse a List\n"
   ]
  },
  {
   "cell_type": "code",
   "execution_count": 10,
   "id": "322cf0af",
   "metadata": {},
   "outputs": [
    {
     "name": "stdout",
     "output_type": "stream",
     "text": [
      "[6, 5, 4, 3, 2, 1]\n"
     ]
    }
   ],
   "source": [
    "list2 = [1,2,3,4,5,6]\n",
    "rev_list2 = list2[::-1]\n",
    "print(rev_list2)"
   ]
  },
  {
   "cell_type": "markdown",
   "id": "684c7b83",
   "metadata": {},
   "source": [
    "## 8. Python program to count occurrences of an element in a list\n"
   ]
  },
  {
   "cell_type": "code",
   "execution_count": 13,
   "id": "6e74fb8d",
   "metadata": {},
   "outputs": [
    {
     "name": "stdout",
     "output_type": "stream",
     "text": [
      "3\n"
     ]
    }
   ],
   "source": [
    "list2 = [2,3,5,6,2,4,8,0,777,3,777,777]\n",
    "b = list2.count(777)\n",
    "print(b)"
   ]
  },
  {
   "cell_type": "markdown",
   "id": "04868997",
   "metadata": {},
   "source": [
    "## 9. Python program to find the sum of elements in a list\n"
   ]
  },
  {
   "cell_type": "code",
   "execution_count": 11,
   "id": "226026c0",
   "metadata": {},
   "outputs": [
    {
     "name": "stdout",
     "output_type": "stream",
     "text": [
      "sum of elements in list is :  35\n"
     ]
    }
   ],
   "source": [
    "list2 = [2,3,4,5,6,7,8]\n",
    "print(\"sum of elements in list is : \",sum(list2))"
   ]
  },
  {
   "cell_type": "markdown",
   "id": "f667d4a0",
   "metadata": {},
   "source": [
    "## 10. Python program to Multiply all numbers in the list"
   ]
  },
  {
   "cell_type": "code",
   "execution_count": 19,
   "id": "751c5bcd",
   "metadata": {},
   "outputs": [
    {
     "name": "stdout",
     "output_type": "stream",
     "text": [
      "26460\n"
     ]
    }
   ],
   "source": [
    "list2 = [2,5,7,9,6,7]\n",
    "product = 1\n",
    "for i in list2:\n",
    "    product = product*i\n",
    "print(product)"
   ]
  },
  {
   "cell_type": "markdown",
   "id": "236df3e7",
   "metadata": {},
   "source": [
    "## 11. What are the ways to find the length of a list\n"
   ]
  },
  {
   "cell_type": "code",
   "execution_count": 22,
   "id": "e3ee702e",
   "metadata": {},
   "outputs": [
    {
     "data": {
      "text/plain": [
       "12"
      ]
     },
     "execution_count": 22,
     "metadata": {},
     "output_type": "execute_result"
    }
   ],
   "source": [
    "list2 = [2,3,4,5,6,7,8,9,8,88,77,6]\n",
    "len(list2)"
   ]
  },
  {
   "cell_type": "markdown",
   "id": "6f5409ca",
   "metadata": {},
   "source": [
    "## 12. Python program to find the smallest and largest number in a list (Without min-max function)\n"
   ]
  },
  {
   "cell_type": "code",
   "execution_count": 31,
   "id": "2288f485",
   "metadata": {},
   "outputs": [
    {
     "name": "stdout",
     "output_type": "stream",
     "text": [
      "max value : 555\n",
      "min value : 2\n"
     ]
    }
   ],
   "source": [
    "l1 = [2,355,77,22,99,555]\n",
    "l1.sort()\n",
    "print(\"max value :\",l1[-1])\n",
    "print(\"min value :\",l1[0])"
   ]
  },
  {
   "cell_type": "markdown",
   "id": "f80945c1",
   "metadata": {},
   "source": [
    "## 13. Python Program to find the area of a circle\n"
   ]
  },
  {
   "cell_type": "code",
   "execution_count": 32,
   "id": "58cd12d5",
   "metadata": {},
   "outputs": [
    {
     "data": {
      "text/plain": [
       "706.5"
      ]
     },
     "execution_count": 32,
     "metadata": {},
     "output_type": "execute_result"
    }
   ],
   "source": [
    "r = 15\n",
    "area = (3.14)*(r**2)\n",
    "area"
   ]
  },
  {
   "cell_type": "markdown",
   "id": "9282b7af",
   "metadata": {},
   "source": [
    "## 14. Take inputs from the user to make a list. Again take one input from the user and search it in the list and delete that element, if found. Iterate over a list using for loop.\n"
   ]
  },
  {
   "cell_type": "code",
   "execution_count": 2,
   "id": "2c134d6a",
   "metadata": {
    "scrolled": true
   },
   "outputs": [
    {
     "name": "stdout",
     "output_type": "stream",
     "text": [
      "Enter 10 elements:\n",
      "1 \n",
      "2\n",
      "5\n",
      "6\n",
      "9\n",
      "8\n",
      "7\n",
      "6\n",
      "2\n",
      "3\n",
      "Search the element:9\n",
      "Deleted list: ['1 ', '2', '5', '6', '8', '7', '6', '2', '3']\n"
     ]
    }
   ],
   "source": [
    "print('Enter 10 elements:')\n",
    "n=[]\n",
    "for i in range(10):\n",
    "    n.append(input())\n",
    "m=input('Search the element:')\n",
    "n.remove(m)\n",
    "print('Deleted list:',n)"
   ]
  },
  {
   "cell_type": "markdown",
   "id": "624c8419",
   "metadata": {},
   "source": [
    "## 15. You are given a list of integer elements. Make a new list that will store a square of elements of the previous list. (With and without list comprehension)\n",
    "## i. Input_list = [2,5,6,12]\n",
    "## ii. Output_list = [4,25,36,144]"
   ]
  },
  {
   "cell_type": "code",
   "execution_count": null,
   "id": "a1d44f59",
   "metadata": {},
   "outputs": [],
   "source": []
  },
  {
   "cell_type": "markdown",
   "id": "c7c46491",
   "metadata": {},
   "source": [
    "## 16. WAP to create two lists, one containing all even numbers and the other containing all odd numbers between 0 to 151\n"
   ]
  },
  {
   "cell_type": "code",
   "execution_count": null,
   "id": "97f21d8c",
   "metadata": {},
   "outputs": [],
   "source": []
  },
  {
   "cell_type": "markdown",
   "id": "38920301",
   "metadata": {},
   "source": [
    "## 17. Python program to Count Even and Odd numbers in a List\n"
   ]
  },
  {
   "cell_type": "code",
   "execution_count": null,
   "id": "8a4628a2",
   "metadata": {},
   "outputs": [],
   "source": []
  },
  {
   "cell_type": "markdown",
   "id": "2f9f425c",
   "metadata": {},
   "source": [
    "## 18. WAP to make new lists, containing only numbers which are divisible by 4, 6,\n",
    "## 8, 10, 3, 5, 7, and 9 in separate lists for range(0,151)\n"
   ]
  },
  {
   "cell_type": "code",
   "execution_count": null,
   "id": "088fc68f",
   "metadata": {},
   "outputs": [],
   "source": []
  },
  {
   "cell_type": "markdown",
   "id": "ac65432f",
   "metadata": {},
   "source": [
    "## 19. From a list containing ints, strings, and floats, make three lists to store them\n",
    "# separately.\n"
   ]
  },
  {
   "cell_type": "code",
   "execution_count": null,
   "id": "2ab748b5",
   "metadata": {},
   "outputs": [],
   "source": []
  },
  {
   "cell_type": "markdown",
   "id": "4869d16d",
   "metadata": {},
   "source": [
    "## 20. What’s The Difference Between The Python append() and extend() Methods?\n"
   ]
  },
  {
   "cell_type": "code",
   "execution_count": null,
   "id": "6b1a2153",
   "metadata": {},
   "outputs": [],
   "source": []
  },
  {
   "cell_type": "markdown",
   "id": "4ad72de0",
   "metadata": {},
   "source": [
    "## 21. Write a Python program to append a list to the second list"
   ]
  },
  {
   "cell_type": "code",
   "execution_count": null,
   "id": "aa85949b",
   "metadata": {},
   "outputs": [],
   "source": []
  },
  {
   "cell_type": "markdown",
   "id": "87a4c963",
   "metadata": {},
   "source": [
    "## 22. Write a Python program to find the third-largest number in a list\n"
   ]
  },
  {
   "cell_type": "code",
   "execution_count": null,
   "id": "e2bec640",
   "metadata": {},
   "outputs": [],
   "source": []
  },
  {
   "cell_type": "markdown",
   "id": "f6306da9",
   "metadata": {},
   "source": [
    "## 23. Write a Python program to get the frequency of the elements in a list.\n"
   ]
  },
  {
   "cell_type": "code",
   "execution_count": null,
   "id": "8f315169",
   "metadata": {},
   "outputs": [],
   "source": []
  },
  {
   "cell_type": "markdown",
   "id": "4467453e",
   "metadata": {},
   "source": [
    "## 24. Write a Python program to check whether a list contains a sublist\n"
   ]
  },
  {
   "cell_type": "code",
   "execution_count": null,
   "id": "dcb12518",
   "metadata": {},
   "outputs": [],
   "source": []
  },
  {
   "cell_type": "markdown",
   "id": "3dad0885",
   "metadata": {},
   "source": [
    "## 25. Write a Python program to generate all sublists of a list\n"
   ]
  },
  {
   "cell_type": "code",
   "execution_count": null,
   "id": "4554c35c",
   "metadata": {},
   "outputs": [],
   "source": []
  },
  {
   "cell_type": "markdown",
   "id": "8287d4c1",
   "metadata": {},
   "source": [
    "## 26. Write a Python program to find common items from two lists\n"
   ]
  },
  {
   "cell_type": "code",
   "execution_count": null,
   "id": "807fd3ec",
   "metadata": {},
   "outputs": [],
   "source": []
  },
  {
   "cell_type": "markdown",
   "id": "fe2ffbf7",
   "metadata": {},
   "source": [
    "## 27. How to flatten a list in python?\n"
   ]
  },
  {
   "cell_type": "code",
   "execution_count": null,
   "id": "312f9174",
   "metadata": {},
   "outputs": [],
   "source": []
  },
  {
   "cell_type": "markdown",
   "id": "f0c78666",
   "metadata": {},
   "source": [
    "## 28. How to sort a list in ascending and descending order without using the sort\n",
    "##  function?\n"
   ]
  },
  {
   "cell_type": "code",
   "execution_count": null,
   "id": "c1185ac0",
   "metadata": {},
   "outputs": [],
   "source": []
  },
  {
   "cell_type": "markdown",
   "id": "c4226f9a",
   "metadata": {},
   "source": [
    "## 29. How to sort a tuple?\n"
   ]
  },
  {
   "cell_type": "code",
   "execution_count": null,
   "id": "cccb7b93",
   "metadata": {},
   "outputs": [],
   "source": []
  },
  {
   "cell_type": "markdown",
   "id": "ab00b249",
   "metadata": {},
   "source": [
    "## 30. Write a Python program to convert a list of multiple integers into a single integer\n",
    "## a. [11, 33, 50] >>> 113350\n"
   ]
  },
  {
   "cell_type": "code",
   "execution_count": null,
   "id": "449e3a81",
   "metadata": {},
   "outputs": [],
   "source": []
  },
  {
   "cell_type": "markdown",
   "id": "9cc7e4c4",
   "metadata": {},
   "source": [
    "## 31. Difference between del and clear?\n"
   ]
  },
  {
   "cell_type": "code",
   "execution_count": null,
   "id": "ec88d749",
   "metadata": {},
   "outputs": [],
   "source": []
  },
  {
   "cell_type": "markdown",
   "id": "0aa154d7",
   "metadata": {},
   "source": [
    "## 32. Difference between remove and pop?\n"
   ]
  },
  {
   "cell_type": "code",
   "execution_count": null,
   "id": "0e594b1a",
   "metadata": {},
   "outputs": [],
   "source": []
  },
  {
   "cell_type": "markdown",
   "id": "c122ae0e",
   "metadata": {},
   "source": [
    "## 33. Difference between indexing and Slicing?\n"
   ]
  },
  {
   "cell_type": "code",
   "execution_count": null,
   "id": "09d8efa9",
   "metadata": {},
   "outputs": [],
   "source": []
  },
  {
   "cell_type": "markdown",
   "id": "1f8fc5f9",
   "metadata": {},
   "source": [
    "## 34. Difference between sort and sorted?\n"
   ]
  },
  {
   "cell_type": "code",
   "execution_count": null,
   "id": "2b5283ff",
   "metadata": {},
   "outputs": [],
   "source": []
  },
  {
   "cell_type": "markdown",
   "id": "62ae1cbc",
   "metadata": {},
   "source": [
    "## 35. Difference between reverse and reversed?\n"
   ]
  },
  {
   "cell_type": "code",
   "execution_count": null,
   "id": "cc324f7e",
   "metadata": {},
   "outputs": [],
   "source": []
  },
  {
   "cell_type": "markdown",
   "id": "7416bf01",
   "metadata": {},
   "source": [
    "## 36. Difference between copy and deep copy?\n"
   ]
  },
  {
   "cell_type": "code",
   "execution_count": null,
   "id": "1e8b486d",
   "metadata": {},
   "outputs": [],
   "source": []
  },
  {
   "cell_type": "markdown",
   "id": "f7ece1fc",
   "metadata": {},
   "source": [
    "## 37. How to check whether the list is empty or not?\n"
   ]
  },
  {
   "cell_type": "code",
   "execution_count": null,
   "id": "879479a2",
   "metadata": {},
   "outputs": [],
   "source": []
  },
  {
   "cell_type": "markdown",
   "id": "18063c56",
   "metadata": {},
   "source": [
    "## 38. How to concatenate two lists?"
   ]
  },
  {
   "cell_type": "code",
   "execution_count": null,
   "id": "abea51f9",
   "metadata": {},
   "outputs": [],
   "source": []
  },
  {
   "cell_type": "markdown",
   "id": "f2f751e2",
   "metadata": {},
   "source": [
    "## 39. How to find the occurrences of an element in the python list?\n"
   ]
  },
  {
   "cell_type": "code",
   "execution_count": null,
   "id": "e1e4ae7a",
   "metadata": {},
   "outputs": [],
   "source": []
  },
  {
   "cell_type": "markdown",
   "id": "25f59314",
   "metadata": {},
   "source": [
    "## 40. How to flatten a list in python?"
   ]
  },
  {
   "cell_type": "code",
   "execution_count": null,
   "id": "ab4bcd8d",
   "metadata": {},
   "outputs": [],
   "source": []
  }
 ],
 "metadata": {
  "kernelspec": {
   "display_name": "Python 3 (ipykernel)",
   "language": "python",
   "name": "python3"
  },
  "language_info": {
   "codemirror_mode": {
    "name": "ipython",
    "version": 3
   },
   "file_extension": ".py",
   "mimetype": "text/x-python",
   "name": "python",
   "nbconvert_exporter": "python",
   "pygments_lexer": "ipython3",
   "version": "3.10.7"
  }
 },
 "nbformat": 4,
 "nbformat_minor": 5
}
