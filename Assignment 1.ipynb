{
 "cells": [
  {
   "cell_type": "markdown",
   "id": "9da7634a",
   "metadata": {},
   "source": [
    "## Q.1 What are the key features of Python?"
   ]
  },
  {
   "cell_type": "markdown",
   "id": "18cb7f1e",
   "metadata": {},
   "source": [
    "1. python are Free , Open Source\n",
    "2. Programmer friendly Language (Easy to write, learn, read)\n",
    "3. Simple to debug\n",
    "4. Vast library support\n",
    "5. Dynamically typed Language(do not need to specify data type)\n",
    "6. Object Oriented Programming Language (OOPs), High level programming\n",
    "7. Python Interpreted Language (do not require prior compilation)"
   ]
  },
  {
   "cell_type": "markdown",
   "id": "278c2d60",
   "metadata": {},
   "source": [
    "## Q.2 What are the Data Types in Python?"
   ]
  },
  {
   "cell_type": "markdown",
   "id": "3428d251",
   "metadata": {},
   "source": [
    "python has 5 type of data types\n",
    "\n",
    "1. Numeric data type >> int, float, complex\n",
    "\n",
    "2. Text data type >> str\n",
    "\n",
    "3. Sequence/iterables data type >> list, tuple, set, frozenset\n",
    "\n",
    "4. Mapping data type >> dict\n",
    "\n",
    "5. Boolean data type >> bool (True, False)\n",
    "                       range , bytearray, bytes, None"
   ]
  },
  {
   "cell_type": "markdown",
   "id": "fd3cfabd",
   "metadata": {},
   "source": [
    "## Q.3 What are local variables and global variables in Python?"
   ]
  },
  {
   "cell_type": "markdown",
   "id": "378f646e",
   "metadata": {},
   "source": [
    "1. Local Variable :\n",
    "variable which we define inside the function are called local variable ,we can use local\n",
    "variable inside the function only , we won't be able to access outside the function .\n",
    "And if we try to access then we will get error as not defined (NameError)\n",
    "\n",
    "2. Global Variable:\n",
    "variable which we define in main code or outside of the function are called global variable .\n",
    "We can access global varibale inside the function as well as outside of the function"
   ]
  },
  {
   "cell_type": "code",
   "execution_count": 26,
   "id": "0f1911ed",
   "metadata": {},
   "outputs": [
    {
     "name": "stdout",
     "output_type": "stream",
     "text": [
      "City name1 is :  jaipur\n",
      "City name2 is :  kota\n",
      "City name1 is :  jaipur\n"
     ]
    },
    {
     "ename": "NameError",
     "evalue": "name 'city_name2' is not defined",
     "output_type": "error",
     "traceback": [
      "\u001b[1;31m---------------------------------------------------------------------------\u001b[0m",
      "\u001b[1;31mNameError\u001b[0m                                 Traceback (most recent call last)",
      "Cell \u001b[1;32mIn [26], line 10\u001b[0m\n\u001b[0;32m      8\u001b[0m my_fun()\n\u001b[0;32m      9\u001b[0m \u001b[38;5;28mprint\u001b[39m(\u001b[38;5;124m'\u001b[39m\u001b[38;5;124mCity name1 is : \u001b[39m\u001b[38;5;124m'\u001b[39m,city_name1)\n\u001b[1;32m---> 10\u001b[0m \u001b[38;5;28mprint\u001b[39m(\u001b[38;5;124m'\u001b[39m\u001b[38;5;124mCity name2 is : \u001b[39m\u001b[38;5;124m'\u001b[39m,\u001b[43mcity_name2\u001b[49m)\n",
      "\u001b[1;31mNameError\u001b[0m: name 'city_name2' is not defined"
     ]
    }
   ],
   "source": [
    "#Example of Local and global variable\n",
    "\n",
    "city_name1 ='jaipur'                         # gloabl variable\n",
    "def my_fun():\n",
    "    city_name2 = 'kota'                      # local_variable\n",
    "    print('City name1 is : ',city_name1)\n",
    "    print('City name2 is : ',city_name2)\n",
    "my_fun()\n",
    "print('City name1 is : ',city_name1)\n",
    "print('City name2 is : ',city_name2)          # gives error as this is local variable"
   ]
  },
  {
   "cell_type": "markdown",
   "id": "769cbd40",
   "metadata": {},
   "source": [
    "## Q.4 How do you write comments in python? And Why Comments are important?"
   ]
  },
  {
   "cell_type": "markdown",
   "id": "d60a88e1",
   "metadata": {},
   "source": [
    "For commenting single line we use (#)\n",
    "and for commenting more than one line we use (ctrl + / )\n",
    "\n",
    "Comments can also be used to ignore some code while testing other blocks of code. This offers a simple way to prevent the execution of\n",
    "some lines or write a quick pseudo-code for the program & commented lines are ignored by the Python interpreter."
   ]
  },
  {
   "cell_type": "markdown",
   "id": "20d9ebe5",
   "metadata": {},
   "source": [
    "## Q.5 How to comment on multiple lines in python?"
   ]
  },
  {
   "cell_type": "markdown",
   "id": "c2251e30",
   "metadata": {},
   "source": [
    "for multiple line we use => '''         '''"
   ]
  },
  {
   "cell_type": "markdown",
   "id": "c2cc2520",
   "metadata": {},
   "source": [
    "## Q.6 What do you mean by Python literals?"
   ]
  },
  {
   "cell_type": "markdown",
   "id": "16b72723",
   "metadata": {},
   "source": [
    "A Python library is a collection of related modules. It contains bundles of code that can be used repeatedly in different programs. It makes Python\n",
    "Programming simpler and convenient for the programmers.\n",
    "The Python Standard Library contains the exact syntax, semantics, and tokens of Python. It contains built-in modules that provide access to basic\n",
    "system functionality like I/O and some other core modules. Most of the Python Libraries are written in the C programming language. The Python\n",
    "standard library consists of more than 200 core modules."
   ]
  },
  {
   "cell_type": "markdown",
   "id": "c3a28d45",
   "metadata": {},
   "source": [
    "## Q.7 What are different ways to assign value to variables?"
   ]
  },
  {
   "cell_type": "markdown",
   "id": "8678a919",
   "metadata": {},
   "source": [
    "(1.)  To assign single value to single variable.\n",
    "         a = 100\n",
    "\n",
    "(2.)  To assign single value to multiple variables in single line.\n",
    "         b = c = d = 300 \n",
    "\n",
    "(3.) To assign multiple values to multiple variables in single line.\n",
    "         e,f,g = 400,500,600 \n",
    "    But in 3rd condition we have to specify the count of values and variables should be same on both side. (LHS = RHS)"
   ]
  },
  {
   "cell_type": "markdown",
   "id": "c30b564c",
   "metadata": {},
   "source": [
    "## Q.8 What are the Escape Characters in python?"
   ]
  },
  {
   "cell_type": "markdown",
   "id": "8f467321",
   "metadata": {},
   "source": [
    "1. \\’ ---Single Quote (used for Single Quote (if we want to print [dosen't, didn't]))\n",
    "2. \\” ---Double Quote (used for Double Quote (if we want to print [dosen\"t, didn\"t]))\n",
    "3. \\ ---Backslash (To escape backslash character, use a preceding backslash for backslash in the string. That would look like two backslashes in\n",
    "the string.)\n",
    "4. \\n ---New Line (To escape newline character, use a preceding backslash for character ‘n’ in the string.)\n",
    "5. \\r ---Carriage Retrun (To escape carriage return character, use a preceding backslash for character ‘r’ in the string)\n",
    "6. \\t ---Tab (To escape tab character, use a preceding backslash for character ‘t’ in the string.)\n",
    "7. \\b ---Backspace (To escape backspace character, use a preceding backslash for character ‘b’ in the string.)\n",
    "8. \\f ---Form Feed (To escape form feed character, use a preceding backslash for character ‘f’ in the string.)"
   ]
  },
  {
   "cell_type": "markdown",
   "id": "c8669ba4",
   "metadata": {},
   "source": [
    "## Q.9 Which are the different ways to perform string formatting? Explain with example"
   ]
  },
  {
   "cell_type": "code",
   "execution_count": 24,
   "id": "3ed44ae9",
   "metadata": {},
   "outputs": [
    {
     "name": "stdout",
     "output_type": "stream",
     "text": [
      "Value of a is 20 ,Value of b is 40 , Value of c is 60\n",
      "Value of a is 30 ,Value of b is 60 , Value of c is 90\n",
      "Value of a is 40, Value of b is 80.500000, Value of c is Science\n"
     ]
    }
   ],
   "source": [
    "''' There are 3 ways of string formatting\n",
    "1. f string\n",
    "2. .format\n",
    "3. %       '''\n",
    "\n",
    "#Example of f string\n",
    "a = 20\n",
    "b = 40\n",
    "c = 60\n",
    "print (f'Value of a is {a} ,Value of b is {b} , Value of c is {c}')\n",
    "\n",
    "#Example of .format\n",
    "a = 30\n",
    "b = 60\n",
    "c = 90\n",
    "print('Value of a is {} ,Value of b is {} , Value of c is {}' .format(a,b,c))\n",
    "\n",
    "#Example of string formatting using %\n",
    "a = 40\n",
    "b = 80.50\n",
    "c ='Science'\n",
    "print('Value of a is %d, Value of b is %f, Value of c is %s' %(a,b,c))"
   ]
  },
  {
   "cell_type": "markdown",
   "id": "1bd8e3a3",
   "metadata": {},
   "source": [
    "## Q.10 Write a program to print every character of a string entered by the user in a new line using a loop"
   ]
  },
  {
   "cell_type": "code",
   "execution_count": 35,
   "id": "d086eecf",
   "metadata": {
    "collapsed": true
   },
   "outputs": [
    {
     "name": "stdout",
     "output_type": "stream",
     "text": [
      "any string you wantjatin yadav\n",
      "char in index 0 is j\n",
      "char in index 1 is a\n",
      "char in index 2 is t\n",
      "char in index 3 is i\n",
      "char in index 4 is n\n",
      "char in index 5 is  \n",
      "char in index 6 is y\n",
      "char in index 7 is a\n",
      "char in index 8 is d\n",
      "char in index 9 is a\n",
      "char in index 10 is v\n"
     ]
    }
   ],
   "source": [
    "x = input(\"any string you want\")\n",
    "count = 0\n",
    "for i in x:\n",
    "    print(\"char in index\",count,\"is\",i)\n",
    "    count=count+1"
   ]
  },
  {
   "cell_type": "markdown",
   "id": "a8b447a7",
   "metadata": {},
   "source": [
    "## Q.11 Write a program to find the length of the string \"machine learning\" with and without using len function."
   ]
  },
  {
   "cell_type": "code",
   "execution_count": 34,
   "id": "0ff9ea95",
   "metadata": {},
   "outputs": [
    {
     "name": "stdout",
     "output_type": "stream",
     "text": [
      "help of using len function : \n",
      "length of string is : 30\n",
      "\n",
      "\n",
      "help of without len function : \n",
      "length of stri is : 30\n"
     ]
    }
   ],
   "source": [
    "print(\"help of using len function : \")\n",
    "string = 'jatin yadav learn data science'          \n",
    "y = len(string)\n",
    "print(\"length of string is :\",y) \n",
    "print(\"\\n\")\n",
    "\n",
    "print(\"without len function : \")\n",
    "stri = 'jatin yadav learn data science'\n",
    "count = 0\n",
    "for i in stri:\n",
    "    count = count+1\n",
    "print(\"length of stri is :\",count)\n"
   ]
  },
  {
   "cell_type": "markdown",
   "id": "f79056b5",
   "metadata": {},
   "source": [
    "## Q.12 Write a program to check if the word 'orange' is present in the \"This is orange juice\"."
   ]
  },
  {
   "cell_type": "code",
   "execution_count": 44,
   "id": "a5bcffcc",
   "metadata": {},
   "outputs": [
    {
     "data": {
      "text/plain": [
       "True"
      ]
     },
     "execution_count": 44,
     "metadata": {},
     "output_type": "execute_result"
    }
   ],
   "source": [
    "s = 'This is orange juice'\n",
    "s1 = 'orange'\n",
    "s1 in s"
   ]
  },
  {
   "cell_type": "markdown",
   "id": "4bca77c4",
   "metadata": {},
   "source": [
    "## Q.13 Write a program to find the number of vowels, consonants, digits, and white space characters in a string."
   ]
  },
  {
   "cell_type": "code",
   "execution_count": 1,
   "id": "d502d347",
   "metadata": {},
   "outputs": [
    {
     "name": "stdout",
     "output_type": "stream",
     "text": [
      "enter any string you wantjatin yadav 1\n",
      "vowels is : 4\n",
      "consonents is : 6\n",
      "digits is : 1\n",
      "white_space is : 2\n"
     ]
    }
   ],
   "source": [
    "str1 = input(\"enter any string you want\")\n",
    "\n",
    "vowels = 0\n",
    "consonents =0\n",
    "digits = 0\n",
    "white_space = 0\n",
    "\n",
    "str1 = str1.lower()\n",
    "\n",
    "for i in str1 :\n",
    "    if (i == \"a\" or i == \"e\" or i == \"i\" or i == \"o\" or i == \"u\"):\n",
    "        vowels = vowels + 1\n",
    "    elif i.isdigit() :\n",
    "        digits = digits+1\n",
    "    elif i.isspace() :\n",
    "        white_space = white_space + 1\n",
    "    else:\n",
    "        consonents = consonents +1\n",
    "\n",
    "print(\"vowels is :\",vowels)\n",
    "print(\"consonents is :\",consonents)\n",
    "print(\"digits is :\",digits)\n",
    "print(\"white_space is :\",white_space)"
   ]
  },
  {
   "cell_type": "markdown",
   "id": "9502a6e7",
   "metadata": {},
   "source": [
    "## Q.14 Write a Python program to count Uppercase, Lowercase, special character,and numeric values in a given string."
   ]
  },
  {
   "cell_type": "code",
   "execution_count": null,
   "id": "91d2fb6d",
   "metadata": {},
   "outputs": [],
   "source": [
    "str2 = input(\"enter any string you want\")\n",
    "\n",
    "uppercase = 0\n",
    "lowercase = 0\n",
    "numeric_value = 0\n",
    "special_char = 0\n",
    "\n",
    "for i in str2 :\n",
    "    if i.isupper():\n",
    "        uppercase = uppercase + 1\n",
    "    elif i.islower():\n",
    "        lowercase = lowercase + 1\n",
    "    elif i.isdigit():\n",
    "        numeric_value = numeric_value + 1\n",
    "    elif i.isspace():\n",
    "        pass\n",
    "    else:\n",
    "        special_char = special_char + 1\n",
    "\n",
    "\n",
    "print(\"uppercase is :\",uppercase)\n",
    "print(\"lowercase is :\",lowercase)\n",
    "print(\"numeric value is :\",numeric_value)\n",
    "print(\"special char is :\",special_char)"
   ]
  },
  {
   "cell_type": "markdown",
   "id": "ee00168a",
   "metadata": {},
   "source": [
    "## Q.15 Write a program to make a new string with all the consonants deleted from   \"Hello, have a good day\". "
   ]
  },
  {
   "cell_type": "code",
   "execution_count": 2,
   "id": "fc9775f1",
   "metadata": {},
   "outputs": [
    {
     "name": "stdout",
     "output_type": "stream",
     "text": [
      "\n",
      "Removing vowels from the given string\n",
      "New string after successfully removed all the vowels:\n",
      "Hll, hv  gd dy\n"
     ]
    }
   ],
   "source": [
    "string = 'Hello, have a good day'\n",
    "newstr = string\n",
    "print(\"\\nRemoving vowels from the given string\");\n",
    "vowels = ('a', 'e', 'i', 'o', 'u');\n",
    "for i in string.lower():\n",
    "    if i in vowels:\n",
    "        newstr = newstr.replace(i,\"\")\n",
    "print(\"New string after successfully removed all the vowels:\");\n",
    "print(newstr);"
   ]
  },
  {
   "cell_type": "markdown",
   "id": "0df738fa",
   "metadata": {},
   "source": [
    "## Q. 16 Write a Python program to remove the nth index character from a non-empty string."
   ]
  },
  {
   "cell_type": "code",
   "execution_count": 28,
   "id": "d7c60c6a",
   "metadata": {},
   "outputs": [
    {
     "name": "stdout",
     "output_type": "stream",
     "text": [
      "enter any string : machine learning and data science\n",
      "please put nth index value which you want to remove : 5\n",
      "after remove nth index :  machie learning and data science\n"
     ]
    }
   ],
   "source": [
    "str1 = input(\"enter any string : \")\n",
    "n = int(input(\"please put nth index value which you want to remove : \"))\n",
    "\n",
    "first_part = str1[0:n]\n",
    "second_part = str1[n+1:]\n",
    "\n",
    "print(\"after remove nth index : \",first_part + second_part)"
   ]
  },
  {
   "cell_type": "markdown",
   "id": "2c6dd4ad",
   "metadata": {},
   "source": [
    "## Q.17 Write a Python program to change a given string to a new string where the first and last characters have been exchanged."
   ]
  },
  {
   "cell_type": "code",
   "execution_count": 3,
   "id": "0937fefb",
   "metadata": {},
   "outputs": [
    {
     "name": "stdout",
     "output_type": "stream",
     "text": [
      "enter any stringjatin\n",
      "natij\n"
     ]
    }
   ],
   "source": [
    "string = input(\"enter any string\")\n",
    "new_str = string[-1]+string[1:-1]+string[0]\n",
    "print(new_str)"
   ]
  },
  {
   "cell_type": "markdown",
   "id": "0ddd8ab5",
   "metadata": {},
   "source": [
    "## Q.18 Write a Python program to count the occurrences of each word in a given sentence."
   ]
  },
  {
   "cell_type": "code",
   "execution_count": 25,
   "id": "c25889f7",
   "metadata": {},
   "outputs": [
    {
     "data": {
      "text/plain": [
       "{'python': 2, 'is': 2, 'programming': 2, 'language': 1, 'in': 1, 'easy': 1}"
      ]
     },
     "execution_count": 25,
     "metadata": {},
     "output_type": "execute_result"
    }
   ],
   "source": [
    "str1 = 'python is programming language programming in python is easy'\n",
    "str2 = str1.split()\n",
    "def occ_word():\n",
    "    dict = {}\n",
    "    for i in str2:\n",
    "        if i in dict:\n",
    "            dict[i] += 1\n",
    "        else:\n",
    "            dict[i] = 1\n",
    "    return dict\n",
    "occ_word()"
   ]
  },
  {
   "cell_type": "markdown",
   "id": "90badfae",
   "metadata": {},
   "source": [
    "## Q.19 How do you count the occurrence of a given character in a string?"
   ]
  },
  {
   "cell_type": "code",
   "execution_count": 4,
   "id": "26fffb8b",
   "metadata": {},
   "outputs": [
    {
     "name": "stdout",
     "output_type": "stream",
     "text": [
      "Count of o in this string is :  5\n"
     ]
    }
   ],
   "source": [
    "str1 = \"Data science jobs are among the top-paying jobs in the market right now\"\n",
    "count = 0\n",
    "for i in str1:\n",
    "    if i == 'o':\n",
    "        count = count + 1\n",
    "\n",
    "print(\"Count of o in this string is : \" ,count)"
   ]
  },
  {
   "cell_type": "markdown",
   "id": "5cd5cbcd",
   "metadata": {},
   "source": [
    "## Q.20 Write a program to find last 10 characters of a string?"
   ]
  },
  {
   "cell_type": "code",
   "execution_count": 5,
   "id": "14f872c2",
   "metadata": {},
   "outputs": [
    {
     "name": "stdout",
     "output_type": "stream",
     "text": [
      "enter any string : i am a data science student right now.\n",
      "right now.\n"
     ]
    }
   ],
   "source": [
    "str1 = input(\"enter any string : \")\n",
    "str2 = str1[-10:]\n",
    "print(str2)"
   ]
  },
  {
   "cell_type": "markdown",
   "id": "b2d245fc",
   "metadata": {},
   "source": [
    "## Q.21 WAP to convert a given string to all uppercase if it contains at least 2 uppercase characters in the first 4 characters."
   ]
  },
  {
   "cell_type": "code",
   "execution_count": 27,
   "id": "b0dcf090",
   "metadata": {},
   "outputs": [
    {
     "name": "stdout",
     "output_type": "stream",
     "text": [
      "PYTHON\n"
     ]
    }
   ],
   "source": [
    "def to_upper(str1):\n",
    "    num_upper = 0\n",
    "    for i in str1[0:4]:\n",
    "        if i.upper() == i:\n",
    "            num_upper +=1\n",
    "    if num_upper >= 2:\n",
    "        return str1.upper()\n",
    "    return str1\n",
    "\n",
    "print(to_upper('PyThon'))"
   ]
  },
  {
   "cell_type": "markdown",
   "id": "e0dabe9f",
   "metadata": {},
   "source": [
    "## Q.22 Write a Python program to remove a newline in Python."
   ]
  },
  {
   "cell_type": "code",
   "execution_count": 26,
   "id": "70dda0af",
   "metadata": {},
   "outputs": [
    {
     "name": "stdout",
     "output_type": "stream",
     "text": [
      " data science and machine learning \n"
     ]
    }
   ],
   "source": [
    "lis = \"\\n data science and machine learning \\n\"\n",
    "lis = lis.replace('\\n','')\n",
    "print(lis)"
   ]
  },
  {
   "cell_type": "markdown",
   "id": "c4773e96",
   "metadata": {},
   "source": [
    "## Q.23 Write a Python program to swap commas and dots in a string\n",
    "## ○ Sample string: \"32.054,23\"\n",
    "## ○ Expected Output: \"32,054.23\""
   ]
  },
  {
   "cell_type": "code",
   "execution_count": 24,
   "id": "61abb9ec",
   "metadata": {},
   "outputs": [
    {
     "name": "stdout",
     "output_type": "stream",
     "text": [
      "32,054.23\n"
     ]
    }
   ],
   "source": [
    "def swap(str1):\n",
    "    str1 = str1.replace(',', 'a')\n",
    "    str1 = str1.replace('.', ',')\n",
    "    str1 = str1.replace('a', '.')\n",
    "    return str1\n",
    "\n",
    "print(swap(\"32.054,23\"))"
   ]
  },
  {
   "cell_type": "markdown",
   "id": "1db41701",
   "metadata": {},
   "source": [
    "## Q.24  Write a Python program to find the first repeated character in a given string ?"
   ]
  },
  {
   "cell_type": "code",
   "execution_count": 25,
   "id": "0f03d9b8",
   "metadata": {},
   "outputs": [
    {
     "name": "stdout",
     "output_type": "stream",
     "text": [
      "enter string : jatin yadav\n",
      "the first repeated character in a given string is 'a'\n"
     ]
    }
   ],
   "source": [
    "string = input(\"enter string : \")\n",
    "new = \"\"\n",
    "for i in string:\n",
    "    if string.count(i) > 1:\n",
    "        new+=i\n",
    "        break\n",
    "print(f\"the first repeated character in a given string is '{new}'\")"
   ]
  },
  {
   "cell_type": "markdown",
   "id": "314e322a",
   "metadata": {},
   "source": [
    "## Q.25 Write a Python program to find the second most repeated word in a given string ?"
   ]
  },
  {
   "cell_type": "code",
   "execution_count": 11,
   "id": "41ea203b",
   "metadata": {},
   "outputs": [
    {
     "name": "stdout",
     "output_type": "stream",
     "text": [
      "machine llearning\n",
      "second most repeated word is 2\n"
     ]
    }
   ],
   "source": [
    "string = input()\n",
    "temp1 = 0\n",
    "for i in string:\n",
    "    if string.count(i) > temp1: \n",
    "        temp1 = string.count(i)\n",
    "\n",
    "temp2 = 0\n",
    "\n",
    "for j in string:\n",
    "    if string.count(j)>temp2 and string.count(j) != temp1 :\n",
    "        temp2 = string.count(j)\n",
    "print(\"second most repeated word is\",temp2)\n"
   ]
  },
  {
   "cell_type": "markdown",
   "id": "748950c8",
   "metadata": {},
   "source": [
    "## Q.26 Python program to Count Even and Odd numbers in a string ?"
   ]
  },
  {
   "cell_type": "code",
   "execution_count": 1,
   "id": "7aefbee8",
   "metadata": {},
   "outputs": [
    {
     "name": "stdout",
     "output_type": "stream",
     "text": [
      "type any set of number 123\n",
      "[1, 2, 3]\n",
      "even number is :  1\n",
      "odd number is :  2\n"
     ]
    }
   ],
   "source": [
    "num = input(\"type any set of number \")\n",
    "x = [int(a) for a in str(num)]\n",
    "print(x)\n",
    "\n",
    "even = 0\n",
    "odd = 0\n",
    "\n",
    "for i in x:\n",
    "    if (i%2) == 0:\n",
    "        even = even + 1\n",
    "    else:\n",
    "        odd = odd + 1\n",
    "\n",
    "print(\"even number is : \",even)\n",
    "print(\"odd number is : \",odd)"
   ]
  },
  {
   "cell_type": "code",
   "execution_count": null,
   "id": "c3cd072d",
   "metadata": {},
   "outputs": [],
   "source": []
  },
  {
   "cell_type": "markdown",
   "id": "bbdcae7c",
   "metadata": {},
   "source": [
    "## Q.27 How do you check if a string contains only digits?"
   ]
  },
  {
   "cell_type": "code",
   "execution_count": 19,
   "id": "6637a08c",
   "metadata": {},
   "outputs": [
    {
     "name": "stdout",
     "output_type": "stream",
     "text": [
      "any string you want: jatin6yadav\n",
      "String doesn't contains only digits\n"
     ]
    }
   ],
   "source": [
    "num = input(\"any string you want: \")\n",
    "\n",
    "if num.isdigit():\n",
    "    print(\"string contains only digits\")\n",
    "else:\n",
    "    print(\"String doesn't contains only digits\")"
   ]
  },
  {
   "cell_type": "markdown",
   "id": "b22e6df2",
   "metadata": {},
   "source": [
    "## Q.28 How do you remove a given character/word from String?"
   ]
  },
  {
   "cell_type": "code",
   "execution_count": 18,
   "id": "14aa8204",
   "metadata": {},
   "outputs": [
    {
     "name": "stdout",
     "output_type": "stream",
     "text": [
      "data scence and machne learnng\n"
     ]
    }
   ],
   "source": [
    "str = \"data science and machine learning\"\n",
    "str2 = str.replace('i','')\n",
    "print(str2)"
   ]
  },
  {
   "cell_type": "markdown",
   "id": "651e057d",
   "metadata": {},
   "source": [
    "## Q.29 Write a Python program to remove the characters which have odd index values of a given string ?"
   ]
  },
  {
   "cell_type": "code",
   "execution_count": 17,
   "id": "80af6648",
   "metadata": {},
   "outputs": [
    {
     "name": "stdout",
     "output_type": "stream",
     "text": [
      "Enter a string: machine learning\n",
      "Odd characters: ['a', 'h', 'n', ' ', 'e', 'r', 'i', 'g']\n",
      "Even characters: ['m', 'c', 'i', 'e', 'l', 'a', 'n', 'n']\n"
     ]
    }
   ],
   "source": [
    "given_string = input('Enter a string: ')\n",
    "\n",
    "even_chars = []\n",
    "odd_chars = []\n",
    "\n",
    "for i in range(len(given_string)):\n",
    "    if i % 2 == 0:\n",
    "        even_chars.append(given_string[i])\n",
    "    else:\n",
    "        odd_chars.append(given_string[i])\n",
    "\n",
    "print('Odd characters: {}'.format(odd_chars))\n",
    "print('Even characters: {}'.format(even_chars))"
   ]
  },
  {
   "cell_type": "markdown",
   "id": "32dbb975",
   "metadata": {},
   "source": [
    "## Q.30 Write a Python function to reverses a string if its length is a multiple of 5 ?"
   ]
  },
  {
   "cell_type": "code",
   "execution_count": 16,
   "id": "b7fcf1db",
   "metadata": {},
   "outputs": [
    {
     "name": "stdout",
     "output_type": "stream",
     "text": [
      "enter a string : jatinyadav\n",
      "vadaynitaj\n"
     ]
    }
   ],
   "source": [
    "str1 = input(\"enter a string : \")\n",
    "rev_str1 = str1[::-1]\n",
    "\n",
    "if (len(str1)%5) == 0:\n",
    "    print(rev_str1)\n",
    "else:\n",
    "    print(\"string are not multiple of 5\")"
   ]
  },
  {
   "cell_type": "markdown",
   "id": "db791eb5",
   "metadata": {},
   "source": [
    "## Q.31  Write a Python program to format a number with a percentage(0.05 >> 5%)"
   ]
  },
  {
   "cell_type": "code",
   "execution_count": 1,
   "id": "3de63d54",
   "metadata": {},
   "outputs": [
    {
     "name": "stdout",
     "output_type": "stream",
     "text": [
      "0.05\n",
      "5 %\n"
     ]
    }
   ],
   "source": [
    "var = eval(input())\n",
    "per = var*100\n",
    "print(int(per),\"%\")"
   ]
  },
  {
   "cell_type": "markdown",
   "id": "20be079d",
   "metadata": {},
   "source": [
    "## Q.32 Write a Python program to reverse words in a string ?"
   ]
  },
  {
   "cell_type": "code",
   "execution_count": 2,
   "id": "f5a806e1",
   "metadata": {},
   "outputs": [
    {
     "name": "stdout",
     "output_type": "stream",
     "text": [
      "enter string : jatinyadav\n",
      "vadaynitaj\n"
     ]
    }
   ],
   "source": [
    "str1 = input(\"enter string : \")\n",
    "rev_str1 = str1[::-1]\n",
    "print(rev_str1)"
   ]
  },
  {
   "cell_type": "markdown",
   "id": "b4b55e53",
   "metadata": {},
   "source": [
    "## Q.33 Write a Python program to swap cases of a given string"
   ]
  },
  {
   "cell_type": "code",
   "execution_count": 15,
   "id": "7b12ca2e",
   "metadata": {},
   "outputs": [
    {
     "name": "stdout",
     "output_type": "stream",
     "text": [
      "comPUTER scEINce\n",
      "daTA scIENCE & macHINE lEArNING\n"
     ]
    }
   ],
   "source": [
    "string = \"COMputer SCeinCE\"\n",
    "print(string.swapcase())\n",
    "\n",
    "string = \"DAta SCience & MAChine LeaRning\"\n",
    "print(string.swapcase())"
   ]
  },
  {
   "cell_type": "markdown",
   "id": "de650c06",
   "metadata": {},
   "source": [
    "## Q.34 Write a Python program to remove spaces from a given string"
   ]
  },
  {
   "cell_type": "code",
   "execution_count": 7,
   "id": "768ca6f2",
   "metadata": {},
   "outputs": [
    {
     "name": "stdout",
     "output_type": "stream",
     "text": [
      "enter any string with space : jatin yadav is\n",
      "jatinyadavis\n"
     ]
    }
   ],
   "source": [
    "str1 = input(\"enter any string with space : \")\n",
    "str2 = str1.replace(' ','')\n",
    "print(str2)"
   ]
  },
  {
   "cell_type": "markdown",
   "id": "c2d31863",
   "metadata": {},
   "source": [
    "## Q.35 Write a Python program to remove duplicate characters of a given string"
   ]
  },
  {
   "cell_type": "code",
   "execution_count": 14,
   "id": "4f0150c5",
   "metadata": {},
   "outputs": [
    {
     "name": "stdout",
     "output_type": "stream",
     "text": [
      "abcd\n"
     ]
    }
   ],
   "source": [
    "str = \"ababacdcdcd\"\n",
    "z = \"\"\n",
    "for i in str:\n",
    "    if i not in z:\n",
    "        z = z+i\n",
    "print(z)"
   ]
  },
  {
   "cell_type": "markdown",
   "id": "e620ca66",
   "metadata": {},
   "source": [
    "## Q.36 Write a Python Program to find the area of a circle"
   ]
  },
  {
   "cell_type": "code",
   "execution_count": 8,
   "id": "677dfe72",
   "metadata": {},
   "outputs": [
    {
     "name": "stdout",
     "output_type": "stream",
     "text": [
      "To area of circle :\n",
      "enter radius of circle : 4\n",
      "50.24\n"
     ]
    }
   ],
   "source": [
    "print(\"To area of circle :\")\n",
    "pie = 3.14\n",
    "r = int(input(\"enter radius of circle : \"))\n",
    "\n",
    "area = pie*(r*r)\n",
    "print(area)"
   ]
  },
  {
   "cell_type": "markdown",
   "id": "8f033102",
   "metadata": {},
   "source": [
    "## Q.37 Python Program to find Sum of squares of first n natural numbers"
   ]
  },
  {
   "cell_type": "code",
   "execution_count": 9,
   "id": "e665bd7a",
   "metadata": {},
   "outputs": [
    {
     "name": "stdout",
     "output_type": "stream",
     "text": [
      "find Sum of squares of first n natural number : \n",
      "value please : 5\n",
      "55.0\n"
     ]
    }
   ],
   "source": [
    "print(\"find Sum of squares of first n natural number : \")\n",
    "n = int(input(\"value please : \"))\n",
    "f1 = (n*(n+1)*((2*n)+1))/6\n",
    "print(f1)"
   ]
  },
  {
   "cell_type": "markdown",
   "id": "f2af8510",
   "metadata": {},
   "source": [
    "## Q.38 Python Program to find cube sum of first n natural numbers"
   ]
  },
  {
   "cell_type": "code",
   "execution_count": 12,
   "id": "f2855ac6",
   "metadata": {},
   "outputs": [
    {
     "name": "stdout",
     "output_type": "stream",
     "text": [
      "find cube sum of first n natural numbers : \n",
      "value please : 5\n",
      "225.0\n"
     ]
    }
   ],
   "source": [
    "print(\"find cube sum of first n natural numbers : \")\n",
    "n = int(input(\"value please : \"))\n",
    "f = ((n*(n+1))/2) ** 2\n",
    "print(f)"
   ]
  },
  {
   "cell_type": "markdown",
   "id": "19042356",
   "metadata": {},
   "source": [
    "## Q.39 Python Program to find simple interest and compound interest"
   ]
  },
  {
   "cell_type": "code",
   "execution_count": 20,
   "id": "1fbb57ad",
   "metadata": {},
   "outputs": [
    {
     "name": "stdout",
     "output_type": "stream",
     "text": [
      "To find S.I. & C.I. : \n",
      "enter the value of principle : 1200\n",
      " enter the value of time : 2\n",
      " enter the value of rate of intrest : 5\n",
      "\n",
      "\n",
      "value of Simple intrest is :  120.0\n",
      "\n",
      "\n",
      "value of Compound intrest is :  1586400.0\n"
     ]
    }
   ],
   "source": [
    "print(\"To find S.I. & C.I. : \")\n",
    "p =  int(input(\"enter the value of principle : \"))\n",
    "t =  int(input(\" enter the value of time : \"))\n",
    "r =  int(input(\" enter the value of rate of intrest : \"))\n",
    "SI = (p*t*r)/100\n",
    "A = (p*(1+(r/100))) ** (t)\n",
    "CI = A-p\n",
    "print(\"\\n\")\n",
    "print(\"value of Simple intrest is : \",SI)\n",
    "print(\"\\n\")\n",
    "print(\"value of Compound intrest is : \",CI)"
   ]
  },
  {
   "cell_type": "markdown",
   "id": "cbe787ce",
   "metadata": {},
   "source": [
    "## Q.40 Python program to check whether a number is Prime or not"
   ]
  },
  {
   "cell_type": "code",
   "execution_count": 13,
   "id": "4a94e442",
   "metadata": {},
   "outputs": [
    {
     "name": "stdout",
     "output_type": "stream",
     "text": [
      "enter any number :101\n",
      "101  is prime number\n"
     ]
    }
   ],
   "source": [
    "num = int(input(\"enter any number :\"))\n",
    "\n",
    "if num>1:\n",
    "    for i in range(2,num):\n",
    "       if (num %i) == 0:\n",
    "           print(\" not a prime number \")\n",
    "           print(i , \" times \",num//i,\" is \",num)\n",
    "           break\n",
    "    else:\n",
    "        print(num , \" is prime number\")\n",
    "\n",
    "else:\n",
    "    print(\"not a prime number\")"
   ]
  }
 ],
 "metadata": {
  "kernelspec": {
   "display_name": "Python 3 (ipykernel)",
   "language": "python",
   "name": "python3"
  },
  "language_info": {
   "codemirror_mode": {
    "name": "ipython",
    "version": 3
   },
   "file_extension": ".py",
   "mimetype": "text/x-python",
   "name": "python",
   "nbconvert_exporter": "python",
   "pygments_lexer": "ipython3",
   "version": "3.10.7"
  }
 },
 "nbformat": 4,
 "nbformat_minor": 5
}
