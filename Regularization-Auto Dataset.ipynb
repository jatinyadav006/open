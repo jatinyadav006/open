{
 "cells": [
  {
   "cell_type": "markdown",
   "id": "7923943e",
   "metadata": {},
   "source": [
    "## Import Libraries"
   ]
  },
  {
   "cell_type": "code",
   "execution_count": 123,
   "id": "94b22c01",
   "metadata": {},
   "outputs": [],
   "source": [
    "import pandas as pd\n",
    "import numpy as np\n",
    "\n",
    "import matplotlib.pyplot as plt\n",
    "import seaborn as sns\n",
    "\n",
    "import warnings\n",
    "warnings.filterwarnings('ignore')\n",
    "\n",
    "from sklearn.model_selection import train_test_split\n",
    "from sklearn.model_selection import GridSearchCV, RandomizedSearchCV\n",
    "from sklearn.model_selection import cross_val_score, KFold, StratifiedKFold\n",
    "\n",
    "from sklearn.linear_model import LinearRegression, Lasso, Ridge\n",
    "\n",
    "from sklearn.metrics import mean_absolute_error, mean_squared_error, r2_score"
   ]
  },
  {
   "cell_type": "markdown",
   "id": "3d907f8b",
   "metadata": {},
   "source": [
    "## 1. Problem Statement"
   ]
  },
  {
   "cell_type": "markdown",
   "id": "6bd1b524",
   "metadata": {},
   "source": [
    "To predict the car price using various variables\n",
    "\n",
    "Dependent Variable:\n",
    "    'price'\n",
    "\n",
    "Independent Variables:\n",
    "    'symboling', 'normalized-losses', 'make', 'fuel-type', 'aspiration',\n",
    "       'num-of-doors', 'body-style', 'drive-wheels', 'engine-location',\n",
    "       'wheel-base', 'length', 'width', 'height', 'curb-weight', 'engine-type',\n",
    "       'num-of-cylinders', 'engine-size', 'fuel-system', 'bore', 'stroke',\n",
    "       'compression-ratio', 'horsepower', 'peak-rpm', 'city-mpg',\n",
    "       'highway-mpg', "
   ]
  },
  {
   "cell_type": "markdown",
   "id": "64c8febf",
   "metadata": {},
   "source": [
    "## 2. Data Gathering"
   ]
  },
  {
   "cell_type": "code",
   "execution_count": 2,
   "id": "d9a13042",
   "metadata": {},
   "outputs": [
    {
     "data": {
      "text/html": [
       "<div>\n",
       "<style scoped>\n",
       "    .dataframe tbody tr th:only-of-type {\n",
       "        vertical-align: middle;\n",
       "    }\n",
       "\n",
       "    .dataframe tbody tr th {\n",
       "        vertical-align: top;\n",
       "    }\n",
       "\n",
       "    .dataframe thead th {\n",
       "        text-align: right;\n",
       "    }\n",
       "</style>\n",
       "<table border=\"1\" class=\"dataframe\">\n",
       "  <thead>\n",
       "    <tr style=\"text-align: right;\">\n",
       "      <th></th>\n",
       "      <th>0</th>\n",
       "      <th>1</th>\n",
       "      <th>2</th>\n",
       "      <th>3</th>\n",
       "      <th>4</th>\n",
       "    </tr>\n",
       "  </thead>\n",
       "  <tbody>\n",
       "    <tr>\n",
       "      <th>symboling</th>\n",
       "      <td>3</td>\n",
       "      <td>3</td>\n",
       "      <td>1</td>\n",
       "      <td>2</td>\n",
       "      <td>2</td>\n",
       "    </tr>\n",
       "    <tr>\n",
       "      <th>normalized-losses</th>\n",
       "      <td>?</td>\n",
       "      <td>?</td>\n",
       "      <td>?</td>\n",
       "      <td>164</td>\n",
       "      <td>164</td>\n",
       "    </tr>\n",
       "    <tr>\n",
       "      <th>make</th>\n",
       "      <td>alfa-romero</td>\n",
       "      <td>alfa-romero</td>\n",
       "      <td>alfa-romero</td>\n",
       "      <td>audi</td>\n",
       "      <td>audi</td>\n",
       "    </tr>\n",
       "    <tr>\n",
       "      <th>fuel-type</th>\n",
       "      <td>gas</td>\n",
       "      <td>gas</td>\n",
       "      <td>gas</td>\n",
       "      <td>gas</td>\n",
       "      <td>gas</td>\n",
       "    </tr>\n",
       "    <tr>\n",
       "      <th>aspiration</th>\n",
       "      <td>std</td>\n",
       "      <td>std</td>\n",
       "      <td>std</td>\n",
       "      <td>std</td>\n",
       "      <td>std</td>\n",
       "    </tr>\n",
       "    <tr>\n",
       "      <th>num-of-doors</th>\n",
       "      <td>two</td>\n",
       "      <td>two</td>\n",
       "      <td>two</td>\n",
       "      <td>four</td>\n",
       "      <td>four</td>\n",
       "    </tr>\n",
       "    <tr>\n",
       "      <th>body-style</th>\n",
       "      <td>convertible</td>\n",
       "      <td>convertible</td>\n",
       "      <td>hatchback</td>\n",
       "      <td>sedan</td>\n",
       "      <td>sedan</td>\n",
       "    </tr>\n",
       "    <tr>\n",
       "      <th>drive-wheels</th>\n",
       "      <td>rwd</td>\n",
       "      <td>rwd</td>\n",
       "      <td>rwd</td>\n",
       "      <td>fwd</td>\n",
       "      <td>4wd</td>\n",
       "    </tr>\n",
       "    <tr>\n",
       "      <th>engine-location</th>\n",
       "      <td>front</td>\n",
       "      <td>front</td>\n",
       "      <td>front</td>\n",
       "      <td>front</td>\n",
       "      <td>front</td>\n",
       "    </tr>\n",
       "    <tr>\n",
       "      <th>wheel-base</th>\n",
       "      <td>88.6</td>\n",
       "      <td>88.6</td>\n",
       "      <td>94.5</td>\n",
       "      <td>99.8</td>\n",
       "      <td>99.4</td>\n",
       "    </tr>\n",
       "    <tr>\n",
       "      <th>length</th>\n",
       "      <td>168.8</td>\n",
       "      <td>168.8</td>\n",
       "      <td>171.2</td>\n",
       "      <td>176.6</td>\n",
       "      <td>176.6</td>\n",
       "    </tr>\n",
       "    <tr>\n",
       "      <th>width</th>\n",
       "      <td>64.1</td>\n",
       "      <td>64.1</td>\n",
       "      <td>65.5</td>\n",
       "      <td>66.2</td>\n",
       "      <td>66.4</td>\n",
       "    </tr>\n",
       "    <tr>\n",
       "      <th>height</th>\n",
       "      <td>48.8</td>\n",
       "      <td>48.8</td>\n",
       "      <td>52.4</td>\n",
       "      <td>54.3</td>\n",
       "      <td>54.3</td>\n",
       "    </tr>\n",
       "    <tr>\n",
       "      <th>curb-weight</th>\n",
       "      <td>2548</td>\n",
       "      <td>2548</td>\n",
       "      <td>2823</td>\n",
       "      <td>2337</td>\n",
       "      <td>2824</td>\n",
       "    </tr>\n",
       "    <tr>\n",
       "      <th>engine-type</th>\n",
       "      <td>dohc</td>\n",
       "      <td>dohc</td>\n",
       "      <td>ohcv</td>\n",
       "      <td>ohc</td>\n",
       "      <td>ohc</td>\n",
       "    </tr>\n",
       "    <tr>\n",
       "      <th>num-of-cylinders</th>\n",
       "      <td>four</td>\n",
       "      <td>four</td>\n",
       "      <td>six</td>\n",
       "      <td>four</td>\n",
       "      <td>five</td>\n",
       "    </tr>\n",
       "    <tr>\n",
       "      <th>engine-size</th>\n",
       "      <td>130</td>\n",
       "      <td>130</td>\n",
       "      <td>152</td>\n",
       "      <td>109</td>\n",
       "      <td>136</td>\n",
       "    </tr>\n",
       "    <tr>\n",
       "      <th>fuel-system</th>\n",
       "      <td>mpfi</td>\n",
       "      <td>mpfi</td>\n",
       "      <td>mpfi</td>\n",
       "      <td>mpfi</td>\n",
       "      <td>mpfi</td>\n",
       "    </tr>\n",
       "    <tr>\n",
       "      <th>bore</th>\n",
       "      <td>3.47</td>\n",
       "      <td>3.47</td>\n",
       "      <td>2.68</td>\n",
       "      <td>3.19</td>\n",
       "      <td>3.19</td>\n",
       "    </tr>\n",
       "    <tr>\n",
       "      <th>stroke</th>\n",
       "      <td>2.68</td>\n",
       "      <td>2.68</td>\n",
       "      <td>3.47</td>\n",
       "      <td>3.4</td>\n",
       "      <td>3.4</td>\n",
       "    </tr>\n",
       "    <tr>\n",
       "      <th>compression-ratio</th>\n",
       "      <td>9.0</td>\n",
       "      <td>9.0</td>\n",
       "      <td>9.0</td>\n",
       "      <td>10.0</td>\n",
       "      <td>8.0</td>\n",
       "    </tr>\n",
       "    <tr>\n",
       "      <th>horsepower</th>\n",
       "      <td>111</td>\n",
       "      <td>111</td>\n",
       "      <td>154</td>\n",
       "      <td>102</td>\n",
       "      <td>115</td>\n",
       "    </tr>\n",
       "    <tr>\n",
       "      <th>peak-rpm</th>\n",
       "      <td>5000</td>\n",
       "      <td>5000</td>\n",
       "      <td>5000</td>\n",
       "      <td>5500</td>\n",
       "      <td>5500</td>\n",
       "    </tr>\n",
       "    <tr>\n",
       "      <th>city-mpg</th>\n",
       "      <td>21</td>\n",
       "      <td>21</td>\n",
       "      <td>19</td>\n",
       "      <td>24</td>\n",
       "      <td>18</td>\n",
       "    </tr>\n",
       "    <tr>\n",
       "      <th>highway-mpg</th>\n",
       "      <td>27</td>\n",
       "      <td>27</td>\n",
       "      <td>26</td>\n",
       "      <td>30</td>\n",
       "      <td>22</td>\n",
       "    </tr>\n",
       "    <tr>\n",
       "      <th>price</th>\n",
       "      <td>13495</td>\n",
       "      <td>16500</td>\n",
       "      <td>16500</td>\n",
       "      <td>13950</td>\n",
       "      <td>17450</td>\n",
       "    </tr>\n",
       "  </tbody>\n",
       "</table>\n",
       "</div>"
      ],
      "text/plain": [
       "                             0            1            2      3      4\n",
       "symboling                    3            3            1      2      2\n",
       "normalized-losses            ?            ?            ?    164    164\n",
       "make               alfa-romero  alfa-romero  alfa-romero   audi   audi\n",
       "fuel-type                  gas          gas          gas    gas    gas\n",
       "aspiration                 std          std          std    std    std\n",
       "num-of-doors               two          two          two   four   four\n",
       "body-style         convertible  convertible    hatchback  sedan  sedan\n",
       "drive-wheels               rwd          rwd          rwd    fwd    4wd\n",
       "engine-location          front        front        front  front  front\n",
       "wheel-base                88.6         88.6         94.5   99.8   99.4\n",
       "length                   168.8        168.8        171.2  176.6  176.6\n",
       "width                     64.1         64.1         65.5   66.2   66.4\n",
       "height                    48.8         48.8         52.4   54.3   54.3\n",
       "curb-weight               2548         2548         2823   2337   2824\n",
       "engine-type               dohc         dohc         ohcv    ohc    ohc\n",
       "num-of-cylinders          four         four          six   four   five\n",
       "engine-size                130          130          152    109    136\n",
       "fuel-system               mpfi         mpfi         mpfi   mpfi   mpfi\n",
       "bore                      3.47         3.47         2.68   3.19   3.19\n",
       "stroke                    2.68         2.68         3.47    3.4    3.4\n",
       "compression-ratio          9.0          9.0          9.0   10.0    8.0\n",
       "horsepower                 111          111          154    102    115\n",
       "peak-rpm                  5000         5000         5000   5500   5500\n",
       "city-mpg                    21           21           19     24     18\n",
       "highway-mpg                 27           27           26     30     22\n",
       "price                    13495        16500        16500  13950  17450"
      ]
     },
     "execution_count": 2,
     "metadata": {},
     "output_type": "execute_result"
    }
   ],
   "source": [
    "df_autos = pd.read_csv('autos_dataset.csv')\n",
    "df_autos.head().T"
   ]
  },
  {
   "cell_type": "code",
   "execution_count": 3,
   "id": "cabdaba3",
   "metadata": {},
   "outputs": [
    {
     "data": {
      "text/plain": [
       "Index(['symboling', 'normalized-losses', 'make', 'fuel-type', 'aspiration',\n",
       "       'num-of-doors', 'body-style', 'drive-wheels', 'engine-location',\n",
       "       'wheel-base', 'length', 'width', 'height', 'curb-weight', 'engine-type',\n",
       "       'num-of-cylinders', 'engine-size', 'fuel-system', 'bore', 'stroke',\n",
       "       'compression-ratio', 'horsepower', 'peak-rpm', 'city-mpg',\n",
       "       'highway-mpg', 'price'],\n",
       "      dtype='object')"
      ]
     },
     "execution_count": 3,
     "metadata": {},
     "output_type": "execute_result"
    }
   ],
   "source": [
    "df_autos.columns"
   ]
  },
  {
   "cell_type": "code",
   "execution_count": 4,
   "id": "c53c4cc8",
   "metadata": {},
   "outputs": [
    {
     "name": "stdout",
     "output_type": "stream",
     "text": [
      "<class 'pandas.core.frame.DataFrame'>\n",
      "RangeIndex: 205 entries, 0 to 204\n",
      "Data columns (total 26 columns):\n",
      " #   Column             Non-Null Count  Dtype  \n",
      "---  ------             --------------  -----  \n",
      " 0   symboling          205 non-null    int64  \n",
      " 1   normalized-losses  205 non-null    object \n",
      " 2   make               205 non-null    object \n",
      " 3   fuel-type          205 non-null    object \n",
      " 4   aspiration         205 non-null    object \n",
      " 5   num-of-doors       205 non-null    object \n",
      " 6   body-style         205 non-null    object \n",
      " 7   drive-wheels       205 non-null    object \n",
      " 8   engine-location    205 non-null    object \n",
      " 9   wheel-base         205 non-null    float64\n",
      " 10  length             205 non-null    float64\n",
      " 11  width              205 non-null    float64\n",
      " 12  height             205 non-null    float64\n",
      " 13  curb-weight        205 non-null    int64  \n",
      " 14  engine-type        205 non-null    object \n",
      " 15  num-of-cylinders   205 non-null    object \n",
      " 16  engine-size        205 non-null    int64  \n",
      " 17  fuel-system        205 non-null    object \n",
      " 18  bore               205 non-null    object \n",
      " 19  stroke             205 non-null    object \n",
      " 20  compression-ratio  205 non-null    float64\n",
      " 21  horsepower         205 non-null    object \n",
      " 22  peak-rpm           205 non-null    object \n",
      " 23  city-mpg           205 non-null    int64  \n",
      " 24  highway-mpg        205 non-null    int64  \n",
      " 25  price              205 non-null    object \n",
      "dtypes: float64(5), int64(5), object(16)\n",
      "memory usage: 41.8+ KB\n"
     ]
    }
   ],
   "source": [
    "df_autos.info()"
   ]
  },
  {
   "cell_type": "markdown",
   "id": "c14e2251",
   "metadata": {},
   "source": [
    "## 3. Exploratory Data Analysis"
   ]
  },
  {
   "cell_type": "code",
   "execution_count": 5,
   "id": "88a97d8e",
   "metadata": {},
   "outputs": [
    {
     "data": {
      "text/plain": [
       "symboling            0\n",
       "normalized-losses    0\n",
       "make                 0\n",
       "fuel-type            0\n",
       "aspiration           0\n",
       "num-of-doors         0\n",
       "body-style           0\n",
       "drive-wheels         0\n",
       "engine-location      0\n",
       "wheel-base           0\n",
       "length               0\n",
       "width                0\n",
       "height               0\n",
       "curb-weight          0\n",
       "engine-type          0\n",
       "num-of-cylinders     0\n",
       "engine-size          0\n",
       "fuel-system          0\n",
       "bore                 0\n",
       "stroke               0\n",
       "compression-ratio    0\n",
       "horsepower           0\n",
       "peak-rpm             0\n",
       "city-mpg             0\n",
       "highway-mpg          0\n",
       "price                0\n",
       "dtype: int64"
      ]
     },
     "execution_count": 5,
     "metadata": {},
     "output_type": "execute_result"
    }
   ],
   "source": [
    "df_autos.isna().sum()"
   ]
  },
  {
   "cell_type": "code",
   "execution_count": 6,
   "id": "568e981b",
   "metadata": {},
   "outputs": [
    {
     "data": {
      "text/plain": [
       "(41, 26)"
      ]
     },
     "execution_count": 6,
     "metadata": {},
     "output_type": "execute_result"
    }
   ],
   "source": [
    "df_autos[df_autos['normalized-losses'] == '?'].shape"
   ]
  },
  {
   "cell_type": "code",
   "execution_count": 7,
   "id": "72061908",
   "metadata": {},
   "outputs": [
    {
     "data": {
      "text/plain": [
       "symboling             0\n",
       "normalized-losses    41\n",
       "make                  0\n",
       "fuel-type             0\n",
       "aspiration            0\n",
       "num-of-doors          2\n",
       "body-style            0\n",
       "drive-wheels          0\n",
       "engine-location       0\n",
       "wheel-base            0\n",
       "length                0\n",
       "width                 0\n",
       "height                0\n",
       "curb-weight           0\n",
       "engine-type           0\n",
       "num-of-cylinders      0\n",
       "engine-size           0\n",
       "fuel-system           0\n",
       "bore                  4\n",
       "stroke                4\n",
       "compression-ratio     0\n",
       "horsepower            2\n",
       "peak-rpm              2\n",
       "city-mpg              0\n",
       "highway-mpg           0\n",
       "price                 4\n",
       "dtype: int64"
      ]
     },
     "execution_count": 7,
     "metadata": {},
     "output_type": "execute_result"
    }
   ],
   "source": [
    "df_autos.replace({'?':np.nan}, inplace=True)\n",
    "df_autos.isna().sum()"
   ]
  },
  {
   "cell_type": "code",
   "execution_count": 8,
   "id": "146e0255",
   "metadata": {},
   "outputs": [
    {
     "data": {
      "text/plain": [
       "symboling             0.00000\n",
       "normalized-losses    20.00000\n",
       "make                  0.00000\n",
       "fuel-type             0.00000\n",
       "aspiration            0.00000\n",
       "num-of-doors          0.97561\n",
       "body-style            0.00000\n",
       "drive-wheels          0.00000\n",
       "engine-location       0.00000\n",
       "wheel-base            0.00000\n",
       "length                0.00000\n",
       "width                 0.00000\n",
       "height                0.00000\n",
       "curb-weight           0.00000\n",
       "engine-type           0.00000\n",
       "num-of-cylinders      0.00000\n",
       "engine-size           0.00000\n",
       "fuel-system           0.00000\n",
       "bore                  1.95122\n",
       "stroke                1.95122\n",
       "compression-ratio     0.00000\n",
       "horsepower            0.97561\n",
       "peak-rpm              0.97561\n",
       "city-mpg              0.00000\n",
       "highway-mpg           0.00000\n",
       "price                 1.95122\n",
       "dtype: float64"
      ]
     },
     "execution_count": 8,
     "metadata": {},
     "output_type": "execute_result"
    }
   ],
   "source": [
    "df_autos.isna().mean()*100"
   ]
  },
  {
   "cell_type": "markdown",
   "id": "3a6757e8",
   "metadata": {},
   "source": [
    "## 3.1 symboling"
   ]
  },
  {
   "cell_type": "code",
   "execution_count": 9,
   "id": "96c77aaa",
   "metadata": {},
   "outputs": [
    {
     "data": {
      "text/plain": [
       "0      3\n",
       "1      3\n",
       "2      1\n",
       "3      2\n",
       "4      2\n",
       "      ..\n",
       "200   -1\n",
       "201   -1\n",
       "202   -1\n",
       "203   -1\n",
       "204   -1\n",
       "Name: symboling, Length: 205, dtype: int64"
      ]
     },
     "execution_count": 9,
     "metadata": {},
     "output_type": "execute_result"
    }
   ],
   "source": [
    "df_autos['symboling']"
   ]
  },
  {
   "cell_type": "code",
   "execution_count": 10,
   "id": "f3274222",
   "metadata": {},
   "outputs": [
    {
     "data": {
      "text/plain": [
       "6"
      ]
     },
     "execution_count": 10,
     "metadata": {},
     "output_type": "execute_result"
    }
   ],
   "source": [
    "df_autos['symboling'].nunique()"
   ]
  },
  {
   "cell_type": "code",
   "execution_count": 11,
   "id": "fbf759e1",
   "metadata": {},
   "outputs": [
    {
     "data": {
      "text/plain": [
       " 0    67\n",
       " 1    54\n",
       " 2    32\n",
       " 3    27\n",
       "-1    22\n",
       "-2     3\n",
       "Name: symboling, dtype: int64"
      ]
     },
     "execution_count": 11,
     "metadata": {},
     "output_type": "execute_result"
    }
   ],
   "source": [
    "df_autos['symboling'].value_counts()"
   ]
  },
  {
   "cell_type": "markdown",
   "id": "78e4be74",
   "metadata": {},
   "source": [
    "## 3.2 normalized-losses"
   ]
  },
  {
   "cell_type": "code",
   "execution_count": 12,
   "id": "980d8c74",
   "metadata": {},
   "outputs": [
    {
     "data": {
      "text/plain": [
       "0      NaN\n",
       "1      NaN\n",
       "2      NaN\n",
       "3      164\n",
       "4      164\n",
       "      ... \n",
       "200     95\n",
       "201     95\n",
       "202     95\n",
       "203     95\n",
       "204     95\n",
       "Name: normalized-losses, Length: 205, dtype: object"
      ]
     },
     "execution_count": 12,
     "metadata": {},
     "output_type": "execute_result"
    }
   ],
   "source": [
    "df_autos['normalized-losses']"
   ]
  },
  {
   "cell_type": "markdown",
   "id": "38e5333a",
   "metadata": {},
   "source": [
    "mean >> If outliers are not present\n",
    "median >> if outliers are present\n",
    "KNN Imputer/Mice Imputer/Simple Imputer >> Small dataset with more than 10-15%\n",
    "\n",
    "Null Values ratio >> Fill ratio\n",
    "\n",
    "30% or more >> Drop Column"
   ]
  },
  {
   "cell_type": "markdown",
   "id": "7ff64c24",
   "metadata": {},
   "source": [
    "60000/200000"
   ]
  },
  {
   "cell_type": "markdown",
   "id": "222212e7",
   "metadata": {},
   "source": [
    "60000/400000"
   ]
  },
  {
   "cell_type": "code",
   "execution_count": 13,
   "id": "3b30bcfd",
   "metadata": {},
   "outputs": [
    {
     "data": {
      "text/html": [
       "<div>\n",
       "<style scoped>\n",
       "    .dataframe tbody tr th:only-of-type {\n",
       "        vertical-align: middle;\n",
       "    }\n",
       "\n",
       "    .dataframe tbody tr th {\n",
       "        vertical-align: top;\n",
       "    }\n",
       "\n",
       "    .dataframe thead th {\n",
       "        text-align: right;\n",
       "    }\n",
       "</style>\n",
       "<table border=\"1\" class=\"dataframe\">\n",
       "  <thead>\n",
       "    <tr style=\"text-align: right;\">\n",
       "      <th></th>\n",
       "      <th>symboling</th>\n",
       "      <th>wheel-base</th>\n",
       "      <th>length</th>\n",
       "      <th>width</th>\n",
       "      <th>height</th>\n",
       "      <th>curb-weight</th>\n",
       "      <th>engine-size</th>\n",
       "      <th>compression-ratio</th>\n",
       "      <th>city-mpg</th>\n",
       "      <th>highway-mpg</th>\n",
       "    </tr>\n",
       "  </thead>\n",
       "  <tbody>\n",
       "    <tr>\n",
       "      <th>count</th>\n",
       "      <td>205.000000</td>\n",
       "      <td>205.000000</td>\n",
       "      <td>205.000000</td>\n",
       "      <td>205.000000</td>\n",
       "      <td>205.000000</td>\n",
       "      <td>205.000000</td>\n",
       "      <td>205.000000</td>\n",
       "      <td>205.000000</td>\n",
       "      <td>205.000000</td>\n",
       "      <td>205.000000</td>\n",
       "    </tr>\n",
       "    <tr>\n",
       "      <th>mean</th>\n",
       "      <td>0.834146</td>\n",
       "      <td>98.756585</td>\n",
       "      <td>174.049268</td>\n",
       "      <td>65.907805</td>\n",
       "      <td>53.724878</td>\n",
       "      <td>2555.565854</td>\n",
       "      <td>126.907317</td>\n",
       "      <td>10.142537</td>\n",
       "      <td>25.219512</td>\n",
       "      <td>30.751220</td>\n",
       "    </tr>\n",
       "    <tr>\n",
       "      <th>std</th>\n",
       "      <td>1.245307</td>\n",
       "      <td>6.021776</td>\n",
       "      <td>12.337289</td>\n",
       "      <td>2.145204</td>\n",
       "      <td>2.443522</td>\n",
       "      <td>520.680204</td>\n",
       "      <td>41.642693</td>\n",
       "      <td>3.972040</td>\n",
       "      <td>6.542142</td>\n",
       "      <td>6.886443</td>\n",
       "    </tr>\n",
       "    <tr>\n",
       "      <th>min</th>\n",
       "      <td>-2.000000</td>\n",
       "      <td>86.600000</td>\n",
       "      <td>141.100000</td>\n",
       "      <td>60.300000</td>\n",
       "      <td>47.800000</td>\n",
       "      <td>1488.000000</td>\n",
       "      <td>61.000000</td>\n",
       "      <td>7.000000</td>\n",
       "      <td>13.000000</td>\n",
       "      <td>16.000000</td>\n",
       "    </tr>\n",
       "    <tr>\n",
       "      <th>25%</th>\n",
       "      <td>0.000000</td>\n",
       "      <td>94.500000</td>\n",
       "      <td>166.300000</td>\n",
       "      <td>64.100000</td>\n",
       "      <td>52.000000</td>\n",
       "      <td>2145.000000</td>\n",
       "      <td>97.000000</td>\n",
       "      <td>8.600000</td>\n",
       "      <td>19.000000</td>\n",
       "      <td>25.000000</td>\n",
       "    </tr>\n",
       "    <tr>\n",
       "      <th>50%</th>\n",
       "      <td>1.000000</td>\n",
       "      <td>97.000000</td>\n",
       "      <td>173.200000</td>\n",
       "      <td>65.500000</td>\n",
       "      <td>54.100000</td>\n",
       "      <td>2414.000000</td>\n",
       "      <td>120.000000</td>\n",
       "      <td>9.000000</td>\n",
       "      <td>24.000000</td>\n",
       "      <td>30.000000</td>\n",
       "    </tr>\n",
       "    <tr>\n",
       "      <th>75%</th>\n",
       "      <td>2.000000</td>\n",
       "      <td>102.400000</td>\n",
       "      <td>183.100000</td>\n",
       "      <td>66.900000</td>\n",
       "      <td>55.500000</td>\n",
       "      <td>2935.000000</td>\n",
       "      <td>141.000000</td>\n",
       "      <td>9.400000</td>\n",
       "      <td>30.000000</td>\n",
       "      <td>34.000000</td>\n",
       "    </tr>\n",
       "    <tr>\n",
       "      <th>max</th>\n",
       "      <td>3.000000</td>\n",
       "      <td>120.900000</td>\n",
       "      <td>208.100000</td>\n",
       "      <td>72.300000</td>\n",
       "      <td>59.800000</td>\n",
       "      <td>4066.000000</td>\n",
       "      <td>326.000000</td>\n",
       "      <td>23.000000</td>\n",
       "      <td>49.000000</td>\n",
       "      <td>54.000000</td>\n",
       "    </tr>\n",
       "  </tbody>\n",
       "</table>\n",
       "</div>"
      ],
      "text/plain": [
       "        symboling  wheel-base      length       width      height  \\\n",
       "count  205.000000  205.000000  205.000000  205.000000  205.000000   \n",
       "mean     0.834146   98.756585  174.049268   65.907805   53.724878   \n",
       "std      1.245307    6.021776   12.337289    2.145204    2.443522   \n",
       "min     -2.000000   86.600000  141.100000   60.300000   47.800000   \n",
       "25%      0.000000   94.500000  166.300000   64.100000   52.000000   \n",
       "50%      1.000000   97.000000  173.200000   65.500000   54.100000   \n",
       "75%      2.000000  102.400000  183.100000   66.900000   55.500000   \n",
       "max      3.000000  120.900000  208.100000   72.300000   59.800000   \n",
       "\n",
       "       curb-weight  engine-size  compression-ratio    city-mpg  highway-mpg  \n",
       "count   205.000000   205.000000         205.000000  205.000000   205.000000  \n",
       "mean   2555.565854   126.907317          10.142537   25.219512    30.751220  \n",
       "std     520.680204    41.642693           3.972040    6.542142     6.886443  \n",
       "min    1488.000000    61.000000           7.000000   13.000000    16.000000  \n",
       "25%    2145.000000    97.000000           8.600000   19.000000    25.000000  \n",
       "50%    2414.000000   120.000000           9.000000   24.000000    30.000000  \n",
       "75%    2935.000000   141.000000           9.400000   30.000000    34.000000  \n",
       "max    4066.000000   326.000000          23.000000   49.000000    54.000000  "
      ]
     },
     "execution_count": 13,
     "metadata": {},
     "output_type": "execute_result"
    }
   ],
   "source": [
    "df_autos.describe()"
   ]
  },
  {
   "cell_type": "code",
   "execution_count": 14,
   "id": "a933f228",
   "metadata": {},
   "outputs": [],
   "source": [
    "df_autos['normalized-losses'] = df_autos['normalized-losses'].astype(float)"
   ]
  },
  {
   "cell_type": "code",
   "execution_count": 15,
   "id": "f4efe9b7",
   "metadata": {},
   "outputs": [
    {
     "data": {
      "text/plain": [
       "122.0"
      ]
     },
     "execution_count": 15,
     "metadata": {},
     "output_type": "execute_result"
    }
   ],
   "source": [
    "df_autos['normalized-losses'].mean()"
   ]
  },
  {
   "cell_type": "code",
   "execution_count": 16,
   "id": "e08bdc66",
   "metadata": {},
   "outputs": [
    {
     "data": {
      "text/plain": [
       "115.0"
      ]
     },
     "execution_count": 16,
     "metadata": {},
     "output_type": "execute_result"
    }
   ],
   "source": [
    "df_autos['normalized-losses'].median()"
   ]
  },
  {
   "cell_type": "code",
   "execution_count": 17,
   "id": "68890806",
   "metadata": {},
   "outputs": [
    {
     "data": {
      "text/plain": [
       "<AxesSubplot:>"
      ]
     },
     "execution_count": 17,
     "metadata": {},
     "output_type": "execute_result"
    },
    {
     "data": {
      "image/png": "[encoded data removed]",
      "text/plain": [
       "<Figure size 640x480 with 1 Axes>"
      ]
     },
     "metadata": {},
     "output_type": "display_data"
    }
   ],
   "source": [
    "df_autos.boxplot('normalized-losses')"
   ]
  },
  {
   "cell_type": "code",
   "execution_count": 18,
   "id": "19210c43",
   "metadata": {},
   "outputs": [],
   "source": [
    "df_autos['normalized-losses'] = df_autos['normalized-losses'].fillna(df_autos['normalized-losses'].median())\n",
    "df_autos['normalized-losses'] = df_autos['normalized-losses'].astype(int)"
   ]
  },
  {
   "cell_type": "markdown",
   "id": "bc0e866f",
   "metadata": {},
   "source": [
    "## 3.3 make"
   ]
  },
  {
   "cell_type": "code",
   "execution_count": 19,
   "id": "4e6581e7",
   "metadata": {},
   "outputs": [
    {
     "data": {
      "text/plain": [
       "0      alfa-romero\n",
       "1      alfa-romero\n",
       "2      alfa-romero\n",
       "3             audi\n",
       "4             audi\n",
       "          ...     \n",
       "200          volvo\n",
       "201          volvo\n",
       "202          volvo\n",
       "203          volvo\n",
       "204          volvo\n",
       "Name: make, Length: 205, dtype: object"
      ]
     },
     "execution_count": 19,
     "metadata": {},
     "output_type": "execute_result"
    }
   ],
   "source": [
    "df_autos['make']"
   ]
  },
  {
   "cell_type": "code",
   "execution_count": 20,
   "id": "a2d6ad32",
   "metadata": {},
   "outputs": [
    {
     "data": {
      "text/plain": [
       "toyota           32\n",
       "nissan           18\n",
       "mazda            17\n",
       "mitsubishi       13\n",
       "honda            13\n",
       "volkswagen       12\n",
       "subaru           12\n",
       "peugot           11\n",
       "volvo            11\n",
       "dodge             9\n",
       "mercedes-benz     8\n",
       "bmw               8\n",
       "audi              7\n",
       "plymouth          7\n",
       "saab              6\n",
       "porsche           5\n",
       "isuzu             4\n",
       "jaguar            3\n",
       "chevrolet         3\n",
       "alfa-romero       3\n",
       "renault           2\n",
       "mercury           1\n",
       "Name: make, dtype: int64"
      ]
     },
     "execution_count": 20,
     "metadata": {},
     "output_type": "execute_result"
    }
   ],
   "source": [
    "df_autos['make'].value_counts()"
   ]
  },
  {
   "cell_type": "markdown",
   "id": "df670d7a",
   "metadata": {},
   "source": [
    "## 3.4 fuel-type"
   ]
  },
  {
   "cell_type": "code",
   "execution_count": 21,
   "id": "b94b3ceb",
   "metadata": {},
   "outputs": [
    {
     "data": {
      "text/plain": [
       "0         gas\n",
       "1         gas\n",
       "2         gas\n",
       "3         gas\n",
       "4         gas\n",
       "        ...  \n",
       "200       gas\n",
       "201       gas\n",
       "202       gas\n",
       "203    diesel\n",
       "204       gas\n",
       "Name: fuel-type, Length: 205, dtype: object"
      ]
     },
     "execution_count": 21,
     "metadata": {},
     "output_type": "execute_result"
    }
   ],
   "source": [
    "df_autos['fuel-type']"
   ]
  },
  {
   "cell_type": "code",
   "execution_count": 22,
   "id": "a61e6dde",
   "metadata": {},
   "outputs": [
    {
     "data": {
      "text/plain": [
       "gas       185\n",
       "diesel     20\n",
       "Name: fuel-type, dtype: int64"
      ]
     },
     "execution_count": 22,
     "metadata": {},
     "output_type": "execute_result"
    }
   ],
   "source": [
    "df_autos['fuel-type'].value_counts()"
   ]
  },
  {
   "cell_type": "code",
   "execution_count": 23,
   "id": "f3ad45f8",
   "metadata": {},
   "outputs": [
    {
     "data": {
      "text/plain": [
       "0      1\n",
       "1      1\n",
       "2      1\n",
       "3      1\n",
       "4      1\n",
       "      ..\n",
       "200    1\n",
       "201    1\n",
       "202    1\n",
       "203    0\n",
       "204    1\n",
       "Name: fuel-type, Length: 205, dtype: int64"
      ]
     },
     "execution_count": 23,
     "metadata": {},
     "output_type": "execute_result"
    }
   ],
   "source": [
    "df_autos['fuel-type'].replace({'diesel':0, 'gas':1}, inplace=True)\n",
    "df_autos['fuel-type']"
   ]
  },
  {
   "cell_type": "markdown",
   "id": "4beb40b6",
   "metadata": {},
   "source": [
    "## 3.5 aspiration"
   ]
  },
  {
   "cell_type": "code",
   "execution_count": 24,
   "id": "9011d0af",
   "metadata": {},
   "outputs": [
    {
     "data": {
      "text/plain": [
       "0        std\n",
       "1        std\n",
       "2        std\n",
       "3        std\n",
       "4        std\n",
       "       ...  \n",
       "200      std\n",
       "201    turbo\n",
       "202      std\n",
       "203    turbo\n",
       "204    turbo\n",
       "Name: aspiration, Length: 205, dtype: object"
      ]
     },
     "execution_count": 24,
     "metadata": {},
     "output_type": "execute_result"
    }
   ],
   "source": [
    "df_autos['aspiration']"
   ]
  },
  {
   "cell_type": "code",
   "execution_count": 25,
   "id": "97dfead2",
   "metadata": {},
   "outputs": [
    {
     "data": {
      "text/plain": [
       "std      168\n",
       "turbo     37\n",
       "Name: aspiration, dtype: int64"
      ]
     },
     "execution_count": 25,
     "metadata": {},
     "output_type": "execute_result"
    }
   ],
   "source": [
    "df_autos['aspiration'].value_counts()"
   ]
  },
  {
   "cell_type": "code",
   "execution_count": 26,
   "id": "f99af10f",
   "metadata": {},
   "outputs": [
    {
     "data": {
      "text/plain": [
       "0      1\n",
       "1      1\n",
       "2      1\n",
       "3      1\n",
       "4      1\n",
       "      ..\n",
       "200    1\n",
       "201    0\n",
       "202    1\n",
       "203    0\n",
       "204    0\n",
       "Name: aspiration, Length: 205, dtype: int64"
      ]
     },
     "execution_count": 26,
     "metadata": {},
     "output_type": "execute_result"
    }
   ],
   "source": [
    "df_autos['aspiration'].replace({'std':1, 'turbo':0}, inplace=True)\n",
    "df_autos['aspiration']"
   ]
  },
  {
   "cell_type": "markdown",
   "id": "8dbfcb01",
   "metadata": {},
   "source": [
    "## 3.6 num-of-doors"
   ]
  },
  {
   "cell_type": "code",
   "execution_count": 27,
   "id": "3d15a7e8",
   "metadata": {},
   "outputs": [
    {
     "data": {
      "text/plain": [
       "four    114\n",
       "two      89\n",
       "Name: num-of-doors, dtype: int64"
      ]
     },
     "execution_count": 27,
     "metadata": {},
     "output_type": "execute_result"
    }
   ],
   "source": [
    "df_autos['num-of-doors'].value_counts()"
   ]
  },
  {
   "cell_type": "code",
   "execution_count": 28,
   "id": "17c3cf10",
   "metadata": {},
   "outputs": [
    {
     "data": {
      "text/plain": [
       "{'four': 114, 'two': 89}"
      ]
     },
     "execution_count": 28,
     "metadata": {},
     "output_type": "execute_result"
    }
   ],
   "source": [
    "df_autos['num-of-doors'].value_counts().to_dict()"
   ]
  },
  {
   "cell_type": "code",
   "execution_count": 29,
   "id": "fd196fb4",
   "metadata": {},
   "outputs": [
    {
     "data": {
      "text/plain": [
       "0      2.0\n",
       "1      2.0\n",
       "2      2.0\n",
       "3      4.0\n",
       "4      4.0\n",
       "      ... \n",
       "200    4.0\n",
       "201    4.0\n",
       "202    4.0\n",
       "203    4.0\n",
       "204    4.0\n",
       "Name: num-of-doors, Length: 205, dtype: float64"
      ]
     },
     "execution_count": 29,
     "metadata": {},
     "output_type": "execute_result"
    }
   ],
   "source": [
    "df_autos['num-of-doors'].replace({'four': 4, 'two': 2}, inplace=True)\n",
    "df_autos['num-of-doors']"
   ]
  },
  {
   "cell_type": "code",
   "execution_count": 30,
   "id": "2c7e9581",
   "metadata": {},
   "outputs": [],
   "source": [
    "df_autos['num-of-doors'].fillna(df_autos['num-of-doors'].mode()[0], inplace=True)\n",
    "df_autos['num-of-doors'] = df_autos['num-of-doors'].astype(int)"
   ]
  },
  {
   "cell_type": "markdown",
   "id": "c5d87b3c",
   "metadata": {},
   "source": [
    "## 3.7 body-style"
   ]
  },
  {
   "cell_type": "code",
   "execution_count": 31,
   "id": "6c30d778",
   "metadata": {},
   "outputs": [
    {
     "data": {
      "text/plain": [
       "sedan          96\n",
       "hatchback      70\n",
       "wagon          25\n",
       "hardtop         8\n",
       "convertible     6\n",
       "Name: body-style, dtype: int64"
      ]
     },
     "execution_count": 31,
     "metadata": {},
     "output_type": "execute_result"
    }
   ],
   "source": [
    "df_autos['body-style'].value_counts()"
   ]
  },
  {
   "cell_type": "code",
   "execution_count": 32,
   "id": "67f15f58",
   "metadata": {},
   "outputs": [
    {
     "data": {
      "text/html": [
       "<div>\n",
       "<style scoped>\n",
       "    .dataframe tbody tr th:only-of-type {\n",
       "        vertical-align: middle;\n",
       "    }\n",
       "\n",
       "    .dataframe tbody tr th {\n",
       "        vertical-align: top;\n",
       "    }\n",
       "\n",
       "    .dataframe thead th {\n",
       "        text-align: right;\n",
       "    }\n",
       "</style>\n",
       "<table border=\"1\" class=\"dataframe\">\n",
       "  <thead>\n",
       "    <tr style=\"text-align: right;\">\n",
       "      <th></th>\n",
       "      <th>symboling</th>\n",
       "      <th>normalized-losses</th>\n",
       "      <th>make</th>\n",
       "      <th>fuel-type</th>\n",
       "      <th>aspiration</th>\n",
       "      <th>num-of-doors</th>\n",
       "      <th>drive-wheels</th>\n",
       "      <th>engine-location</th>\n",
       "      <th>wheel-base</th>\n",
       "      <th>length</th>\n",
       "      <th>...</th>\n",
       "      <th>horsepower</th>\n",
       "      <th>peak-rpm</th>\n",
       "      <th>city-mpg</th>\n",
       "      <th>highway-mpg</th>\n",
       "      <th>price</th>\n",
       "      <th>body-style_convertible</th>\n",
       "      <th>body-style_hardtop</th>\n",
       "      <th>body-style_hatchback</th>\n",
       "      <th>body-style_sedan</th>\n",
       "      <th>body-style_wagon</th>\n",
       "    </tr>\n",
       "  </thead>\n",
       "  <tbody>\n",
       "    <tr>\n",
       "      <th>0</th>\n",
       "      <td>3</td>\n",
       "      <td>115</td>\n",
       "      <td>alfa-romero</td>\n",
       "      <td>1</td>\n",
       "      <td>1</td>\n",
       "      <td>2</td>\n",
       "      <td>rwd</td>\n",
       "      <td>front</td>\n",
       "      <td>88.6</td>\n",
       "      <td>168.8</td>\n",
       "      <td>...</td>\n",
       "      <td>111</td>\n",
       "      <td>5000</td>\n",
       "      <td>21</td>\n",
       "      <td>27</td>\n",
       "      <td>13495</td>\n",
       "      <td>1</td>\n",
       "      <td>0</td>\n",
       "      <td>0</td>\n",
       "      <td>0</td>\n",
       "      <td>0</td>\n",
       "    </tr>\n",
       "    <tr>\n",
       "      <th>1</th>\n",
       "      <td>3</td>\n",
       "      <td>115</td>\n",
       "      <td>alfa-romero</td>\n",
       "      <td>1</td>\n",
       "      <td>1</td>\n",
       "      <td>2</td>\n",
       "      <td>rwd</td>\n",
       "      <td>front</td>\n",
       "      <td>88.6</td>\n",
       "      <td>168.8</td>\n",
       "      <td>...</td>\n",
       "      <td>111</td>\n",
       "      <td>5000</td>\n",
       "      <td>21</td>\n",
       "      <td>27</td>\n",
       "      <td>16500</td>\n",
       "      <td>1</td>\n",
       "      <td>0</td>\n",
       "      <td>0</td>\n",
       "      <td>0</td>\n",
       "      <td>0</td>\n",
       "    </tr>\n",
       "    <tr>\n",
       "      <th>2</th>\n",
       "      <td>1</td>\n",
       "      <td>115</td>\n",
       "      <td>alfa-romero</td>\n",
       "      <td>1</td>\n",
       "      <td>1</td>\n",
       "      <td>2</td>\n",
       "      <td>rwd</td>\n",
       "      <td>front</td>\n",
       "      <td>94.5</td>\n",
       "      <td>171.2</td>\n",
       "      <td>...</td>\n",
       "      <td>154</td>\n",
       "      <td>5000</td>\n",
       "      <td>19</td>\n",
       "      <td>26</td>\n",
       "      <td>16500</td>\n",
       "      <td>0</td>\n",
       "      <td>0</td>\n",
       "      <td>1</td>\n",
       "      <td>0</td>\n",
       "      <td>0</td>\n",
       "    </tr>\n",
       "    <tr>\n",
       "      <th>3</th>\n",
       "      <td>2</td>\n",
       "      <td>164</td>\n",
       "      <td>audi</td>\n",
       "      <td>1</td>\n",
       "      <td>1</td>\n",
       "      <td>4</td>\n",
       "      <td>fwd</td>\n",
       "      <td>front</td>\n",
       "      <td>99.8</td>\n",
       "      <td>176.6</td>\n",
       "      <td>...</td>\n",
       "      <td>102</td>\n",
       "      <td>5500</td>\n",
       "      <td>24</td>\n",
       "      <td>30</td>\n",
       "      <td>13950</td>\n",
       "      <td>0</td>\n",
       "      <td>0</td>\n",
       "      <td>0</td>\n",
       "      <td>1</td>\n",
       "      <td>0</td>\n",
       "    </tr>\n",
       "    <tr>\n",
       "      <th>4</th>\n",
       "      <td>2</td>\n",
       "      <td>164</td>\n",
       "      <td>audi</td>\n",
       "      <td>1</td>\n",
       "      <td>1</td>\n",
       "      <td>4</td>\n",
       "      <td>4wd</td>\n",
       "      <td>front</td>\n",
       "      <td>99.4</td>\n",
       "      <td>176.6</td>\n",
       "      <td>...</td>\n",
       "      <td>115</td>\n",
       "      <td>5500</td>\n",
       "      <td>18</td>\n",
       "      <td>22</td>\n",
       "      <td>17450</td>\n",
       "      <td>0</td>\n",
       "      <td>0</td>\n",
       "      <td>0</td>\n",
       "      <td>1</td>\n",
       "      <td>0</td>\n",
       "    </tr>\n",
       "  </tbody>\n",
       "</table>\n",
       "<p>5 rows × 30 columns</p>\n",
       "</div>"
      ],
      "text/plain": [
       "   symboling  normalized-losses         make  fuel-type  aspiration  \\\n",
       "0          3                115  alfa-romero          1           1   \n",
       "1          3                115  alfa-romero          1           1   \n",
       "2          1                115  alfa-romero          1           1   \n",
       "3          2                164         audi          1           1   \n",
       "4          2                164         audi          1           1   \n",
       "\n",
       "   num-of-doors drive-wheels engine-location  wheel-base  length  ...  \\\n",
       "0             2          rwd           front        88.6   168.8  ...   \n",
       "1             2          rwd           front        88.6   168.8  ...   \n",
       "2             2          rwd           front        94.5   171.2  ...   \n",
       "3             4          fwd           front        99.8   176.6  ...   \n",
       "4             4          4wd           front        99.4   176.6  ...   \n",
       "\n",
       "   horsepower  peak-rpm  city-mpg highway-mpg  price  body-style_convertible  \\\n",
       "0         111      5000        21          27  13495                       1   \n",
       "1         111      5000        21          27  16500                       1   \n",
       "2         154      5000        19          26  16500                       0   \n",
       "3         102      5500        24          30  13950                       0   \n",
       "4         115      5500        18          22  17450                       0   \n",
       "\n",
       "  body-style_hardtop body-style_hatchback body-style_sedan  body-style_wagon  \n",
       "0                  0                    0                0                 0  \n",
       "1                  0                    0                0                 0  \n",
       "2                  0                    1                0                 0  \n",
       "3                  0                    0                1                 0  \n",
       "4                  0                    0                1                 0  \n",
       "\n",
       "[5 rows x 30 columns]"
      ]
     },
     "execution_count": 32,
     "metadata": {},
     "output_type": "execute_result"
    }
   ],
   "source": [
    "df_autos = pd.get_dummies(df_autos, columns=['body-style'])\n",
    "df_autos.head()"
   ]
  },
  {
   "cell_type": "markdown",
   "id": "de0f5fd6",
   "metadata": {},
   "source": [
    "## 3.8 drive-wheels"
   ]
  },
  {
   "cell_type": "code",
   "execution_count": 33,
   "id": "955db167",
   "metadata": {},
   "outputs": [
    {
     "data": {
      "text/plain": [
       "fwd    120\n",
       "rwd     76\n",
       "4wd      9\n",
       "Name: drive-wheels, dtype: int64"
      ]
     },
     "execution_count": 33,
     "metadata": {},
     "output_type": "execute_result"
    }
   ],
   "source": [
    "df_autos['drive-wheels'].value_counts()"
   ]
  },
  {
   "cell_type": "code",
   "execution_count": 34,
   "id": "1cb64ff2",
   "metadata": {},
   "outputs": [
    {
     "data": {
      "text/plain": [
       "{'fwd': 120, 'rwd': 76, '4wd': 9}"
      ]
     },
     "execution_count": 34,
     "metadata": {},
     "output_type": "execute_result"
    }
   ],
   "source": [
    "df_autos['drive-wheels'].value_counts().to_dict()"
   ]
  },
  {
   "cell_type": "code",
   "execution_count": 35,
   "id": "c8798c13",
   "metadata": {},
   "outputs": [
    {
     "data": {
      "text/plain": [
       "0      1\n",
       "1      1\n",
       "2      1\n",
       "3      2\n",
       "4      0\n",
       "      ..\n",
       "200    1\n",
       "201    1\n",
       "202    1\n",
       "203    1\n",
       "204    1\n",
       "Name: drive-wheels, Length: 205, dtype: int64"
      ]
     },
     "execution_count": 35,
     "metadata": {},
     "output_type": "execute_result"
    }
   ],
   "source": [
    "df_autos['drive-wheels'].replace({'fwd': 2, 'rwd': 1, '4wd': 0}, inplace=True)\n",
    "df_autos['drive-wheels']"
   ]
  },
  {
   "cell_type": "markdown",
   "id": "4b4e2a77",
   "metadata": {},
   "source": [
    "## 3.9 engine-location"
   ]
  },
  {
   "cell_type": "code",
   "execution_count": 36,
   "id": "4171f472",
   "metadata": {},
   "outputs": [
    {
     "data": {
      "text/plain": [
       "front    202\n",
       "rear       3\n",
       "Name: engine-location, dtype: int64"
      ]
     },
     "execution_count": 36,
     "metadata": {},
     "output_type": "execute_result"
    }
   ],
   "source": [
    "df_autos['engine-location'].value_counts()"
   ]
  },
  {
   "cell_type": "code",
   "execution_count": 37,
   "id": "a569d279",
   "metadata": {},
   "outputs": [
    {
     "data": {
      "text/plain": [
       "0      1\n",
       "1      1\n",
       "2      1\n",
       "3      1\n",
       "4      1\n",
       "      ..\n",
       "200    1\n",
       "201    1\n",
       "202    1\n",
       "203    1\n",
       "204    1\n",
       "Name: engine-location, Length: 205, dtype: int64"
      ]
     },
     "execution_count": 37,
     "metadata": {},
     "output_type": "execute_result"
    }
   ],
   "source": [
    "df_autos['engine-location'].replace({'front':1, 'rear':0}, inplace=True)\n",
    "df_autos['engine-location']"
   ]
  },
  {
   "cell_type": "markdown",
   "id": "dcf75892",
   "metadata": {},
   "source": [
    "## 3.10 wheel-base"
   ]
  },
  {
   "cell_type": "code",
   "execution_count": 38,
   "id": "a37fb7d0",
   "metadata": {},
   "outputs": [
    {
     "data": {
      "text/plain": [
       "0       88.6\n",
       "1       88.6\n",
       "2       94.5\n",
       "3       99.8\n",
       "4       99.4\n",
       "       ...  \n",
       "200    109.1\n",
       "201    109.1\n",
       "202    109.1\n",
       "203    109.1\n",
       "204    109.1\n",
       "Name: wheel-base, Length: 205, dtype: float64"
      ]
     },
     "execution_count": 38,
     "metadata": {},
     "output_type": "execute_result"
    }
   ],
   "source": [
    "df_autos['wheel-base']"
   ]
  },
  {
   "cell_type": "code",
   "execution_count": 39,
   "id": "3e62f71c",
   "metadata": {},
   "outputs": [
    {
     "data": {
      "text/plain": [
       "<AxesSubplot:ylabel='Density'>"
      ]
     },
     "execution_count": 39,
     "metadata": {},
     "output_type": "execute_result"
    }
   ],
   "source": [
    "df_autos['wheel-base'].plot(kind = 'kde')"
   ]
  },
  {
   "cell_type": "code",
   "execution_count": 40,
   "id": "f2ea0674",
   "metadata": {},
   "outputs": [
    {
     "data": {
      "text/plain": [
       "1.0502137758714858"
      ]
     },
     "execution_count": 40,
     "metadata": {},
     "output_type": "execute_result"
    }
   ],
   "source": [
    "df_autos['wheel-base'].skew()"
   ]
  },
  {
   "cell_type": "code",
   "execution_count": 41,
   "id": "08622367",
   "metadata": {},
   "outputs": [
    {
     "data": {
      "text/plain": [
       "<AxesSubplot:ylabel='Density'>"
      ]
     },
     "execution_count": 41,
     "metadata": {},
     "output_type": "execute_result"
    }
   ],
   "source": [
    "df_autos.boxplot('wheel-base')"
   ]
  },
  {
   "cell_type": "code",
   "execution_count": 42,
   "id": "76547d9b",
   "metadata": {},
   "outputs": [
    {
     "data": {
      "text/plain": [
       "<AxesSubplot:xlabel='wheel-base', ylabel='Density'>"
      ]
     },
     "execution_count": 42,
     "metadata": {},
     "output_type": "execute_result"
    }
   ],
   "source": [
    "sns.boxplot(df_autos['wheel-base'])"
   ]
  },
  {
   "cell_type": "code",
   "execution_count": 43,
   "id": "3197433a",
   "metadata": {},
   "outputs": [
    {
     "data": {
      "text/html": [
       "<div>\n",
       "<style scoped>\n",
       "    .dataframe tbody tr th:only-of-type {\n",
       "        vertical-align: middle;\n",
       "    }\n",
       "\n",
       "    .dataframe tbody tr th {\n",
       "        vertical-align: top;\n",
       "    }\n",
       "\n",
       "    .dataframe thead th {\n",
       "        text-align: right;\n",
       "    }\n",
       "</style>\n",
       "<table border=\"1\" class=\"dataframe\">\n",
       "  <thead>\n",
       "    <tr style=\"text-align: right;\">\n",
       "      <th></th>\n",
       "      <th>symboling</th>\n",
       "      <th>normalized-losses</th>\n",
       "      <th>make</th>\n",
       "      <th>fuel-type</th>\n",
       "      <th>aspiration</th>\n",
       "      <th>num-of-doors</th>\n",
       "      <th>drive-wheels</th>\n",
       "      <th>engine-location</th>\n",
       "      <th>wheel-base</th>\n",
       "      <th>length</th>\n",
       "      <th>...</th>\n",
       "      <th>horsepower</th>\n",
       "      <th>peak-rpm</th>\n",
       "      <th>city-mpg</th>\n",
       "      <th>highway-mpg</th>\n",
       "      <th>price</th>\n",
       "      <th>body-style_convertible</th>\n",
       "      <th>body-style_hardtop</th>\n",
       "      <th>body-style_hatchback</th>\n",
       "      <th>body-style_sedan</th>\n",
       "      <th>body-style_wagon</th>\n",
       "    </tr>\n",
       "  </thead>\n",
       "  <tbody>\n",
       "    <tr>\n",
       "      <th>70</th>\n",
       "      <td>-1</td>\n",
       "      <td>93</td>\n",
       "      <td>mercedes-benz</td>\n",
       "      <td>0</td>\n",
       "      <td>0</td>\n",
       "      <td>4</td>\n",
       "      <td>1</td>\n",
       "      <td>1</td>\n",
       "      <td>115.6</td>\n",
       "      <td>202.6</td>\n",
       "      <td>...</td>\n",
       "      <td>123</td>\n",
       "      <td>4350</td>\n",
       "      <td>22</td>\n",
       "      <td>25</td>\n",
       "      <td>31600</td>\n",
       "      <td>0</td>\n",
       "      <td>0</td>\n",
       "      <td>0</td>\n",
       "      <td>1</td>\n",
       "      <td>0</td>\n",
       "    </tr>\n",
       "    <tr>\n",
       "      <th>71</th>\n",
       "      <td>-1</td>\n",
       "      <td>115</td>\n",
       "      <td>mercedes-benz</td>\n",
       "      <td>1</td>\n",
       "      <td>1</td>\n",
       "      <td>4</td>\n",
       "      <td>1</td>\n",
       "      <td>1</td>\n",
       "      <td>115.6</td>\n",
       "      <td>202.6</td>\n",
       "      <td>...</td>\n",
       "      <td>155</td>\n",
       "      <td>4750</td>\n",
       "      <td>16</td>\n",
       "      <td>18</td>\n",
       "      <td>34184</td>\n",
       "      <td>0</td>\n",
       "      <td>0</td>\n",
       "      <td>0</td>\n",
       "      <td>1</td>\n",
       "      <td>0</td>\n",
       "    </tr>\n",
       "    <tr>\n",
       "      <th>73</th>\n",
       "      <td>0</td>\n",
       "      <td>115</td>\n",
       "      <td>mercedes-benz</td>\n",
       "      <td>1</td>\n",
       "      <td>1</td>\n",
       "      <td>4</td>\n",
       "      <td>1</td>\n",
       "      <td>1</td>\n",
       "      <td>120.9</td>\n",
       "      <td>208.1</td>\n",
       "      <td>...</td>\n",
       "      <td>184</td>\n",
       "      <td>4500</td>\n",
       "      <td>14</td>\n",
       "      <td>16</td>\n",
       "      <td>40960</td>\n",
       "      <td>0</td>\n",
       "      <td>0</td>\n",
       "      <td>0</td>\n",
       "      <td>1</td>\n",
       "      <td>0</td>\n",
       "    </tr>\n",
       "    <tr>\n",
       "      <th>109</th>\n",
       "      <td>0</td>\n",
       "      <td>115</td>\n",
       "      <td>peugot</td>\n",
       "      <td>1</td>\n",
       "      <td>1</td>\n",
       "      <td>4</td>\n",
       "      <td>1</td>\n",
       "      <td>1</td>\n",
       "      <td>114.2</td>\n",
       "      <td>198.9</td>\n",
       "      <td>...</td>\n",
       "      <td>97</td>\n",
       "      <td>5000</td>\n",
       "      <td>19</td>\n",
       "      <td>24</td>\n",
       "      <td>12440</td>\n",
       "      <td>0</td>\n",
       "      <td>0</td>\n",
       "      <td>0</td>\n",
       "      <td>0</td>\n",
       "      <td>1</td>\n",
       "    </tr>\n",
       "    <tr>\n",
       "      <th>110</th>\n",
       "      <td>0</td>\n",
       "      <td>115</td>\n",
       "      <td>peugot</td>\n",
       "      <td>0</td>\n",
       "      <td>0</td>\n",
       "      <td>4</td>\n",
       "      <td>1</td>\n",
       "      <td>1</td>\n",
       "      <td>114.2</td>\n",
       "      <td>198.9</td>\n",
       "      <td>...</td>\n",
       "      <td>95</td>\n",
       "      <td>4150</td>\n",
       "      <td>25</td>\n",
       "      <td>25</td>\n",
       "      <td>13860</td>\n",
       "      <td>0</td>\n",
       "      <td>0</td>\n",
       "      <td>0</td>\n",
       "      <td>0</td>\n",
       "      <td>1</td>\n",
       "    </tr>\n",
       "    <tr>\n",
       "      <th>113</th>\n",
       "      <td>0</td>\n",
       "      <td>115</td>\n",
       "      <td>peugot</td>\n",
       "      <td>1</td>\n",
       "      <td>1</td>\n",
       "      <td>4</td>\n",
       "      <td>1</td>\n",
       "      <td>1</td>\n",
       "      <td>114.2</td>\n",
       "      <td>198.9</td>\n",
       "      <td>...</td>\n",
       "      <td>95</td>\n",
       "      <td>5000</td>\n",
       "      <td>19</td>\n",
       "      <td>24</td>\n",
       "      <td>16695</td>\n",
       "      <td>0</td>\n",
       "      <td>0</td>\n",
       "      <td>0</td>\n",
       "      <td>0</td>\n",
       "      <td>1</td>\n",
       "    </tr>\n",
       "    <tr>\n",
       "      <th>114</th>\n",
       "      <td>0</td>\n",
       "      <td>115</td>\n",
       "      <td>peugot</td>\n",
       "      <td>0</td>\n",
       "      <td>0</td>\n",
       "      <td>4</td>\n",
       "      <td>1</td>\n",
       "      <td>1</td>\n",
       "      <td>114.2</td>\n",
       "      <td>198.9</td>\n",
       "      <td>...</td>\n",
       "      <td>95</td>\n",
       "      <td>4150</td>\n",
       "      <td>25</td>\n",
       "      <td>25</td>\n",
       "      <td>17075</td>\n",
       "      <td>0</td>\n",
       "      <td>0</td>\n",
       "      <td>0</td>\n",
       "      <td>0</td>\n",
       "      <td>1</td>\n",
       "    </tr>\n",
       "  </tbody>\n",
       "</table>\n",
       "<p>7 rows × 30 columns</p>\n",
       "</div>"
      ],
      "text/plain": [
       "     symboling  normalized-losses           make  fuel-type  aspiration  \\\n",
       "70          -1                 93  mercedes-benz          0           0   \n",
       "71          -1                115  mercedes-benz          1           1   \n",
       "73           0                115  mercedes-benz          1           1   \n",
       "109          0                115         peugot          1           1   \n",
       "110          0                115         peugot          0           0   \n",
       "113          0                115         peugot          1           1   \n",
       "114          0                115         peugot          0           0   \n",
       "\n",
       "     num-of-doors  drive-wheels  engine-location  wheel-base  length  ...  \\\n",
       "70              4             1                1       115.6   202.6  ...   \n",
       "71              4             1                1       115.6   202.6  ...   \n",
       "73              4             1                1       120.9   208.1  ...   \n",
       "109             4             1                1       114.2   198.9  ...   \n",
       "110             4             1                1       114.2   198.9  ...   \n",
       "113             4             1                1       114.2   198.9  ...   \n",
       "114             4             1                1       114.2   198.9  ...   \n",
       "\n",
       "     horsepower  peak-rpm  city-mpg highway-mpg  price  \\\n",
       "70          123      4350        22          25  31600   \n",
       "71          155      4750        16          18  34184   \n",
       "73          184      4500        14          16  40960   \n",
       "109          97      5000        19          24  12440   \n",
       "110          95      4150        25          25  13860   \n",
       "113          95      5000        19          24  16695   \n",
       "114          95      4150        25          25  17075   \n",
       "\n",
       "     body-style_convertible body-style_hardtop body-style_hatchback  \\\n",
       "70                        0                  0                    0   \n",
       "71                        0                  0                    0   \n",
       "73                        0                  0                    0   \n",
       "109                       0                  0                    0   \n",
       "110                       0                  0                    0   \n",
       "113                       0                  0                    0   \n",
       "114                       0                  0                    0   \n",
       "\n",
       "    body-style_sedan  body-style_wagon  \n",
       "70                 1                 0  \n",
       "71                 1                 0  \n",
       "73                 1                 0  \n",
       "109                0                 1  \n",
       "110                0                 1  \n",
       "113                0                 1  \n",
       "114                0                 1  \n",
       "\n",
       "[7 rows x 30 columns]"
      ]
     },
     "execution_count": 43,
     "metadata": {},
     "output_type": "execute_result"
    }
   ],
   "source": [
    "df_autos[df_autos['wheel-base'] >= 114]"
   ]
  },
  {
   "cell_type": "code",
   "execution_count": 44,
   "id": "a834d5fa",
   "metadata": {},
   "outputs": [],
   "source": [
    "df_autos['wheel-base'] = np.where(df_autos['wheel-base'] >= 114, df_autos['wheel-base'].mean(), df_autos['wheel-base'])"
   ]
  },
  {
   "cell_type": "markdown",
   "id": "f4adb692",
   "metadata": {},
   "source": [
    "## 3.11 length"
   ]
  },
  {
   "cell_type": "code",
   "execution_count": 45,
   "id": "0944639f",
   "metadata": {},
   "outputs": [
    {
     "data": {
      "text/plain": [
       "<AxesSubplot:xlabel='wheel-base', ylabel='Density'>"
      ]
     },
     "execution_count": 45,
     "metadata": {},
     "output_type": "execute_result"
    }
   ],
   "source": [
    "sns.kdeplot(df_autos['length'])"
   ]
  },
  {
   "cell_type": "code",
   "execution_count": 46,
   "id": "1c791b4d",
   "metadata": {},
   "outputs": [
    {
     "data": {
      "text/plain": [
       "0.1559537713215604"
      ]
     },
     "execution_count": 46,
     "metadata": {},
     "output_type": "execute_result"
    }
   ],
   "source": [
    "df_autos['length'].skew()"
   ]
  },
  {
   "cell_type": "markdown",
   "id": "346b7d0d",
   "metadata": {},
   "source": [
    "## 3.12 width"
   ]
  },
  {
   "cell_type": "code",
   "execution_count": 47,
   "id": "5a58ddd1",
   "metadata": {},
   "outputs": [
    {
     "data": {
      "text/plain": [
       "<AxesSubplot:xlabel='wheel-base', ylabel='Density'>"
      ]
     },
     "execution_count": 47,
     "metadata": {},
     "output_type": "execute_result"
    }
   ],
   "source": [
    "sns.kdeplot(df_autos['width'])"
   ]
  },
  {
   "cell_type": "code",
   "execution_count": 48,
   "id": "b8aceaf7",
   "metadata": {},
   "outputs": [
    {
     "data": {
      "text/plain": [
       "0.904003498786254"
      ]
     },
     "execution_count": 48,
     "metadata": {},
     "output_type": "execute_result"
    }
   ],
   "source": [
    "df_autos['width'].skew()"
   ]
  },
  {
   "cell_type": "code",
   "execution_count": 49,
   "id": "2fa9f98a",
   "metadata": {},
   "outputs": [
    {
     "data": {
      "text/plain": [
       "<AxesSubplot:xlabel='width', ylabel='Density'>"
      ]
     },
     "execution_count": 49,
     "metadata": {},
     "output_type": "execute_result"
    }
   ],
   "source": [
    "sns.boxplot(df_autos['width'])"
   ]
  },
  {
   "cell_type": "code",
   "execution_count": 50,
   "id": "83182f39",
   "metadata": {},
   "outputs": [
    {
     "data": {
      "text/plain": [
       "(8, 30)"
      ]
     },
     "execution_count": 50,
     "metadata": {},
     "output_type": "execute_result"
    }
   ],
   "source": [
    "df_autos[df_autos['width']>=71].shape"
   ]
  },
  {
   "cell_type": "code",
   "execution_count": 51,
   "id": "36dbf81e",
   "metadata": {},
   "outputs": [],
   "source": [
    "df_autos['width'] = np.where(df_autos['width'] >= 71, df_autos['width'].mean(), df_autos.width)"
   ]
  },
  {
   "cell_type": "markdown",
   "id": "81ddab74",
   "metadata": {},
   "source": [
    "## 3.13 height"
   ]
  },
  {
   "cell_type": "code",
   "execution_count": 52,
   "id": "ad55dbd6",
   "metadata": {},
   "outputs": [
    {
     "data": {
      "text/plain": [
       "<AxesSubplot:xlabel='width', ylabel='Density'>"
      ]
     },
     "execution_count": 52,
     "metadata": {},
     "output_type": "execute_result"
    }
   ],
   "source": [
    "sns.kdeplot(df_autos['height'])"
   ]
  },
  {
   "cell_type": "code",
   "execution_count": 53,
   "id": "13d5eb30",
   "metadata": {},
   "outputs": [
    {
     "data": {
      "text/plain": [
       "0.06312273247192804"
      ]
     },
     "execution_count": 53,
     "metadata": {},
     "output_type": "execute_result"
    }
   ],
   "source": [
    "df_autos['height'].skew()"
   ]
  },
  {
   "cell_type": "markdown",
   "id": "e43cd24e",
   "metadata": {},
   "source": [
    "## 3.14 curb-weight"
   ]
  },
  {
   "cell_type": "code",
   "execution_count": 54,
   "id": "9cbd2bab",
   "metadata": {},
   "outputs": [
    {
     "data": {
      "text/plain": [
       "<AxesSubplot:xlabel='width', ylabel='Density'>"
      ]
     },
     "execution_count": 54,
     "metadata": {},
     "output_type": "execute_result"
    }
   ],
   "source": [
    "sns.kdeplot(df_autos['curb-weight'])"
   ]
  },
  {
   "cell_type": "code",
   "execution_count": 55,
   "id": "716d8ccb",
   "metadata": {},
   "outputs": [
    {
     "data": {
      "text/plain": [
       "<AxesSubplot:xlabel='curb-weight', ylabel='Density'>"
      ]
     },
     "execution_count": 55,
     "metadata": {},
     "output_type": "execute_result"
    }
   ],
   "source": [
    "sns.boxplot(df_autos['curb-weight'])"
   ]
  },
  {
   "cell_type": "markdown",
   "id": "3ffc3b57",
   "metadata": {},
   "source": [
    "## 3.15 engine-type"
   ]
  },
  {
   "cell_type": "code",
   "execution_count": 56,
   "id": "3badb073",
   "metadata": {},
   "outputs": [
    {
     "data": {
      "text/plain": [
       "ohc      148\n",
       "ohcf      15\n",
       "ohcv      13\n",
       "dohc      12\n",
       "l         12\n",
       "rotor      4\n",
       "dohcv      1\n",
       "Name: engine-type, dtype: int64"
      ]
     },
     "execution_count": 56,
     "metadata": {},
     "output_type": "execute_result"
    }
   ],
   "source": [
    "df_autos['engine-type'].value_counts()"
   ]
  },
  {
   "cell_type": "code",
   "execution_count": 57,
   "id": "d0aa65f9",
   "metadata": {},
   "outputs": [
    {
     "data": {
      "text/html": [
       "<div>\n",
       "<style scoped>\n",
       "    .dataframe tbody tr th:only-of-type {\n",
       "        vertical-align: middle;\n",
       "    }\n",
       "\n",
       "    .dataframe tbody tr th {\n",
       "        vertical-align: top;\n",
       "    }\n",
       "\n",
       "    .dataframe thead th {\n",
       "        text-align: right;\n",
       "    }\n",
       "</style>\n",
       "<table border=\"1\" class=\"dataframe\">\n",
       "  <thead>\n",
       "    <tr style=\"text-align: right;\">\n",
       "      <th></th>\n",
       "      <th>symboling</th>\n",
       "      <th>normalized-losses</th>\n",
       "      <th>make</th>\n",
       "      <th>fuel-type</th>\n",
       "      <th>aspiration</th>\n",
       "      <th>num-of-doors</th>\n",
       "      <th>drive-wheels</th>\n",
       "      <th>engine-location</th>\n",
       "      <th>wheel-base</th>\n",
       "      <th>length</th>\n",
       "      <th>...</th>\n",
       "      <th>body-style_hatchback</th>\n",
       "      <th>body-style_sedan</th>\n",
       "      <th>body-style_wagon</th>\n",
       "      <th>engine-type_dohc</th>\n",
       "      <th>engine-type_dohcv</th>\n",
       "      <th>engine-type_l</th>\n",
       "      <th>engine-type_ohc</th>\n",
       "      <th>engine-type_ohcf</th>\n",
       "      <th>engine-type_ohcv</th>\n",
       "      <th>engine-type_rotor</th>\n",
       "    </tr>\n",
       "  </thead>\n",
       "  <tbody>\n",
       "    <tr>\n",
       "      <th>0</th>\n",
       "      <td>3</td>\n",
       "      <td>115</td>\n",
       "      <td>alfa-romero</td>\n",
       "      <td>1</td>\n",
       "      <td>1</td>\n",
       "      <td>2</td>\n",
       "      <td>1</td>\n",
       "      <td>1</td>\n",
       "      <td>88.6</td>\n",
       "      <td>168.8</td>\n",
       "      <td>...</td>\n",
       "      <td>0</td>\n",
       "      <td>0</td>\n",
       "      <td>0</td>\n",
       "      <td>1</td>\n",
       "      <td>0</td>\n",
       "      <td>0</td>\n",
       "      <td>0</td>\n",
       "      <td>0</td>\n",
       "      <td>0</td>\n",
       "      <td>0</td>\n",
       "    </tr>\n",
       "    <tr>\n",
       "      <th>1</th>\n",
       "      <td>3</td>\n",
       "      <td>115</td>\n",
       "      <td>alfa-romero</td>\n",
       "      <td>1</td>\n",
       "      <td>1</td>\n",
       "      <td>2</td>\n",
       "      <td>1</td>\n",
       "      <td>1</td>\n",
       "      <td>88.6</td>\n",
       "      <td>168.8</td>\n",
       "      <td>...</td>\n",
       "      <td>0</td>\n",
       "      <td>0</td>\n",
       "      <td>0</td>\n",
       "      <td>1</td>\n",
       "      <td>0</td>\n",
       "      <td>0</td>\n",
       "      <td>0</td>\n",
       "      <td>0</td>\n",
       "      <td>0</td>\n",
       "      <td>0</td>\n",
       "    </tr>\n",
       "    <tr>\n",
       "      <th>2</th>\n",
       "      <td>1</td>\n",
       "      <td>115</td>\n",
       "      <td>alfa-romero</td>\n",
       "      <td>1</td>\n",
       "      <td>1</td>\n",
       "      <td>2</td>\n",
       "      <td>1</td>\n",
       "      <td>1</td>\n",
       "      <td>94.5</td>\n",
       "      <td>171.2</td>\n",
       "      <td>...</td>\n",
       "      <td>1</td>\n",
       "      <td>0</td>\n",
       "      <td>0</td>\n",
       "      <td>0</td>\n",
       "      <td>0</td>\n",
       "      <td>0</td>\n",
       "      <td>0</td>\n",
       "      <td>0</td>\n",
       "      <td>1</td>\n",
       "      <td>0</td>\n",
       "    </tr>\n",
       "    <tr>\n",
       "      <th>3</th>\n",
       "      <td>2</td>\n",
       "      <td>164</td>\n",
       "      <td>audi</td>\n",
       "      <td>1</td>\n",
       "      <td>1</td>\n",
       "      <td>4</td>\n",
       "      <td>2</td>\n",
       "      <td>1</td>\n",
       "      <td>99.8</td>\n",
       "      <td>176.6</td>\n",
       "      <td>...</td>\n",
       "      <td>0</td>\n",
       "      <td>1</td>\n",
       "      <td>0</td>\n",
       "      <td>0</td>\n",
       "      <td>0</td>\n",
       "      <td>0</td>\n",
       "      <td>1</td>\n",
       "      <td>0</td>\n",
       "      <td>0</td>\n",
       "      <td>0</td>\n",
       "    </tr>\n",
       "    <tr>\n",
       "      <th>4</th>\n",
       "      <td>2</td>\n",
       "      <td>164</td>\n",
       "      <td>audi</td>\n",
       "      <td>1</td>\n",
       "      <td>1</td>\n",
       "      <td>4</td>\n",
       "      <td>0</td>\n",
       "      <td>1</td>\n",
       "      <td>99.4</td>\n",
       "      <td>176.6</td>\n",
       "      <td>...</td>\n",
       "      <td>0</td>\n",
       "      <td>1</td>\n",
       "      <td>0</td>\n",
       "      <td>0</td>\n",
       "      <td>0</td>\n",
       "      <td>0</td>\n",
       "      <td>1</td>\n",
       "      <td>0</td>\n",
       "      <td>0</td>\n",
       "      <td>0</td>\n",
       "    </tr>\n",
       "    <tr>\n",
       "      <th>...</th>\n",
       "      <td>...</td>\n",
       "      <td>...</td>\n",
       "      <td>...</td>\n",
       "      <td>...</td>\n",
       "      <td>...</td>\n",
       "      <td>...</td>\n",
       "      <td>...</td>\n",
       "      <td>...</td>\n",
       "      <td>...</td>\n",
       "      <td>...</td>\n",
       "      <td>...</td>\n",
       "      <td>...</td>\n",
       "      <td>...</td>\n",
       "      <td>...</td>\n",
       "      <td>...</td>\n",
       "      <td>...</td>\n",
       "      <td>...</td>\n",
       "      <td>...</td>\n",
       "      <td>...</td>\n",
       "      <td>...</td>\n",
       "      <td>...</td>\n",
       "    </tr>\n",
       "    <tr>\n",
       "      <th>200</th>\n",
       "      <td>-1</td>\n",
       "      <td>95</td>\n",
       "      <td>volvo</td>\n",
       "      <td>1</td>\n",
       "      <td>1</td>\n",
       "      <td>4</td>\n",
       "      <td>1</td>\n",
       "      <td>1</td>\n",
       "      <td>109.1</td>\n",
       "      <td>188.8</td>\n",
       "      <td>...</td>\n",
       "      <td>0</td>\n",
       "      <td>1</td>\n",
       "      <td>0</td>\n",
       "      <td>0</td>\n",
       "      <td>0</td>\n",
       "      <td>0</td>\n",
       "      <td>1</td>\n",
       "      <td>0</td>\n",
       "      <td>0</td>\n",
       "      <td>0</td>\n",
       "    </tr>\n",
       "    <tr>\n",
       "      <th>201</th>\n",
       "      <td>-1</td>\n",
       "      <td>95</td>\n",
       "      <td>volvo</td>\n",
       "      <td>1</td>\n",
       "      <td>0</td>\n",
       "      <td>4</td>\n",
       "      <td>1</td>\n",
       "      <td>1</td>\n",
       "      <td>109.1</td>\n",
       "      <td>188.8</td>\n",
       "      <td>...</td>\n",
       "      <td>0</td>\n",
       "      <td>1</td>\n",
       "      <td>0</td>\n",
       "      <td>0</td>\n",
       "      <td>0</td>\n",
       "      <td>0</td>\n",
       "      <td>1</td>\n",
       "      <td>0</td>\n",
       "      <td>0</td>\n",
       "      <td>0</td>\n",
       "    </tr>\n",
       "    <tr>\n",
       "      <th>202</th>\n",
       "      <td>-1</td>\n",
       "      <td>95</td>\n",
       "      <td>volvo</td>\n",
       "      <td>1</td>\n",
       "      <td>1</td>\n",
       "      <td>4</td>\n",
       "      <td>1</td>\n",
       "      <td>1</td>\n",
       "      <td>109.1</td>\n",
       "      <td>188.8</td>\n",
       "      <td>...</td>\n",
       "      <td>0</td>\n",
       "      <td>1</td>\n",
       "      <td>0</td>\n",
       "      <td>0</td>\n",
       "      <td>0</td>\n",
       "      <td>0</td>\n",
       "      <td>0</td>\n",
       "      <td>0</td>\n",
       "      <td>1</td>\n",
       "      <td>0</td>\n",
       "    </tr>\n",
       "    <tr>\n",
       "      <th>203</th>\n",
       "      <td>-1</td>\n",
       "      <td>95</td>\n",
       "      <td>volvo</td>\n",
       "      <td>0</td>\n",
       "      <td>0</td>\n",
       "      <td>4</td>\n",
       "      <td>1</td>\n",
       "      <td>1</td>\n",
       "      <td>109.1</td>\n",
       "      <td>188.8</td>\n",
       "      <td>...</td>\n",
       "      <td>0</td>\n",
       "      <td>1</td>\n",
       "      <td>0</td>\n",
       "      <td>0</td>\n",
       "      <td>0</td>\n",
       "      <td>0</td>\n",
       "      <td>1</td>\n",
       "      <td>0</td>\n",
       "      <td>0</td>\n",
       "      <td>0</td>\n",
       "    </tr>\n",
       "    <tr>\n",
       "      <th>204</th>\n",
       "      <td>-1</td>\n",
       "      <td>95</td>\n",
       "      <td>volvo</td>\n",
       "      <td>1</td>\n",
       "      <td>0</td>\n",
       "      <td>4</td>\n",
       "      <td>1</td>\n",
       "      <td>1</td>\n",
       "      <td>109.1</td>\n",
       "      <td>188.8</td>\n",
       "      <td>...</td>\n",
       "      <td>0</td>\n",
       "      <td>1</td>\n",
       "      <td>0</td>\n",
       "      <td>0</td>\n",
       "      <td>0</td>\n",
       "      <td>0</td>\n",
       "      <td>1</td>\n",
       "      <td>0</td>\n",
       "      <td>0</td>\n",
       "      <td>0</td>\n",
       "    </tr>\n",
       "  </tbody>\n",
       "</table>\n",
       "<p>205 rows × 36 columns</p>\n",
       "</div>"
      ],
      "text/plain": [
       "     symboling  normalized-losses         make  fuel-type  aspiration  \\\n",
       "0            3                115  alfa-romero          1           1   \n",
       "1            3                115  alfa-romero          1           1   \n",
       "2            1                115  alfa-romero          1           1   \n",
       "3            2                164         audi          1           1   \n",
       "4            2                164         audi          1           1   \n",
       "..         ...                ...          ...        ...         ...   \n",
       "200         -1                 95        volvo          1           1   \n",
       "201         -1                 95        volvo          1           0   \n",
       "202         -1                 95        volvo          1           1   \n",
       "203         -1                 95        volvo          0           0   \n",
       "204         -1                 95        volvo          1           0   \n",
       "\n",
       "     num-of-doors  drive-wheels  engine-location  wheel-base  length  ...  \\\n",
       "0               2             1                1        88.6   168.8  ...   \n",
       "1               2             1                1        88.6   168.8  ...   \n",
       "2               2             1                1        94.5   171.2  ...   \n",
       "3               4             2                1        99.8   176.6  ...   \n",
       "4               4             0                1        99.4   176.6  ...   \n",
       "..            ...           ...              ...         ...     ...  ...   \n",
       "200             4             1                1       109.1   188.8  ...   \n",
       "201             4             1                1       109.1   188.8  ...   \n",
       "202             4             1                1       109.1   188.8  ...   \n",
       "203             4             1                1       109.1   188.8  ...   \n",
       "204             4             1                1       109.1   188.8  ...   \n",
       "\n",
       "     body-style_hatchback  body-style_sedan  body-style_wagon  \\\n",
       "0                       0                 0                 0   \n",
       "1                       0                 0                 0   \n",
       "2                       1                 0                 0   \n",
       "3                       0                 1                 0   \n",
       "4                       0                 1                 0   \n",
       "..                    ...               ...               ...   \n",
       "200                     0                 1                 0   \n",
       "201                     0                 1                 0   \n",
       "202                     0                 1                 0   \n",
       "203                     0                 1                 0   \n",
       "204                     0                 1                 0   \n",
       "\n",
       "    engine-type_dohc  engine-type_dohcv engine-type_l engine-type_ohc  \\\n",
       "0                  1                  0             0               0   \n",
       "1                  1                  0             0               0   \n",
       "2                  0                  0             0               0   \n",
       "3                  0                  0             0               1   \n",
       "4                  0                  0             0               1   \n",
       "..               ...                ...           ...             ...   \n",
       "200                0                  0             0               1   \n",
       "201                0                  0             0               1   \n",
       "202                0                  0             0               0   \n",
       "203                0                  0             0               1   \n",
       "204                0                  0             0               1   \n",
       "\n",
       "    engine-type_ohcf  engine-type_ohcv engine-type_rotor  \n",
       "0                  0                 0                 0  \n",
       "1                  0                 0                 0  \n",
       "2                  0                 1                 0  \n",
       "3                  0                 0                 0  \n",
       "4                  0                 0                 0  \n",
       "..               ...               ...               ...  \n",
       "200                0                 0                 0  \n",
       "201                0                 0                 0  \n",
       "202                0                 1                 0  \n",
       "203                0                 0                 0  \n",
       "204                0                 0                 0  \n",
       "\n",
       "[205 rows x 36 columns]"
      ]
     },
     "execution_count": 57,
     "metadata": {},
     "output_type": "execute_result"
    }
   ],
   "source": [
    "df_autos = pd.get_dummies(df_autos, columns=['engine-type'])\n",
    "df_autos"
   ]
  },
  {
   "cell_type": "markdown",
   "id": "3b959233",
   "metadata": {},
   "source": [
    "## 3.16 num-of-cylinders"
   ]
  },
  {
   "cell_type": "code",
   "execution_count": 58,
   "id": "5bc2e61d",
   "metadata": {},
   "outputs": [
    {
     "data": {
      "text/plain": [
       "four      159\n",
       "six        24\n",
       "five       11\n",
       "eight       5\n",
       "two         4\n",
       "three       1\n",
       "twelve      1\n",
       "Name: num-of-cylinders, dtype: int64"
      ]
     },
     "execution_count": 58,
     "metadata": {},
     "output_type": "execute_result"
    }
   ],
   "source": [
    "df_autos['num-of-cylinders'].value_counts()"
   ]
  },
  {
   "cell_type": "code",
   "execution_count": 59,
   "id": "c699e100",
   "metadata": {},
   "outputs": [
    {
     "data": {
      "text/plain": [
       "{'four': 159,\n",
       " 'six': 24,\n",
       " 'five': 11,\n",
       " 'eight': 5,\n",
       " 'two': 4,\n",
       " 'three': 1,\n",
       " 'twelve': 1}"
      ]
     },
     "execution_count": 59,
     "metadata": {},
     "output_type": "execute_result"
    }
   ],
   "source": [
    "df_autos['num-of-cylinders'].value_counts().to_dict()"
   ]
  },
  {
   "cell_type": "code",
   "execution_count": 60,
   "id": "f065e50c",
   "metadata": {},
   "outputs": [
    {
     "data": {
      "text/plain": [
       "0      4\n",
       "1      4\n",
       "2      6\n",
       "3      4\n",
       "4      5\n",
       "      ..\n",
       "200    4\n",
       "201    4\n",
       "202    6\n",
       "203    6\n",
       "204    4\n",
       "Name: num-of-cylinders, Length: 205, dtype: int64"
      ]
     },
     "execution_count": 60,
     "metadata": {},
     "output_type": "execute_result"
    }
   ],
   "source": [
    "df_autos['num-of-cylinders'].replace({'four': 4,\n",
    "                                         'six': 6,\n",
    "                                         'five': 5,\n",
    "                                         'eight': 8,\n",
    "                                         'two': 2,\n",
    "                                         'three': 3,\n",
    "                                         'twelve': 12}, inplace=True)\n",
    "df_autos['num-of-cylinders']"
   ]
  },
  {
   "cell_type": "markdown",
   "id": "6d898fa3",
   "metadata": {},
   "source": [
    "## 3.17 engine-size"
   ]
  },
  {
   "cell_type": "code",
   "execution_count": 61,
   "id": "2a1e4f24",
   "metadata": {},
   "outputs": [
    {
     "data": {
      "text/plain": [
       "<AxesSubplot:xlabel='curb-weight', ylabel='Density'>"
      ]
     },
     "execution_count": 61,
     "metadata": {},
     "output_type": "execute_result"
    }
   ],
   "source": [
    "sns.kdeplot(df_autos['engine-size'])"
   ]
  },
  {
   "cell_type": "code",
   "execution_count": 62,
   "id": "096e178e",
   "metadata": {},
   "outputs": [
    {
     "data": {
      "text/plain": [
       "<AxesSubplot:xlabel='engine-size', ylabel='Density'>"
      ]
     },
     "execution_count": 62,
     "metadata": {},
     "output_type": "execute_result"
    }
   ],
   "source": [
    "sns.boxplot(df_autos['engine-size'])"
   ]
  },
  {
   "cell_type": "code",
   "execution_count": 63,
   "id": "c90e0045",
   "metadata": {},
   "outputs": [
    {
     "data": {
      "text/plain": [
       "(11, 36)"
      ]
     },
     "execution_count": 63,
     "metadata": {},
     "output_type": "execute_result"
    }
   ],
   "source": [
    "df_autos[df_autos['engine-size']>=200].shape"
   ]
  },
  {
   "cell_type": "code",
   "execution_count": 64,
   "id": "122c4f19",
   "metadata": {},
   "outputs": [],
   "source": [
    "df_autos['engine-size'] = np.where(df_autos['engine-size']>=200, df_autos['engine-size'].mean(), df_autos['engine-size'])"
   ]
  },
  {
   "cell_type": "markdown",
   "id": "a5d27c24",
   "metadata": {},
   "source": [
    "## 3.18 fuel-system"
   ]
  },
  {
   "cell_type": "code",
   "execution_count": 65,
   "id": "0e2f01e0",
   "metadata": {},
   "outputs": [
    {
     "data": {
      "text/plain": [
       "mpfi    94\n",
       "2bbl    66\n",
       "idi     20\n",
       "1bbl    11\n",
       "spdi     9\n",
       "4bbl     3\n",
       "mfi      1\n",
       "spfi     1\n",
       "Name: fuel-system, dtype: int64"
      ]
     },
     "execution_count": 65,
     "metadata": {},
     "output_type": "execute_result"
    }
   ],
   "source": [
    "df_autos['fuel-system'].value_counts()"
   ]
  },
  {
   "cell_type": "code",
   "execution_count": 66,
   "id": "ae709507",
   "metadata": {},
   "outputs": [],
   "source": [
    "df_autos = pd.get_dummies(df_autos, columns=['fuel-system'])"
   ]
  },
  {
   "cell_type": "markdown",
   "id": "bfe35819",
   "metadata": {},
   "source": [
    "## 3.19 bore"
   ]
  },
  {
   "cell_type": "code",
   "execution_count": 67,
   "id": "971257c7",
   "metadata": {},
   "outputs": [
    {
     "data": {
      "text/plain": [
       "0      3.47\n",
       "1      3.47\n",
       "2      2.68\n",
       "3      3.19\n",
       "4      3.19\n",
       "       ... \n",
       "200    3.78\n",
       "201    3.78\n",
       "202    3.58\n",
       "203    3.01\n",
       "204    3.78\n",
       "Name: bore, Length: 205, dtype: object"
      ]
     },
     "execution_count": 67,
     "metadata": {},
     "output_type": "execute_result"
    }
   ],
   "source": [
    "df_autos['bore']"
   ]
  },
  {
   "cell_type": "code",
   "execution_count": 68,
   "id": "64e465dd",
   "metadata": {},
   "outputs": [
    {
     "data": {
      "text/plain": [
       "3.31"
      ]
     },
     "execution_count": 68,
     "metadata": {},
     "output_type": "execute_result"
    }
   ],
   "source": [
    "df_autos['bore'] = df_autos['bore'].astype(float)\n",
    "df_autos['bore'].median()"
   ]
  },
  {
   "cell_type": "code",
   "execution_count": 69,
   "id": "fbff7f21",
   "metadata": {},
   "outputs": [
    {
     "data": {
      "text/plain": [
       "3.3297512437810943"
      ]
     },
     "execution_count": 69,
     "metadata": {},
     "output_type": "execute_result"
    }
   ],
   "source": [
    "df_autos['bore'].mean()"
   ]
  },
  {
   "cell_type": "code",
   "execution_count": 70,
   "id": "341e1bd3",
   "metadata": {},
   "outputs": [],
   "source": [
    "df_autos['bore'].fillna(df_autos['bore'].mean(), inplace=True)"
   ]
  },
  {
   "cell_type": "markdown",
   "id": "dce0fbb9",
   "metadata": {},
   "source": [
    "## 3.20 stroke"
   ]
  },
  {
   "cell_type": "code",
   "execution_count": 71,
   "id": "11dd1ae2",
   "metadata": {},
   "outputs": [
    {
     "data": {
      "text/plain": [
       "0      2.68\n",
       "1      2.68\n",
       "2      3.47\n",
       "3       3.4\n",
       "4       3.4\n",
       "       ... \n",
       "200    3.15\n",
       "201    3.15\n",
       "202    2.87\n",
       "203     3.4\n",
       "204    3.15\n",
       "Name: stroke, Length: 205, dtype: object"
      ]
     },
     "execution_count": 71,
     "metadata": {},
     "output_type": "execute_result"
    }
   ],
   "source": [
    "df_autos['stroke']"
   ]
  },
  {
   "cell_type": "code",
   "execution_count": 72,
   "id": "cbba1b93",
   "metadata": {},
   "outputs": [
    {
     "data": {
      "text/html": [
       "<div>\n",
       "<style scoped>\n",
       "    .dataframe tbody tr th:only-of-type {\n",
       "        vertical-align: middle;\n",
       "    }\n",
       "\n",
       "    .dataframe tbody tr th {\n",
       "        vertical-align: top;\n",
       "    }\n",
       "\n",
       "    .dataframe thead th {\n",
       "        text-align: right;\n",
       "    }\n",
       "</style>\n",
       "<table border=\"1\" class=\"dataframe\">\n",
       "  <thead>\n",
       "    <tr style=\"text-align: right;\">\n",
       "      <th></th>\n",
       "      <th>stroke</th>\n",
       "    </tr>\n",
       "  </thead>\n",
       "  <tbody>\n",
       "    <tr>\n",
       "      <th>count</th>\n",
       "      <td>201.000000</td>\n",
       "    </tr>\n",
       "    <tr>\n",
       "      <th>mean</th>\n",
       "      <td>3.255423</td>\n",
       "    </tr>\n",
       "    <tr>\n",
       "      <th>std</th>\n",
       "      <td>0.316717</td>\n",
       "    </tr>\n",
       "    <tr>\n",
       "      <th>min</th>\n",
       "      <td>2.070000</td>\n",
       "    </tr>\n",
       "    <tr>\n",
       "      <th>25%</th>\n",
       "      <td>3.110000</td>\n",
       "    </tr>\n",
       "    <tr>\n",
       "      <th>50%</th>\n",
       "      <td>3.290000</td>\n",
       "    </tr>\n",
       "    <tr>\n",
       "      <th>75%</th>\n",
       "      <td>3.410000</td>\n",
       "    </tr>\n",
       "    <tr>\n",
       "      <th>max</th>\n",
       "      <td>4.170000</td>\n",
       "    </tr>\n",
       "  </tbody>\n",
       "</table>\n",
       "</div>"
      ],
      "text/plain": [
       "           stroke\n",
       "count  201.000000\n",
       "mean     3.255423\n",
       "std      0.316717\n",
       "min      2.070000\n",
       "25%      3.110000\n",
       "50%      3.290000\n",
       "75%      3.410000\n",
       "max      4.170000"
      ]
     },
     "execution_count": 72,
     "metadata": {},
     "output_type": "execute_result"
    }
   ],
   "source": [
    "df_autos['stroke'] = df_autos['stroke'].astype(float)\n",
    "df_autos[['stroke']].describe()"
   ]
  },
  {
   "cell_type": "code",
   "execution_count": 73,
   "id": "423d660a",
   "metadata": {},
   "outputs": [],
   "source": [
    "df_autos['stroke'].fillna(df_autos['stroke'].mean(), inplace=True)"
   ]
  },
  {
   "cell_type": "markdown",
   "id": "78c29652",
   "metadata": {},
   "source": [
    "## 3.21 compression-ratio"
   ]
  },
  {
   "cell_type": "code",
   "execution_count": 74,
   "id": "50d21200",
   "metadata": {},
   "outputs": [
    {
     "data": {
      "text/plain": [
       "<AxesSubplot:xlabel='engine-size', ylabel='Density'>"
      ]
     },
     "execution_count": 74,
     "metadata": {},
     "output_type": "execute_result"
    }
   ],
   "source": [
    "sns.kdeplot(df_autos['compression-ratio'])"
   ]
  },
  {
   "cell_type": "code",
   "execution_count": 75,
   "id": "462153f4",
   "metadata": {},
   "outputs": [
    {
     "data": {
      "text/plain": [
       "<AxesSubplot:xlabel='compression-ratio', ylabel='Density'>"
      ]
     },
     "execution_count": 75,
     "metadata": {},
     "output_type": "execute_result"
    }
   ],
   "source": [
    "sns.boxplot(df_autos['compression-ratio'])"
   ]
  },
  {
   "cell_type": "code",
   "execution_count": 76,
   "id": "7d9853d3",
   "metadata": {},
   "outputs": [],
   "source": [
    "df_autos['compression-ratio'] = np.where(df_autos['compression-ratio']>=12, df_autos['compression-ratio'].mean(), df_autos['compression-ratio'])"
   ]
  },
  {
   "cell_type": "markdown",
   "id": "fc28f893",
   "metadata": {},
   "source": [
    "## 3.22 horsepower"
   ]
  },
  {
   "cell_type": "code",
   "execution_count": 77,
   "id": "2e8a71f8",
   "metadata": {},
   "outputs": [
    {
     "data": {
      "text/plain": [
       "0      111\n",
       "1      111\n",
       "2      154\n",
       "3      102\n",
       "4      115\n",
       "      ... \n",
       "200    114\n",
       "201    160\n",
       "202    134\n",
       "203    106\n",
       "204    114\n",
       "Name: horsepower, Length: 205, dtype: int32"
      ]
     },
     "execution_count": 77,
     "metadata": {},
     "output_type": "execute_result"
    }
   ],
   "source": [
    "df_autos['horsepower'] = df_autos['horsepower'].astype(float)\n",
    "df_autos['horsepower'].fillna(df_autos['horsepower'].mean(),inplace=True)\n",
    "df_autos['horsepower'] = df_autos['horsepower'].astype(int)\n",
    "df_autos['horsepower']"
   ]
  },
  {
   "cell_type": "markdown",
   "id": "c1a52087",
   "metadata": {},
   "source": [
    "## 3.23 peak-rpm"
   ]
  },
  {
   "cell_type": "code",
   "execution_count": 78,
   "id": "eb596cee",
   "metadata": {},
   "outputs": [
    {
     "data": {
      "text/plain": [
       "0      5000\n",
       "1      5000\n",
       "2      5000\n",
       "3      5500\n",
       "4      5500\n",
       "       ... \n",
       "200    5400\n",
       "201    5300\n",
       "202    5500\n",
       "203    4800\n",
       "204    5400\n",
       "Name: peak-rpm, Length: 205, dtype: object"
      ]
     },
     "execution_count": 78,
     "metadata": {},
     "output_type": "execute_result"
    }
   ],
   "source": [
    "df_autos['peak-rpm']"
   ]
  },
  {
   "cell_type": "code",
   "execution_count": 79,
   "id": "dff68029",
   "metadata": {},
   "outputs": [
    {
     "data": {
      "text/plain": [
       "0      5000\n",
       "1      5000\n",
       "2      5000\n",
       "3      5500\n",
       "4      5500\n",
       "       ... \n",
       "200    5400\n",
       "201    5300\n",
       "202    5500\n",
       "203    4800\n",
       "204    5400\n",
       "Name: peak-rpm, Length: 205, dtype: int32"
      ]
     },
     "execution_count": 79,
     "metadata": {},
     "output_type": "execute_result"
    }
   ],
   "source": [
    "df_autos['peak-rpm'] = df_autos['peak-rpm'].astype(float)\n",
    "df_autos['peak-rpm'].fillna(df_autos['peak-rpm'].mean(),inplace=True)\n",
    "df_autos['peak-rpm'] = df_autos['peak-rpm'].astype(int)\n",
    "df_autos['peak-rpm']"
   ]
  },
  {
   "cell_type": "code",
   "execution_count": 80,
   "id": "fca216bf",
   "metadata": {},
   "outputs": [
    {
     "data": {
      "text/plain": [
       "<AxesSubplot:xlabel='compression-ratio', ylabel='Density'>"
      ]
     },
     "execution_count": 80,
     "metadata": {},
     "output_type": "execute_result"
    }
   ],
   "source": [
    "sns.kdeplot(df_autos['peak-rpm'])"
   ]
  },
  {
   "cell_type": "code",
   "execution_count": 81,
   "id": "eac8b6a8",
   "metadata": {},
   "outputs": [
    {
     "data": {
      "text/plain": [
       "0.07361410577798844"
      ]
     },
     "execution_count": 81,
     "metadata": {},
     "output_type": "execute_result"
    }
   ],
   "source": [
    "df_autos['peak-rpm'].skew()"
   ]
  },
  {
   "cell_type": "markdown",
   "id": "4f426f96",
   "metadata": {},
   "source": [
    "## 3.24 city-mpg"
   ]
  },
  {
   "cell_type": "code",
   "execution_count": 82,
   "id": "2b641ab8",
   "metadata": {},
   "outputs": [
    {
     "data": {
      "text/plain": [
       "<AxesSubplot:xlabel='compression-ratio', ylabel='Density'>"
      ]
     },
     "execution_count": 82,
     "metadata": {},
     "output_type": "execute_result"
    }
   ],
   "source": [
    "sns.kdeplot(df_autos['city-mpg'])"
   ]
  },
  {
   "cell_type": "code",
   "execution_count": 83,
   "id": "b16f7e08",
   "metadata": {},
   "outputs": [
    {
     "data": {
      "text/plain": [
       "0.6637040288148164"
      ]
     },
     "execution_count": 83,
     "metadata": {},
     "output_type": "execute_result"
    }
   ],
   "source": [
    "df_autos['city-mpg'].skew()"
   ]
  },
  {
   "cell_type": "code",
   "execution_count": 84,
   "id": "48bbcc9b",
   "metadata": {},
   "outputs": [
    {
     "data": {
      "text/plain": [
       "<AxesSubplot:xlabel='city-mpg', ylabel='Density'>"
      ]
     },
     "execution_count": 84,
     "metadata": {},
     "output_type": "execute_result"
    }
   ],
   "source": [
    "sns.boxplot(df_autos['city-mpg'])"
   ]
  },
  {
   "cell_type": "code",
   "execution_count": 85,
   "id": "479c4137",
   "metadata": {},
   "outputs": [],
   "source": [
    "df_autos['city-mpg'] = np.where(df_autos['city-mpg']>= 45, df_autos['city-mpg'].mean(), df_autos['city-mpg'])"
   ]
  },
  {
   "cell_type": "markdown",
   "id": "6103721d",
   "metadata": {},
   "source": [
    "## 3.25 highway-mpg"
   ]
  },
  {
   "cell_type": "code",
   "execution_count": 86,
   "id": "5d949390",
   "metadata": {},
   "outputs": [
    {
     "data": {
      "text/plain": [
       "<AxesSubplot:xlabel='city-mpg', ylabel='Density'>"
      ]
     },
     "execution_count": 86,
     "metadata": {},
     "output_type": "execute_result"
    }
   ],
   "source": [
    "sns.kdeplot(df_autos['highway-mpg'])"
   ]
  },
  {
   "cell_type": "markdown",
   "id": "306641e0",
   "metadata": {},
   "source": [
    "## 3.26 price"
   ]
  },
  {
   "cell_type": "code",
   "execution_count": 87,
   "id": "e8de459b",
   "metadata": {},
   "outputs": [],
   "source": [
    "df_autos['price'] = df_autos['price'].astype(float)\n",
    "df_autos['price'] = df_autos['price'].fillna(df_autos['price'].mean())\n",
    "df_autos['price'] = df_autos['price'].astype(int)"
   ]
  },
  {
   "cell_type": "code",
   "execution_count": 88,
   "id": "4103f803",
   "metadata": {},
   "outputs": [
    {
     "name": "stdout",
     "output_type": "stream",
     "text": [
      "<class 'pandas.core.frame.DataFrame'>\n",
      "RangeIndex: 205 entries, 0 to 204\n",
      "Data columns (total 43 columns):\n",
      " #   Column                  Non-Null Count  Dtype  \n",
      "---  ------                  --------------  -----  \n",
      " 0   symboling               205 non-null    int64  \n",
      " 1   normalized-losses       205 non-null    int32  \n",
      " 2   make                    205 non-null    object \n",
      " 3   fuel-type               205 non-null    int64  \n",
      " 4   aspiration              205 non-null    int64  \n",
      " 5   num-of-doors            205 non-null    int32  \n",
      " 6   drive-wheels            205 non-null    int64  \n",
      " 7   engine-location         205 non-null    int64  \n",
      " 8   wheel-base              205 non-null    float64\n",
      " 9   length                  205 non-null    float64\n",
      " 10  width                   205 non-null    float64\n",
      " 11  height                  205 non-null    float64\n",
      " 12  curb-weight             205 non-null    int64  \n",
      " 13  num-of-cylinders        205 non-null    int64  \n",
      " 14  engine-size             205 non-null    float64\n",
      " 15  bore                    205 non-null    float64\n",
      " 16  stroke                  205 non-null    float64\n",
      " 17  compression-ratio       205 non-null    float64\n",
      " 18  horsepower              205 non-null    int32  \n",
      " 19  peak-rpm                205 non-null    int32  \n",
      " 20  city-mpg                205 non-null    float64\n",
      " 21  highway-mpg             205 non-null    int64  \n",
      " 22  price                   205 non-null    int32  \n",
      " 23  body-style_convertible  205 non-null    uint8  \n",
      " 24  body-style_hardtop      205 non-null    uint8  \n",
      " 25  body-style_hatchback    205 non-null    uint8  \n",
      " 26  body-style_sedan        205 non-null    uint8  \n",
      " 27  body-style_wagon        205 non-null    uint8  \n",
      " 28  engine-type_dohc        205 non-null    uint8  \n",
      " 29  engine-type_dohcv       205 non-null    uint8  \n",
      " 30  engine-type_l           205 non-null    uint8  \n",
      " 31  engine-type_ohc         205 non-null    uint8  \n",
      " 32  engine-type_ohcf        205 non-null    uint8  \n",
      " 33  engine-type_ohcv        205 non-null    uint8  \n",
      " 34  engine-type_rotor       205 non-null    uint8  \n",
      " 35  fuel-system_1bbl        205 non-null    uint8  \n",
      " 36  fuel-system_2bbl        205 non-null    uint8  \n",
      " 37  fuel-system_4bbl        205 non-null    uint8  \n",
      " 38  fuel-system_idi         205 non-null    uint8  \n",
      " 39  fuel-system_mfi         205 non-null    uint8  \n",
      " 40  fuel-system_mpfi        205 non-null    uint8  \n",
      " 41  fuel-system_spdi        205 non-null    uint8  \n",
      " 42  fuel-system_spfi        205 non-null    uint8  \n",
      "dtypes: float64(9), int32(5), int64(8), object(1), uint8(20)\n",
      "memory usage: 37.0+ KB\n"
     ]
    }
   ],
   "source": [
    "df_autos.info()"
   ]
  },
  {
   "cell_type": "markdown",
   "id": "03b80e9a",
   "metadata": {},
   "source": [
    "## 5.  Feature Selection"
   ]
  },
  {
   "cell_type": "markdown",
   "id": "6993059f",
   "metadata": {},
   "source": [
    "1. Correlation:\n",
    "    Cont vs Cont >> Pearson corr\n",
    "    Cat vs Cat >> Chi-Square Test\n",
    "    Cat vs Cont >> ANOVA"
   ]
  },
  {
   "cell_type": "code",
   "execution_count": 90,
   "id": "9fea51b0",
   "metadata": {},
   "outputs": [
    {
     "data": {
      "text/plain": [
       "highway-mpg         -0.690526\n",
       "city-mpg            -0.683408\n",
       "drive-wheels        -0.475763\n",
       "engine-location     -0.331013\n",
       "aspiration          -0.177285\n",
       "fuel-type           -0.110207\n",
       "peak-rpm            -0.100851\n",
       "compression-ratio   -0.095142\n",
       "symboling           -0.082201\n",
       "num-of-doors         0.041945\n",
       "stroke               0.082095\n",
       "normalized-losses    0.094337\n",
       "height               0.134388\n",
       "wheel-base           0.518249\n",
       "bore                 0.532300\n",
       "engine-size          0.596852\n",
       "width                0.627157\n",
       "length               0.682986\n",
       "num-of-cylinders     0.687769\n",
       "horsepower           0.757946\n",
       "curb-weight          0.820825\n",
       "price                1.000000\n",
       "Name: price, dtype: float64"
      ]
     },
     "execution_count": 90,
     "metadata": {},
     "output_type": "execute_result"
    }
   ],
   "source": [
    "df_autos.corr()['price'].head(22).sort_values()"
   ]
  },
  {
   "cell_type": "code",
   "execution_count": 91,
   "id": "5e204546",
   "metadata": {},
   "outputs": [
    {
     "data": {
      "text/plain": [
       "Index(['highway-mpg', 'city-mpg', 'drive-wheels', 'engine-location'], dtype='object')"
      ]
     },
     "execution_count": 91,
     "metadata": {},
     "output_type": "execute_result"
    }
   ],
   "source": [
    "df_autos.corr()['price'].head(22).sort_values().head(4).index"
   ]
  },
  {
   "cell_type": "code",
   "execution_count": 92,
   "id": "4b599c03",
   "metadata": {},
   "outputs": [
    {
     "data": {
      "text/plain": [
       "Index(['wheel-base', 'bore', 'engine-size', 'width', 'length',\n",
       "       'num-of-cylinders', 'horsepower', 'curb-weight', 'price'],\n",
       "      dtype='object')"
      ]
     },
     "execution_count": 92,
     "metadata": {},
     "output_type": "execute_result"
    }
   ],
   "source": [
    "df_autos.corr()['price'].head(22).sort_values().tail(9).index"
   ]
  },
  {
   "cell_type": "code",
   "execution_count": 93,
   "id": "26ba1bfa",
   "metadata": {},
   "outputs": [
    {
     "data": {
      "text/plain": [
       "Index(['aspiration', 'fuel-type', 'peak-rpm', 'compression-ratio', 'symboling',\n",
       "       'num-of-doors', 'stroke', 'normalized-losses', 'height'],\n",
       "      dtype='object')"
      ]
     },
     "execution_count": 93,
     "metadata": {},
     "output_type": "execute_result"
    }
   ],
   "source": [
    "df_autos.corr()['price'].head(22).sort_values()[4:13].index"
   ]
  },
  {
   "cell_type": "markdown",
   "id": "2e0ec4b3",
   "metadata": {},
   "source": [
    "## 6. Model Training"
   ]
  },
  {
   "cell_type": "markdown",
   "id": "7760ae11",
   "metadata": {},
   "source": [
    "## Train Test Split"
   ]
  },
  {
   "cell_type": "code",
   "execution_count": 94,
   "id": "19026d26",
   "metadata": {},
   "outputs": [],
   "source": [
    "x = df_autos.drop(['aspiration', 'fuel-type', 'peak-rpm', 'compression-ratio', 'symboling',\n",
    "       'num-of-doors', 'stroke', 'normalized-losses', 'height', 'price','make'], axis=1)\n",
    "y = df_autos['price']"
   ]
  },
  {
   "cell_type": "code",
   "execution_count": 95,
   "id": "2ec3abe8",
   "metadata": {},
   "outputs": [],
   "source": [
    "x_train, x_test, y_train, y_test = train_test_split(x, y, test_size=0.2, random_state=2)"
   ]
  },
  {
   "cell_type": "code",
   "execution_count": 96,
   "id": "e0bca45f",
   "metadata": {},
   "outputs": [
    {
     "data": {
      "text/html": [
       "<style>#sk-container-id-1 {color: black;background-color: white;}#sk-container-id-1 pre{padding: 0;}#sk-container-id-1 div.sk-toggleable {background-color: white;}#sk-container-id-1 label.sk-toggleable__label {cursor: pointer;display: block;width: 100%;margin-bottom: 0;padding: 0.3em;box-sizing: border-box;text-align: center;}#sk-container-id-1 label.sk-toggleable__label-arrow:before {content: \"▸\";float: left;margin-right: 0.25em;color: #696969;}#sk-container-id-1 label.sk-toggleable__label-arrow:hover:before {color: black;}#sk-container-id-1 div.sk-estimator:hover label.sk-toggleable__label-arrow:before {color: black;}#sk-container-id-1 div.sk-toggleable__content {max-height: 0;max-width: 0;overflow: hidden;text-align: left;background-color: #f0f8ff;}#sk-container-id-1 div.sk-toggleable__content pre {margin: 0.2em;color: black;border-radius: 0.25em;background-color: #f0f8ff;}#sk-container-id-1 input.sk-toggleable__control:checked~div.sk-toggleable__content {max-height: 200px;max-width: 100%;overflow: auto;}#sk-container-id-1 input.sk-toggleable__control:checked~label.sk-toggleable__label-arrow:before {content: \"▾\";}#sk-container-id-1 div.sk-estimator input.sk-toggleable__control:checked~label.sk-toggleable__label {background-color: #d4ebff;}#sk-container-id-1 div.sk-label input.sk-toggleable__control:checked~label.sk-toggleable__label {background-color: #d4ebff;}#sk-container-id-1 input.sk-hidden--visually {border: 0;clip: rect(1px 1px 1px 1px);clip: rect(1px, 1px, 1px, 1px);height: 1px;margin: -1px;overflow: hidden;padding: 0;position: absolute;width: 1px;}#sk-container-id-1 div.sk-estimator {font-family: monospace;background-color: #f0f8ff;border: 1px dotted black;border-radius: 0.25em;box-sizing: border-box;margin-bottom: 0.5em;}#sk-container-id-1 div.sk-estimator:hover {background-color: #d4ebff;}#sk-container-id-1 div.sk-parallel-item::after {content: \"\";width: 100%;border-bottom: 1px solid gray;flex-grow: 1;}#sk-container-id-1 div.sk-label:hover label.sk-toggleable__label {background-color: #d4ebff;}#sk-container-id-1 div.sk-serial::before {content: \"\";position: absolute;border-left: 1px solid gray;box-sizing: border-box;top: 0;bottom: 0;left: 50%;z-index: 0;}#sk-container-id-1 div.sk-serial {display: flex;flex-direction: column;align-items: center;background-color: white;padding-right: 0.2em;padding-left: 0.2em;position: relative;}#sk-container-id-1 div.sk-item {position: relative;z-index: 1;}#sk-container-id-1 div.sk-parallel {display: flex;align-items: stretch;justify-content: center;background-color: white;position: relative;}#sk-container-id-1 div.sk-item::before, #sk-container-id-1 div.sk-parallel-item::before {content: \"\";position: absolute;border-left: 1px solid gray;box-sizing: border-box;top: 0;bottom: 0;left: 50%;z-index: -1;}#sk-container-id-1 div.sk-parallel-item {display: flex;flex-direction: column;z-index: 1;position: relative;background-color: white;}#sk-container-id-1 div.sk-parallel-item:first-child::after {align-self: flex-end;width: 50%;}#sk-container-id-1 div.sk-parallel-item:last-child::after {align-self: flex-start;width: 50%;}#sk-container-id-1 div.sk-parallel-item:only-child::after {width: 0;}#sk-container-id-1 div.sk-dashed-wrapped {border: 1px dashed gray;margin: 0 0.4em 0.5em 0.4em;box-sizing: border-box;padding-bottom: 0.4em;background-color: white;}#sk-container-id-1 div.sk-label label {font-family: monospace;font-weight: bold;display: inline-block;line-height: 1.2em;}#sk-container-id-1 div.sk-label-container {text-align: center;}#sk-container-id-1 div.sk-container {/* jupyter's `normalize.less` sets `[hidden] { display: none; }` but bootstrap.min.css set `[hidden] { display: none !important; }` so we also need the `!important` here to be able to override the default hidden behavior on the sphinx rendered scikit-learn.org. See: https://github.com/scikit-learn/scikit-learn/issues/21755 */display: inline-block !important;position: relative;}#sk-container-id-1 div.sk-text-repr-fallback {display: none;}</style><div id=\"sk-container-id-1\" class=\"sk-top-container\"><div class=\"sk-text-repr-fallback\"><pre>LinearRegression()</pre><b>In a Jupyter environment, please rerun this cell to show the HTML representation or trust the notebook. <br />On GitHub, the HTML representation is unable to render, please try loading this page with nbviewer.org.</b></div><div class=\"sk-container\" hidden><div class=\"sk-item\"><div class=\"sk-estimator sk-toggleable\"><input class=\"sk-toggleable__control sk-hidden--visually\" id=\"sk-estimator-id-1\" type=\"checkbox\" checked><label for=\"sk-estimator-id-1\" class=\"sk-toggleable__label sk-toggleable__label-arrow\">LinearRegression</label><div class=\"sk-toggleable__content\"><pre>LinearRegression()</pre></div></div></div></div></div>"
      ],
      "text/plain": [
       "LinearRegression()"
      ]
     },
     "execution_count": 96,
     "metadata": {},
     "output_type": "execute_result"
    }
   ],
   "source": [
    "def model_building(algo, x, y):\n",
    "    model = algo\n",
    "    model.fit(x, y)\n",
    "    return model\n",
    "\n",
    "linear_reg = model_building(LinearRegression(), x_train, y_train)\n",
    "linear_reg"
   ]
  },
  {
   "cell_type": "markdown",
   "id": "25f15ab9",
   "metadata": {},
   "source": [
    "## 7. Evaluation"
   ]
  },
  {
   "cell_type": "code",
   "execution_count": 97,
   "id": "5a74b831",
   "metadata": {},
   "outputs": [
    {
     "data": {
      "text/plain": [
       "array([ 5749.05226169, 14069.82195621,  9815.57919893, 13159.75980039,\n",
       "       16110.44643867])"
      ]
     },
     "execution_count": 97,
     "metadata": {},
     "output_type": "execute_result"
    }
   ],
   "source": [
    "y_pred = linear_reg.predict(x_test)\n",
    "y_pred[:5]"
   ]
  },
  {
   "cell_type": "code",
   "execution_count": 98,
   "id": "13d65c1f",
   "metadata": {},
   "outputs": [
    {
     "data": {
      "text/plain": [
       "25      6692\n",
       "84     14489\n",
       "100     9549\n",
       "10     16430\n",
       "195    13415\n",
       "Name: price, dtype: int32"
      ]
     },
     "execution_count": 98,
     "metadata": {},
     "output_type": "execute_result"
    }
   ],
   "source": [
    "y_test[:5]"
   ]
  },
  {
   "cell_type": "code",
   "execution_count": 99,
   "id": "76ed08b7",
   "metadata": {},
   "outputs": [
    {
     "name": "stdout",
     "output_type": "stream",
     "text": [
      "***************Test Data Evaluation***************\n",
      "MSE: 11766265.245345047\n",
      "RMSE: 3430.1990095831243\n",
      "MAE: 2347.4421057392433\n",
      "R2_Score: 0.6590521320213542\n",
      "\n",
      "**************Train Data Evaluation***************\n",
      "MSE: 6046972.491260054\n",
      "RMSE: 2459.0592695703886\n",
      "MAE: 1719.0451789503004\n",
      "R2_Score: 0.9115681963535316\n"
     ]
    }
   ],
   "source": [
    "def evaluation(model, ind_var, y_act):\n",
    "    pred = model.predict(ind_var)\n",
    "    \n",
    "    mse = mean_squared_error(y_act, pred)\n",
    "    print('MSE:', mse)\n",
    "\n",
    "    rmse = np.sqrt(mse)\n",
    "    print('RMSE:', rmse)\n",
    "\n",
    "    mae = mean_absolute_error(y_act, pred)\n",
    "    print('MAE:', mae)\n",
    "\n",
    "    r_squared = r2_score(y_act, pred)\n",
    "    print('R2_Score:',r_squared)\n",
    "    \n",
    "print('Test Data Evaluation'.center(50, '*'))\n",
    "evaluation(linear_reg, x_test, y_test)\n",
    "\n",
    "print()\n",
    "\n",
    "print('Train Data Evaluation'.center(50, '*'))\n",
    "evaluation(linear_reg, x_train, y_train)"
   ]
  },
  {
   "cell_type": "markdown",
   "id": "e5ca42d3",
   "metadata": {},
   "source": [
    "## Ridge Regression"
   ]
  },
  {
   "cell_type": "code",
   "execution_count": 100,
   "id": "ed93de34",
   "metadata": {},
   "outputs": [
    {
     "data": {
      "text/html": [
       "<style>#sk-container-id-2 {color: black;background-color: white;}#sk-container-id-2 pre{padding: 0;}#sk-container-id-2 div.sk-toggleable {background-color: white;}#sk-container-id-2 label.sk-toggleable__label {cursor: pointer;display: block;width: 100%;margin-bottom: 0;padding: 0.3em;box-sizing: border-box;text-align: center;}#sk-container-id-2 label.sk-toggleable__label-arrow:before {content: \"▸\";float: left;margin-right: 0.25em;color: #696969;}#sk-container-id-2 label.sk-toggleable__label-arrow:hover:before {color: black;}#sk-container-id-2 div.sk-estimator:hover label.sk-toggleable__label-arrow:before {color: black;}#sk-container-id-2 div.sk-toggleable__content {max-height: 0;max-width: 0;overflow: hidden;text-align: left;background-color: #f0f8ff;}#sk-container-id-2 div.sk-toggleable__content pre {margin: 0.2em;color: black;border-radius: 0.25em;background-color: #f0f8ff;}#sk-container-id-2 input.sk-toggleable__control:checked~div.sk-toggleable__content {max-height: 200px;max-width: 100%;overflow: auto;}#sk-container-id-2 input.sk-toggleable__control:checked~label.sk-toggleable__label-arrow:before {content: \"▾\";}#sk-container-id-2 div.sk-estimator input.sk-toggleable__control:checked~label.sk-toggleable__label {background-color: #d4ebff;}#sk-container-id-2 div.sk-label input.sk-toggleable__control:checked~label.sk-toggleable__label {background-color: #d4ebff;}#sk-container-id-2 input.sk-hidden--visually {border: 0;clip: rect(1px 1px 1px 1px);clip: rect(1px, 1px, 1px, 1px);height: 1px;margin: -1px;overflow: hidden;padding: 0;position: absolute;width: 1px;}#sk-container-id-2 div.sk-estimator {font-family: monospace;background-color: #f0f8ff;border: 1px dotted black;border-radius: 0.25em;box-sizing: border-box;margin-bottom: 0.5em;}#sk-container-id-2 div.sk-estimator:hover {background-color: #d4ebff;}#sk-container-id-2 div.sk-parallel-item::after {content: \"\";width: 100%;border-bottom: 1px solid gray;flex-grow: 1;}#sk-container-id-2 div.sk-label:hover label.sk-toggleable__label {background-color: #d4ebff;}#sk-container-id-2 div.sk-serial::before {content: \"\";position: absolute;border-left: 1px solid gray;box-sizing: border-box;top: 0;bottom: 0;left: 50%;z-index: 0;}#sk-container-id-2 div.sk-serial {display: flex;flex-direction: column;align-items: center;background-color: white;padding-right: 0.2em;padding-left: 0.2em;position: relative;}#sk-container-id-2 div.sk-item {position: relative;z-index: 1;}#sk-container-id-2 div.sk-parallel {display: flex;align-items: stretch;justify-content: center;background-color: white;position: relative;}#sk-container-id-2 div.sk-item::before, #sk-container-id-2 div.sk-parallel-item::before {content: \"\";position: absolute;border-left: 1px solid gray;box-sizing: border-box;top: 0;bottom: 0;left: 50%;z-index: -1;}#sk-container-id-2 div.sk-parallel-item {display: flex;flex-direction: column;z-index: 1;position: relative;background-color: white;}#sk-container-id-2 div.sk-parallel-item:first-child::after {align-self: flex-end;width: 50%;}#sk-container-id-2 div.sk-parallel-item:last-child::after {align-self: flex-start;width: 50%;}#sk-container-id-2 div.sk-parallel-item:only-child::after {width: 0;}#sk-container-id-2 div.sk-dashed-wrapped {border: 1px dashed gray;margin: 0 0.4em 0.5em 0.4em;box-sizing: border-box;padding-bottom: 0.4em;background-color: white;}#sk-container-id-2 div.sk-label label {font-family: monospace;font-weight: bold;display: inline-block;line-height: 1.2em;}#sk-container-id-2 div.sk-label-container {text-align: center;}#sk-container-id-2 div.sk-container {/* jupyter's `normalize.less` sets `[hidden] { display: none; }` but bootstrap.min.css set `[hidden] { display: none !important; }` so we also need the `!important` here to be able to override the default hidden behavior on the sphinx rendered scikit-learn.org. See: https://github.com/scikit-learn/scikit-learn/issues/21755 */display: inline-block !important;position: relative;}#sk-container-id-2 div.sk-text-repr-fallback {display: none;}</style><div id=\"sk-container-id-2\" class=\"sk-top-container\"><div class=\"sk-text-repr-fallback\"><pre>Ridge(alpha=5)</pre><b>In a Jupyter environment, please rerun this cell to show the HTML representation or trust the notebook. <br />On GitHub, the HTML representation is unable to render, please try loading this page with nbviewer.org.</b></div><div class=\"sk-container\" hidden><div class=\"sk-item\"><div class=\"sk-estimator sk-toggleable\"><input class=\"sk-toggleable__control sk-hidden--visually\" id=\"sk-estimator-id-2\" type=\"checkbox\" checked><label for=\"sk-estimator-id-2\" class=\"sk-toggleable__label sk-toggleable__label-arrow\">Ridge</label><div class=\"sk-toggleable__content\"><pre>Ridge(alpha=5)</pre></div></div></div></div></div>"
      ],
      "text/plain": [
       "Ridge(alpha=5)"
      ]
     },
     "execution_count": 100,
     "metadata": {},
     "output_type": "execute_result"
    }
   ],
   "source": [
    "ridge_model = model_building(Ridge(alpha=5), x_train, y_train)\n",
    "ridge_model"
   ]
  },
  {
   "cell_type": "code",
   "execution_count": 101,
   "id": "5fdce5c6",
   "metadata": {},
   "outputs": [
    {
     "name": "stdout",
     "output_type": "stream",
     "text": [
      "***************Test Data Evaluation***************\n",
      "MSE: 12629594.893777268\n",
      "RMSE: 3553.814133262637\n",
      "MAE: 2276.090427623147\n",
      "R2_Score: 0.6340356635958977\n",
      "\n",
      "**************Train Data Evaluation***************\n",
      "MSE: 9879740.180652395\n",
      "RMSE: 3143.205399055619\n",
      "MAE: 2065.353446854051\n",
      "R2_Score: 0.8555172452005779\n"
     ]
    }
   ],
   "source": [
    "print('Test Data Evaluation'.center(50, '*'))\n",
    "evaluation(ridge_model, x_test, y_test)\n",
    "\n",
    "print()\n",
    "\n",
    "print('Train Data Evaluation'.center(50, '*'))\n",
    "evaluation(ridge_model, x_train, y_train)"
   ]
  },
  {
   "cell_type": "markdown",
   "id": "811250d9",
   "metadata": {},
   "source": [
    "## Lasso Regression"
   ]
  },
  {
   "cell_type": "code",
   "execution_count": 102,
   "id": "b5595796",
   "metadata": {},
   "outputs": [
    {
     "data": {
      "text/html": [
       "<style>#sk-container-id-3 {color: black;background-color: white;}#sk-container-id-3 pre{padding: 0;}#sk-container-id-3 div.sk-toggleable {background-color: white;}#sk-container-id-3 label.sk-toggleable__label {cursor: pointer;display: block;width: 100%;margin-bottom: 0;padding: 0.3em;box-sizing: border-box;text-align: center;}#sk-container-id-3 label.sk-toggleable__label-arrow:before {content: \"▸\";float: left;margin-right: 0.25em;color: #696969;}#sk-container-id-3 label.sk-toggleable__label-arrow:hover:before {color: black;}#sk-container-id-3 div.sk-estimator:hover label.sk-toggleable__label-arrow:before {color: black;}#sk-container-id-3 div.sk-toggleable__content {max-height: 0;max-width: 0;overflow: hidden;text-align: left;background-color: #f0f8ff;}#sk-container-id-3 div.sk-toggleable__content pre {margin: 0.2em;color: black;border-radius: 0.25em;background-color: #f0f8ff;}#sk-container-id-3 input.sk-toggleable__control:checked~div.sk-toggleable__content {max-height: 200px;max-width: 100%;overflow: auto;}#sk-container-id-3 input.sk-toggleable__control:checked~label.sk-toggleable__label-arrow:before {content: \"▾\";}#sk-container-id-3 div.sk-estimator input.sk-toggleable__control:checked~label.sk-toggleable__label {background-color: #d4ebff;}#sk-container-id-3 div.sk-label input.sk-toggleable__control:checked~label.sk-toggleable__label {background-color: #d4ebff;}#sk-container-id-3 input.sk-hidden--visually {border: 0;clip: rect(1px 1px 1px 1px);clip: rect(1px, 1px, 1px, 1px);height: 1px;margin: -1px;overflow: hidden;padding: 0;position: absolute;width: 1px;}#sk-container-id-3 div.sk-estimator {font-family: monospace;background-color: #f0f8ff;border: 1px dotted black;border-radius: 0.25em;box-sizing: border-box;margin-bottom: 0.5em;}#sk-container-id-3 div.sk-estimator:hover {background-color: #d4ebff;}#sk-container-id-3 div.sk-parallel-item::after {content: \"\";width: 100%;border-bottom: 1px solid gray;flex-grow: 1;}#sk-container-id-3 div.sk-label:hover label.sk-toggleable__label {background-color: #d4ebff;}#sk-container-id-3 div.sk-serial::before {content: \"\";position: absolute;border-left: 1px solid gray;box-sizing: border-box;top: 0;bottom: 0;left: 50%;z-index: 0;}#sk-container-id-3 div.sk-serial {display: flex;flex-direction: column;align-items: center;background-color: white;padding-right: 0.2em;padding-left: 0.2em;position: relative;}#sk-container-id-3 div.sk-item {position: relative;z-index: 1;}#sk-container-id-3 div.sk-parallel {display: flex;align-items: stretch;justify-content: center;background-color: white;position: relative;}#sk-container-id-3 div.sk-item::before, #sk-container-id-3 div.sk-parallel-item::before {content: \"\";position: absolute;border-left: 1px solid gray;box-sizing: border-box;top: 0;bottom: 0;left: 50%;z-index: -1;}#sk-container-id-3 div.sk-parallel-item {display: flex;flex-direction: column;z-index: 1;position: relative;background-color: white;}#sk-container-id-3 div.sk-parallel-item:first-child::after {align-self: flex-end;width: 50%;}#sk-container-id-3 div.sk-parallel-item:last-child::after {align-self: flex-start;width: 50%;}#sk-container-id-3 div.sk-parallel-item:only-child::after {width: 0;}#sk-container-id-3 div.sk-dashed-wrapped {border: 1px dashed gray;margin: 0 0.4em 0.5em 0.4em;box-sizing: border-box;padding-bottom: 0.4em;background-color: white;}#sk-container-id-3 div.sk-label label {font-family: monospace;font-weight: bold;display: inline-block;line-height: 1.2em;}#sk-container-id-3 div.sk-label-container {text-align: center;}#sk-container-id-3 div.sk-container {/* jupyter's `normalize.less` sets `[hidden] { display: none; }` but bootstrap.min.css set `[hidden] { display: none !important; }` so we also need the `!important` here to be able to override the default hidden behavior on the sphinx rendered scikit-learn.org. See: https://github.com/scikit-learn/scikit-learn/issues/21755 */display: inline-block !important;position: relative;}#sk-container-id-3 div.sk-text-repr-fallback {display: none;}</style><div id=\"sk-container-id-3\" class=\"sk-top-container\"><div class=\"sk-text-repr-fallback\"><pre>Lasso(alpha=5)</pre><b>In a Jupyter environment, please rerun this cell to show the HTML representation or trust the notebook. <br />On GitHub, the HTML representation is unable to render, please try loading this page with nbviewer.org.</b></div><div class=\"sk-container\" hidden><div class=\"sk-item\"><div class=\"sk-estimator sk-toggleable\"><input class=\"sk-toggleable__control sk-hidden--visually\" id=\"sk-estimator-id-3\" type=\"checkbox\" checked><label for=\"sk-estimator-id-3\" class=\"sk-toggleable__label sk-toggleable__label-arrow\">Lasso</label><div class=\"sk-toggleable__content\"><pre>Lasso(alpha=5)</pre></div></div></div></div></div>"
      ],
      "text/plain": [
       "Lasso(alpha=5)"
      ]
     },
     "execution_count": 102,
     "metadata": {},
     "output_type": "execute_result"
    }
   ],
   "source": [
    "lasso_model = model_building(Lasso(alpha=5), x_train, y_train)\n",
    "lasso_model"
   ]
  },
  {
   "cell_type": "code",
   "execution_count": 103,
   "id": "8e37b271",
   "metadata": {},
   "outputs": [
    {
     "name": "stdout",
     "output_type": "stream",
     "text": [
      "***************Test Data Evaluation***************\n",
      "MSE: 11425490.59183625\n",
      "RMSE: 3380.1613263032655\n",
      "MAE: 2299.976833950748\n",
      "R2_Score: 0.6689266664766225\n",
      "\n",
      "**************Train Data Evaluation***************\n",
      "MSE: 6089106.472940572\n",
      "RMSE: 2467.6114914914324\n",
      "MAE: 1728.8091697676446\n",
      "R2_Score: 0.9109520228881817\n"
     ]
    }
   ],
   "source": [
    "print('Test Data Evaluation'.center(50, '*'))\n",
    "evaluation(lasso_model, x_test, y_test)\n",
    "\n",
    "print()\n",
    "\n",
    "print('Train Data Evaluation'.center(50, '*'))\n",
    "evaluation(lasso_model, x_train, y_train)"
   ]
  },
  {
   "cell_type": "code",
   "execution_count": 104,
   "id": "5fdc7aca",
   "metadata": {},
   "outputs": [
    {
     "data": {
      "text/plain": [
       "array([  305.61673255, -4035.69783751,    10.17510729,    45.52440908,\n",
       "          19.89862354,     9.61009979,  1502.93602959,   -54.62077457,\n",
       "         306.24784308,    31.62922409,  -132.78256957,   -28.48725877,\n",
       "        2690.33938454,  1537.09453381,  -976.08431938,  -616.49646473,\n",
       "       -2634.85313424,    42.96664437, -2969.80756363, -1465.68268748,\n",
       "        1785.8231311 ,  1814.61940172,  -149.4659556 ,   941.54702953,\n",
       "         711.08643107,   -81.50617949,   232.12955243,  1375.84624404,\n",
       "           0.        ,  -299.81436979, -1462.12647896,  -475.6151993 ])"
      ]
     },
     "execution_count": 104,
     "metadata": {},
     "output_type": "execute_result"
    }
   ],
   "source": [
    "ridge_model.coef_"
   ]
  },
  {
   "cell_type": "code",
   "execution_count": 105,
   "id": "3e48549c",
   "metadata": {},
   "outputs": [
    {
     "data": {
      "text/plain": [
       "array([ 3.32161819e+02, -1.73430665e+04,  1.32782893e+02,  4.04210016e+01,\n",
       "       -1.19039902e+02,  9.85637020e+00,  1.58166659e+03, -1.04467581e+02,\n",
       "        3.32161827e+03,  4.53617928e+01, -1.61954628e+02,  1.98828177e+01,\n",
       "        4.56949232e+03,  1.25817264e+03,  0.00000000e+00, -3.89119567e+02,\n",
       "       -2.38754171e+03, -3.28289958e+02, -2.17988294e+04, -2.95367133e+03,\n",
       "        1.84747406e+03, -0.00000000e+00,  2.79690521e+02,  8.67029238e+02,\n",
       "        1.70890177e+03,  6.27509337e+02, -3.57653018e+02,  3.63330736e+03,\n",
       "        0.00000000e+00, -0.00000000e+00, -1.65577067e+03, -1.92628024e+03])"
      ]
     },
     "execution_count": 105,
     "metadata": {},
     "output_type": "execute_result"
    }
   ],
   "source": [
    "lasso_model.coef_"
   ]
  },
  {
   "cell_type": "code",
   "execution_count": 106,
   "id": "8fb3b298",
   "metadata": {},
   "outputs": [
    {
     "data": {
      "text/plain": [
       "<AxesSubplot:xlabel='city-mpg', ylabel='Density'>"
      ]
     },
     "execution_count": 106,
     "metadata": {},
     "output_type": "execute_result"
    }
   ],
   "source": [
    "rm_feat = pd.Series(ridge_model.coef_, index=x.columns)\n",
    "rm_feat.sort_values().plot(kind='barh')"
   ]
  },
  {
   "cell_type": "code",
   "execution_count": 107,
   "id": "df82ef2e",
   "metadata": {},
   "outputs": [
    {
     "data": {
      "text/plain": [
       "<AxesSubplot:xlabel='city-mpg', ylabel='Density'>"
      ]
     },
     "execution_count": 107,
     "metadata": {},
     "output_type": "execute_result"
    }
   ],
   "source": [
    "ls_feat = pd.Series(lasso_model.coef_, index=x.columns)\n",
    "ls_feat.sort_values().plot(kind='barh')"
   ]
  },
  {
   "cell_type": "code",
   "execution_count": 108,
   "id": "04d51394",
   "metadata": {},
   "outputs": [
    {
     "data": {
      "text/plain": [
       "engine-type_dohcv        -21798.829427\n",
       "engine-location          -17343.066539\n",
       "engine-type_l             -2953.671330\n",
       "body-style_wagon          -2387.541710\n",
       "fuel-system_spfi          -1926.280245\n",
       "fuel-system_spdi          -1655.770672\n",
       "body-style_sedan           -389.119567\n",
       "fuel-system_4bbl           -357.653018\n",
       "engine-type_dohc           -328.289958\n",
       "city-mpg                   -161.954628\n",
       "width                      -119.039902\n",
       "engine-size                -104.467581\n",
       "fuel-system_mpfi             -0.000000\n",
       "fuel-system_mfi               0.000000\n",
       "body-style_hatchback          0.000000\n",
       "engine-type_ohcf             -0.000000\n",
       "curb-weight                   9.856370\n",
       "highway-mpg                  19.882818\n",
       "length                       40.421002\n",
       "horsepower                   45.361793\n",
       "wheel-base                  132.782893\n",
       "engine-type_ohcv            279.690521\n",
       "drive-wheels                332.161819\n",
       "fuel-system_2bbl            627.509337\n",
       "engine-type_rotor           867.029238\n",
       "body-style_hardtop         1258.172638\n",
       "num-of-cylinders           1581.666593\n",
       "fuel-system_1bbl           1708.901767\n",
       "engine-type_ohc            1847.474061\n",
       "bore                       3321.618272\n",
       "fuel-system_idi            3633.307359\n",
       "body-style_convertible     4569.492316\n",
       "dtype: float64"
      ]
     },
     "execution_count": 108,
     "metadata": {},
     "output_type": "execute_result"
    }
   ],
   "source": [
    "ls_feat.sort_values()"
   ]
  },
  {
   "cell_type": "code",
   "execution_count": 109,
   "id": "476e3c68",
   "metadata": {
    "scrolled": true
   },
   "outputs": [
    {
     "data": {
      "text/html": [
       "<div>\n",
       "<style scoped>\n",
       "    .dataframe tbody tr th:only-of-type {\n",
       "        vertical-align: middle;\n",
       "    }\n",
       "\n",
       "    .dataframe tbody tr th {\n",
       "        vertical-align: top;\n",
       "    }\n",
       "\n",
       "    .dataframe thead th {\n",
       "        text-align: right;\n",
       "    }\n",
       "</style>\n",
       "<table border=\"1\" class=\"dataframe\">\n",
       "  <thead>\n",
       "    <tr style=\"text-align: right;\">\n",
       "      <th></th>\n",
       "      <th>Features</th>\n",
       "      <th>coeff</th>\n",
       "    </tr>\n",
       "  </thead>\n",
       "  <tbody>\n",
       "    <tr>\n",
       "      <th>0</th>\n",
       "      <td>drive-wheels</td>\n",
       "      <td>332.161819</td>\n",
       "    </tr>\n",
       "    <tr>\n",
       "      <th>1</th>\n",
       "      <td>engine-location</td>\n",
       "      <td>-17343.066539</td>\n",
       "    </tr>\n",
       "    <tr>\n",
       "      <th>2</th>\n",
       "      <td>wheel-base</td>\n",
       "      <td>132.782893</td>\n",
       "    </tr>\n",
       "    <tr>\n",
       "      <th>3</th>\n",
       "      <td>length</td>\n",
       "      <td>40.421002</td>\n",
       "    </tr>\n",
       "    <tr>\n",
       "      <th>4</th>\n",
       "      <td>width</td>\n",
       "      <td>-119.039902</td>\n",
       "    </tr>\n",
       "    <tr>\n",
       "      <th>5</th>\n",
       "      <td>curb-weight</td>\n",
       "      <td>9.856370</td>\n",
       "    </tr>\n",
       "    <tr>\n",
       "      <th>6</th>\n",
       "      <td>num-of-cylinders</td>\n",
       "      <td>1581.666593</td>\n",
       "    </tr>\n",
       "    <tr>\n",
       "      <th>7</th>\n",
       "      <td>engine-size</td>\n",
       "      <td>-104.467581</td>\n",
       "    </tr>\n",
       "    <tr>\n",
       "      <th>8</th>\n",
       "      <td>bore</td>\n",
       "      <td>3321.618272</td>\n",
       "    </tr>\n",
       "    <tr>\n",
       "      <th>9</th>\n",
       "      <td>horsepower</td>\n",
       "      <td>45.361793</td>\n",
       "    </tr>\n",
       "    <tr>\n",
       "      <th>10</th>\n",
       "      <td>city-mpg</td>\n",
       "      <td>-161.954628</td>\n",
       "    </tr>\n",
       "    <tr>\n",
       "      <th>11</th>\n",
       "      <td>highway-mpg</td>\n",
       "      <td>19.882818</td>\n",
       "    </tr>\n",
       "    <tr>\n",
       "      <th>12</th>\n",
       "      <td>body-style_convertible</td>\n",
       "      <td>4569.492316</td>\n",
       "    </tr>\n",
       "    <tr>\n",
       "      <th>13</th>\n",
       "      <td>body-style_hardtop</td>\n",
       "      <td>1258.172638</td>\n",
       "    </tr>\n",
       "    <tr>\n",
       "      <th>14</th>\n",
       "      <td>body-style_hatchback</td>\n",
       "      <td>0.000000</td>\n",
       "    </tr>\n",
       "    <tr>\n",
       "      <th>15</th>\n",
       "      <td>body-style_sedan</td>\n",
       "      <td>-389.119567</td>\n",
       "    </tr>\n",
       "    <tr>\n",
       "      <th>16</th>\n",
       "      <td>body-style_wagon</td>\n",
       "      <td>-2387.541710</td>\n",
       "    </tr>\n",
       "    <tr>\n",
       "      <th>17</th>\n",
       "      <td>engine-type_dohc</td>\n",
       "      <td>-328.289958</td>\n",
       "    </tr>\n",
       "    <tr>\n",
       "      <th>18</th>\n",
       "      <td>engine-type_dohcv</td>\n",
       "      <td>-21798.829427</td>\n",
       "    </tr>\n",
       "    <tr>\n",
       "      <th>19</th>\n",
       "      <td>engine-type_l</td>\n",
       "      <td>-2953.671330</td>\n",
       "    </tr>\n",
       "    <tr>\n",
       "      <th>20</th>\n",
       "      <td>engine-type_ohc</td>\n",
       "      <td>1847.474061</td>\n",
       "    </tr>\n",
       "    <tr>\n",
       "      <th>21</th>\n",
       "      <td>engine-type_ohcf</td>\n",
       "      <td>-0.000000</td>\n",
       "    </tr>\n",
       "    <tr>\n",
       "      <th>22</th>\n",
       "      <td>engine-type_ohcv</td>\n",
       "      <td>279.690521</td>\n",
       "    </tr>\n",
       "    <tr>\n",
       "      <th>23</th>\n",
       "      <td>engine-type_rotor</td>\n",
       "      <td>867.029238</td>\n",
       "    </tr>\n",
       "    <tr>\n",
       "      <th>24</th>\n",
       "      <td>fuel-system_1bbl</td>\n",
       "      <td>1708.901767</td>\n",
       "    </tr>\n",
       "    <tr>\n",
       "      <th>25</th>\n",
       "      <td>fuel-system_2bbl</td>\n",
       "      <td>627.509337</td>\n",
       "    </tr>\n",
       "    <tr>\n",
       "      <th>26</th>\n",
       "      <td>fuel-system_4bbl</td>\n",
       "      <td>-357.653018</td>\n",
       "    </tr>\n",
       "    <tr>\n",
       "      <th>27</th>\n",
       "      <td>fuel-system_idi</td>\n",
       "      <td>3633.307359</td>\n",
       "    </tr>\n",
       "    <tr>\n",
       "      <th>28</th>\n",
       "      <td>fuel-system_mfi</td>\n",
       "      <td>0.000000</td>\n",
       "    </tr>\n",
       "    <tr>\n",
       "      <th>29</th>\n",
       "      <td>fuel-system_mpfi</td>\n",
       "      <td>-0.000000</td>\n",
       "    </tr>\n",
       "    <tr>\n",
       "      <th>30</th>\n",
       "      <td>fuel-system_spdi</td>\n",
       "      <td>-1655.770672</td>\n",
       "    </tr>\n",
       "    <tr>\n",
       "      <th>31</th>\n",
       "      <td>fuel-system_spfi</td>\n",
       "      <td>-1926.280245</td>\n",
       "    </tr>\n",
       "  </tbody>\n",
       "</table>\n",
       "</div>"
      ],
      "text/plain": [
       "                  Features         coeff\n",
       "0             drive-wheels    332.161819\n",
       "1          engine-location -17343.066539\n",
       "2               wheel-base    132.782893\n",
       "3                   length     40.421002\n",
       "4                    width   -119.039902\n",
       "5              curb-weight      9.856370\n",
       "6         num-of-cylinders   1581.666593\n",
       "7              engine-size   -104.467581\n",
       "8                     bore   3321.618272\n",
       "9               horsepower     45.361793\n",
       "10                city-mpg   -161.954628\n",
       "11             highway-mpg     19.882818\n",
       "12  body-style_convertible   4569.492316\n",
       "13      body-style_hardtop   1258.172638\n",
       "14    body-style_hatchback      0.000000\n",
       "15        body-style_sedan   -389.119567\n",
       "16        body-style_wagon  -2387.541710\n",
       "17        engine-type_dohc   -328.289958\n",
       "18       engine-type_dohcv -21798.829427\n",
       "19           engine-type_l  -2953.671330\n",
       "20         engine-type_ohc   1847.474061\n",
       "21        engine-type_ohcf     -0.000000\n",
       "22        engine-type_ohcv    279.690521\n",
       "23       engine-type_rotor    867.029238\n",
       "24        fuel-system_1bbl   1708.901767\n",
       "25        fuel-system_2bbl    627.509337\n",
       "26        fuel-system_4bbl   -357.653018\n",
       "27         fuel-system_idi   3633.307359\n",
       "28         fuel-system_mfi      0.000000\n",
       "29        fuel-system_mpfi     -0.000000\n",
       "30        fuel-system_spdi  -1655.770672\n",
       "31        fuel-system_spfi  -1926.280245"
      ]
     },
     "execution_count": 109,
     "metadata": {},
     "output_type": "execute_result"
    }
   ],
   "source": [
    "df1 = ls_feat.reset_index()\n",
    "df1.columns = ['Features', 'coeff']\n",
    "df1"
   ]
  },
  {
   "cell_type": "code",
   "execution_count": 110,
   "id": "c29bb011",
   "metadata": {},
   "outputs": [
    {
     "data": {
      "text/plain": [
       "array(['length', 'curb-weight', 'horsepower', 'highway-mpg',\n",
       "       'body-style_hatchback', 'engine-type_ohcf', 'fuel-system_mfi',\n",
       "       'fuel-system_mpfi'], dtype=object)"
      ]
     },
     "execution_count": 110,
     "metadata": {},
     "output_type": "execute_result"
    }
   ],
   "source": [
    "df1[df1['coeff'].between(-100,100)]['Features'].values"
   ]
  },
  {
   "cell_type": "code",
   "execution_count": 111,
   "id": "afd602d7",
   "metadata": {},
   "outputs": [],
   "source": [
    "x = df_autos.drop(['aspiration', 'fuel-type', 'peak-rpm', 'compression-ratio', 'symboling',\n",
    "       'num-of-doors', 'stroke', 'normalized-losses', 'height', 'price','make',\n",
    "                   'length', 'curb-weight', 'horsepower', 'highway-mpg',\n",
    "       'body-style_hatchback', 'engine-type_ohcf', 'fuel-system_mfi',\n",
    "       'fuel-system_mpfi' ], axis=1)\n",
    "y = df_autos['price']\n",
    "\n",
    "x_train, x_test, y_train, y_test = train_test_split(x, y, test_size=0.2, random_state=2)"
   ]
  },
  {
   "cell_type": "code",
   "execution_count": 112,
   "id": "546979b4",
   "metadata": {},
   "outputs": [
    {
     "name": "stdout",
     "output_type": "stream",
     "text": [
      "Linear Regression\n",
      "***************Test Data Evaluation***************\n",
      "MSE: 12981221.911635201\n",
      "RMSE: 3602.9462820912554\n",
      "MAE: 2381.84881451608\n",
      "R2_Score: 0.6238466631303693\n",
      "\n",
      "**************Train Data Evaluation***************\n",
      "MSE: 8342669.728648334\n",
      "RMSE: 2888.368004366537\n",
      "MAE: 1959.644651501289\n",
      "R2_Score: 0.8779955866514232\n",
      "**************************************************\n",
      "Lasso\n",
      "***************Test Data Evaluation***************\n",
      "MSE: 12706856.848992975\n",
      "RMSE: 3564.6678455352576\n",
      "MAE: 2361.596648620763\n",
      "R2_Score: 0.6317968649323134\n",
      "\n",
      "**************Train Data Evaluation***************\n",
      "MSE: 8352245.931821735\n",
      "RMSE: 2890.0252476097394\n",
      "MAE: 1968.6931642985246\n",
      "R2_Score: 0.8778555428658871\n",
      "**************************************************\n",
      "Ridge\n",
      "***************Test Data Evaluation***************\n",
      "MSE: 11184125.687947933\n",
      "RMSE: 3344.267586176072\n",
      "MAE: 2256.3975095637247\n",
      "R2_Score: 0.6759206316533084\n",
      "\n",
      "**************Train Data Evaluation***************\n",
      "MSE: 11118202.80988009\n",
      "RMSE: 3334.39691846668\n",
      "MAE: 2262.3124454629915\n",
      "R2_Score: 0.8374057879036173\n",
      "**************************************************\n"
     ]
    }
   ],
   "source": [
    "models = [('Linear Regression', LinearRegression()), ('Lasso', Lasso(alpha=2)), ('Ridge', Ridge(alpha=2))]\n",
    "\n",
    "for name, model in models:\n",
    "    print(name)\n",
    "    new_model = model_building(model, x_train, y_train)\n",
    "    print('Test Data Evaluation'.center(50, '*'))\n",
    "    evaluation(new_model, x_test, y_test)\n",
    "\n",
    "    print()\n",
    "\n",
    "    print('Train Data Evaluation'.center(50, '*'))\n",
    "    evaluation(new_model, x_train, y_train)\n",
    "    \n",
    "    print('**'*25)"
   ]
  },
  {
   "cell_type": "code",
   "execution_count": 113,
   "id": "2ae97c4d",
   "metadata": {},
   "outputs": [],
   "source": [
    "linear_reg = model_building(LinearRegression(), x_train, y_train)"
   ]
  },
  {
   "cell_type": "code",
   "execution_count": 114,
   "id": "8d6c0106",
   "metadata": {},
   "outputs": [
    {
     "name": "stdout",
     "output_type": "stream",
     "text": [
      "MSE: 12981221.911635201\n",
      "RMSE: 3602.9462820912554\n",
      "MAE: 2381.84881451608\n",
      "R2_Score: 0.6238466631303693\n"
     ]
    }
   ],
   "source": [
    "def evaluation(model, ind_var, y_act):\n",
    "    pred = model.predict(ind_var)\n",
    "    \n",
    "    mse = mean_squared_error(y_act, pred)\n",
    "    print('MSE:', mse)\n",
    "\n",
    "    rmse = np.sqrt(mse)\n",
    "    print('RMSE:', rmse)\n",
    "\n",
    "    mae = mean_absolute_error(y_act, pred)\n",
    "    print('MAE:', mae)\n",
    "\n",
    "    r_squared = r2_score(y_act, pred)\n",
    "    print('R2_Score:',r_squared)\n",
    "    \n",
    "    return mse, rmse, mae, r_squared\n",
    "\n",
    "mse, rmse, mae, r_squared = evaluation(linear_reg, x_test, y_test)"
   ]
  },
  {
   "cell_type": "code",
   "execution_count": 115,
   "id": "92f9f42b",
   "metadata": {},
   "outputs": [
    {
     "name": "stdout",
     "output_type": "stream",
     "text": [
      "Linear Regression\n",
      "MSE: 12981221.911635201\n",
      "RMSE: 3602.9462820912554\n",
      "MAE: 2381.84881451608\n",
      "R2_Score: 0.6238466631303693\n",
      "MSE: 8342669.728648334\n",
      "RMSE: 2888.368004366537\n",
      "MAE: 1959.644651501289\n",
      "R2_Score: 0.8779955866514232\n",
      "Lasso\n",
      "MSE: 12706856.848992975\n",
      "RMSE: 3564.6678455352576\n",
      "MAE: 2361.596648620763\n",
      "R2_Score: 0.6317968649323134\n",
      "MSE: 8352245.931821735\n",
      "RMSE: 2890.0252476097394\n",
      "MAE: 1968.6931642985246\n",
      "R2_Score: 0.8778555428658871\n",
      "Ridge\n",
      "MSE: 11184125.687947933\n",
      "RMSE: 3344.267586176072\n",
      "MAE: 2256.3975095637247\n",
      "R2_Score: 0.6759206316533084\n",
      "MSE: 11118202.80988009\n",
      "RMSE: 3334.39691846668\n",
      "MAE: 2262.3124454629915\n",
      "R2_Score: 0.8374057879036173\n"
     ]
    }
   ],
   "source": [
    "models = [('Linear Regression', LinearRegression()), ('Lasso', Lasso(alpha=2)), ('Ridge', Ridge(alpha=2))]\n",
    "\n",
    "model_report = {}\n",
    "\n",
    "for name, model in models:\n",
    "    print(name)\n",
    "    test1={}\n",
    "    new_model = model_building(model, x_train, y_train)\n",
    "#     print('Test Data Evaluation'.center(50, '*'))\n",
    "    mse, rmse, mae, r_squared = evaluation(new_model, x_test, y_test)\n",
    "    test1['Testing Evaluation'] = [mse,rmse, mae, r_squared]\n",
    "    model_report[name] = test1\n",
    "\n",
    "#     print()\n",
    "    \n",
    "    train1 = {}\n",
    "#     print('Train Data Evaluation'.center(50, '*'))\n",
    "    mse, rmse, mae, r_squared = evaluation(new_model, x_train, y_train)\n",
    "    train1['Training Evaluation'] = [mse,rmse, mae, r_squared]\n",
    "    model_report[name].update(train1)\n",
    "    \n",
    "    \n",
    "#     print('**'*25)"
   ]
  },
  {
   "cell_type": "code",
   "execution_count": 116,
   "id": "bd740ed2",
   "metadata": {},
   "outputs": [
    {
     "data": {
      "text/plain": [
       "{'Linear Regression': {'Testing Evaluation': [12981221.911635201,\n",
       "   3602.9462820912554,\n",
       "   2381.84881451608,\n",
       "   0.6238466631303693],\n",
       "  'Training Evaluation': [8342669.728648334,\n",
       "   2888.368004366537,\n",
       "   1959.644651501289,\n",
       "   0.8779955866514232]},\n",
       " 'Lasso': {'Testing Evaluation': [12706856.848992975,\n",
       "   3564.6678455352576,\n",
       "   2361.596648620763,\n",
       "   0.6317968649323134],\n",
       "  'Training Evaluation': [8352245.931821735,\n",
       "   2890.0252476097394,\n",
       "   1968.6931642985246,\n",
       "   0.8778555428658871]},\n",
       " 'Ridge': {'Testing Evaluation': [11184125.687947933,\n",
       "   3344.267586176072,\n",
       "   2256.3975095637247,\n",
       "   0.6759206316533084],\n",
       "  'Training Evaluation': [11118202.80988009,\n",
       "   3334.39691846668,\n",
       "   2262.3124454629915,\n",
       "   0.8374057879036173]}}"
      ]
     },
     "execution_count": 116,
     "metadata": {},
     "output_type": "execute_result"
    }
   ],
   "source": [
    "model_report"
   ]
  },
  {
   "cell_type": "code",
   "execution_count": 117,
   "id": "5340da13",
   "metadata": {},
   "outputs": [
    {
     "data": {
      "text/plain": [
       "Linear Regression  Testing Evaluation     [12981221.911635201, 3602.9462820912554, 2381....\n",
       "                   Training Evaluation    [8342669.728648334, 2888.368004366537, 1959.64...\n",
       "Lasso              Testing Evaluation     [12706856.848992975, 3564.6678455352576, 2361....\n",
       "                   Training Evaluation    [8352245.931821735, 2890.0252476097394, 1968.6...\n",
       "Ridge              Testing Evaluation     [11184125.687947933, 3344.267586176072, 2256.3...\n",
       "                   Training Evaluation    [11118202.80988009, 3334.39691846668, 2262.312...\n",
       "dtype: object"
      ]
     },
     "execution_count": 117,
     "metadata": {},
     "output_type": "execute_result"
    }
   ],
   "source": [
    "pd.DataFrame(model_report).unstack().T"
   ]
  },
  {
   "cell_type": "code",
   "execution_count": 118,
   "id": "0f307eb7",
   "metadata": {},
   "outputs": [
    {
     "data": {
      "text/html": [
       "<div>\n",
       "<style scoped>\n",
       "    .dataframe tbody tr th:only-of-type {\n",
       "        vertical-align: middle;\n",
       "    }\n",
       "\n",
       "    .dataframe tbody tr th {\n",
       "        vertical-align: top;\n",
       "    }\n",
       "\n",
       "    .dataframe thead tr th {\n",
       "        text-align: left;\n",
       "    }\n",
       "</style>\n",
       "<table border=\"1\" class=\"dataframe\">\n",
       "  <thead>\n",
       "    <tr>\n",
       "      <th></th>\n",
       "      <th colspan=\"2\" halign=\"left\">Linear Regression</th>\n",
       "      <th colspan=\"2\" halign=\"left\">Lasso</th>\n",
       "      <th colspan=\"2\" halign=\"left\">Ridge</th>\n",
       "    </tr>\n",
       "    <tr>\n",
       "      <th></th>\n",
       "      <th>Testing Evaluation</th>\n",
       "      <th>Training Evaluation</th>\n",
       "      <th>Testing Evaluation</th>\n",
       "      <th>Training Evaluation</th>\n",
       "      <th>Testing Evaluation</th>\n",
       "      <th>Training Evaluation</th>\n",
       "    </tr>\n",
       "  </thead>\n",
       "  <tbody>\n",
       "    <tr>\n",
       "      <th>0</th>\n",
       "      <td>[12981221.911635201, 3602.9462820912554, 2381....</td>\n",
       "      <td>[8342669.728648334, 2888.368004366537, 1959.64...</td>\n",
       "      <td>[12706856.848992975, 3564.6678455352576, 2361....</td>\n",
       "      <td>[8352245.931821735, 2890.0252476097394, 1968.6...</td>\n",
       "      <td>[11184125.687947933, 3344.267586176072, 2256.3...</td>\n",
       "      <td>[11118202.80988009, 3334.39691846668, 2262.312...</td>\n",
       "    </tr>\n",
       "  </tbody>\n",
       "</table>\n",
       "</div>"
      ],
      "text/plain": [
       "                                   Linear Regression  \\\n",
       "                                  Testing Evaluation   \n",
       "0  [12981221.911635201, 3602.9462820912554, 2381....   \n",
       "\n",
       "                                                      \\\n",
       "                                 Training Evaluation   \n",
       "0  [8342669.728648334, 2888.368004366537, 1959.64...   \n",
       "\n",
       "                                               Lasso  \\\n",
       "                                  Testing Evaluation   \n",
       "0  [12706856.848992975, 3564.6678455352576, 2361....   \n",
       "\n",
       "                                                      \\\n",
       "                                 Training Evaluation   \n",
       "0  [8352245.931821735, 2890.0252476097394, 1968.6...   \n",
       "\n",
       "                                               Ridge  \\\n",
       "                                  Testing Evaluation   \n",
       "0  [11184125.687947933, 3344.267586176072, 2256.3...   \n",
       "\n",
       "                                                      \n",
       "                                 Training Evaluation  \n",
       "0  [11118202.80988009, 3334.39691846668, 2262.312...  "
      ]
     },
     "execution_count": 118,
     "metadata": {},
     "output_type": "execute_result"
    }
   ],
   "source": [
    "df3 = pd.DataFrame(model_report)\n",
    "df4 = pd.DataFrame(df3.unstack()).T\n",
    "df4"
   ]
  },
  {
   "cell_type": "code",
   "execution_count": 119,
   "id": "992348d0",
   "metadata": {},
   "outputs": [
    {
     "data": {
      "text/html": [
       "<div>\n",
       "<style scoped>\n",
       "    .dataframe tbody tr th:only-of-type {\n",
       "        vertical-align: middle;\n",
       "    }\n",
       "\n",
       "    .dataframe tbody tr th {\n",
       "        vertical-align: top;\n",
       "    }\n",
       "\n",
       "    .dataframe thead tr th {\n",
       "        text-align: left;\n",
       "    }\n",
       "</style>\n",
       "<table border=\"1\" class=\"dataframe\">\n",
       "  <thead>\n",
       "    <tr>\n",
       "      <th></th>\n",
       "      <th colspan=\"2\" halign=\"left\">Linear Regression</th>\n",
       "      <th colspan=\"2\" halign=\"left\">Lasso</th>\n",
       "      <th colspan=\"2\" halign=\"left\">Ridge</th>\n",
       "    </tr>\n",
       "    <tr>\n",
       "      <th></th>\n",
       "      <th>Testing Evaluation</th>\n",
       "      <th>Training Evaluation</th>\n",
       "      <th>Testing Evaluation</th>\n",
       "      <th>Training Evaluation</th>\n",
       "      <th>Testing Evaluation</th>\n",
       "      <th>Training Evaluation</th>\n",
       "    </tr>\n",
       "  </thead>\n",
       "  <tbody>\n",
       "    <tr>\n",
       "      <th>MSE</th>\n",
       "      <td>12981221.91</td>\n",
       "      <td>8342669.73</td>\n",
       "      <td>12706856.85</td>\n",
       "      <td>8352245.93</td>\n",
       "      <td>11184125.69</td>\n",
       "      <td>11118202.81</td>\n",
       "    </tr>\n",
       "    <tr>\n",
       "      <th>RMSE</th>\n",
       "      <td>3602.95</td>\n",
       "      <td>2888.37</td>\n",
       "      <td>3564.67</td>\n",
       "      <td>2890.03</td>\n",
       "      <td>3344.27</td>\n",
       "      <td>3334.40</td>\n",
       "    </tr>\n",
       "    <tr>\n",
       "      <th>MAE</th>\n",
       "      <td>2381.85</td>\n",
       "      <td>1959.64</td>\n",
       "      <td>2361.60</td>\n",
       "      <td>1968.69</td>\n",
       "      <td>2256.40</td>\n",
       "      <td>2262.31</td>\n",
       "    </tr>\n",
       "    <tr>\n",
       "      <th>R2_Score</th>\n",
       "      <td>0.62</td>\n",
       "      <td>0.88</td>\n",
       "      <td>0.63</td>\n",
       "      <td>0.88</td>\n",
       "      <td>0.68</td>\n",
       "      <td>0.84</td>\n",
       "    </tr>\n",
       "  </tbody>\n",
       "</table>\n",
       "</div>"
      ],
      "text/plain": [
       "          Linear Regression                                  Lasso  \\\n",
       "         Testing Evaluation Training Evaluation Testing Evaluation   \n",
       "MSE             12981221.91          8342669.73        12706856.85   \n",
       "RMSE                3602.95             2888.37            3564.67   \n",
       "MAE                 2381.85             1959.64            2361.60   \n",
       "R2_Score               0.62                0.88               0.63   \n",
       "\n",
       "                                          Ridge                      \n",
       "         Training Evaluation Testing Evaluation Training Evaluation  \n",
       "MSE               8352245.93        11184125.69         11118202.81  \n",
       "RMSE                 2890.03            3344.27             3334.40  \n",
       "MAE                  1968.69            2256.40             2262.31  \n",
       "R2_Score                0.88               0.68                0.84  "
      ]
     },
     "execution_count": 119,
     "metadata": {},
     "output_type": "execute_result"
    }
   ],
   "source": [
    "reformed_dict = {}\n",
    "for outerKey, innerDict in model_report.items():\n",
    "    for innerKey, values in innerDict.items():\n",
    "        reformed_dict[(outerKey,\n",
    "                       innerKey)] = values\n",
    "\n",
    "# Final output\n",
    "final_df = pd.DataFrame(reformed_dict)\n",
    "final_df.index = ['MSE','RMSE','MAE','R2_Score']\n",
    "final_df.round(2)"
   ]
  },
  {
   "cell_type": "code",
   "execution_count": null,
   "id": "521ff765",
   "metadata": {},
   "outputs": [],
   "source": []
  },
  {
   "cell_type": "code",
   "execution_count": 120,
   "id": "b8b1a12d",
   "metadata": {},
   "outputs": [
    {
     "name": "stdout",
     "output_type": "stream",
     "text": [
      "MSE: 12981221.911635201\n",
      "RMSE: 3602.9462820912554\n",
      "MAE: 2381.84881451608\n",
      "R2_Score: 0.6238466631303693\n"
     ]
    }
   ],
   "source": [
    "class Autos_Data():\n",
    "    \n",
    "    def __init__(self, x_train, x_test, y_train, y_test):\n",
    "        self.x_train = x_train\n",
    "        self.x_test = x_test\n",
    "        self.y_train = y_train\n",
    "        self.y_test  = y_test\n",
    "        \n",
    "    def Linear_Regression(self, algo):\n",
    "        model = model_building(algo, self.x_train, self.y_train)\n",
    "        return model\n",
    "    \n",
    "    def evalaution_metric(self, model, ind_var, y_act):\n",
    "        \n",
    "        mse, rmse, mae, r_squared = evaluation(model,ind_var, y_act )\n",
    "        return mse, rmse, mae, r_squared\n",
    "        \n",
    "data_model = Autos_Data(x_train, x_test, y_train, y_test)\n",
    "lr_model = data_model.Linear_Regression(LinearRegression())\n",
    "mse, rmse, mae, r_squared = data_model.evalaution_metric(lr_model, x_test, y_test)"
   ]
  },
  {
   "cell_type": "markdown",
   "id": "342b0147",
   "metadata": {},
   "source": [
    "## 4. Hyperparamter Tuning"
   ]
  },
  {
   "cell_type": "code",
   "execution_count": 124,
   "id": "9c1d52eb",
   "metadata": {},
   "outputs": [],
   "source": [
    "from sklearn.model_selection import GridSearchCV, RandomizedSearchCV"
   ]
  },
  {
   "cell_type": "code",
   "execution_count": null,
   "id": "880ea502",
   "metadata": {},
   "outputs": [],
   "source": [
    "- To reduce Overfitting Problem\n",
    "- To find the best parameters for Machine Learning Models\n",
    "\n",
    "1. GridSearchCV\n",
    "2. RandomizedSearchCV"
   ]
  },
  {
   "cell_type": "code",
   "execution_count": 143,
   "id": "cfd5bd71",
   "metadata": {},
   "outputs": [
    {
     "data": {
      "text/plain": [
       "147"
      ]
     },
     "execution_count": 143,
     "metadata": {},
     "output_type": "execute_result"
    }
   ],
   "source": [
    "a1 = np.arange(0.01, 1, 0.01)\n",
    "a2 = np.arange(1,25, 0.5)\n",
    "alpha_array = np.append(a1, a2)\n",
    "len(alpha_array)"
   ]
  },
  {
   "cell_type": "markdown",
   "id": "deec1aa1",
   "metadata": {},
   "source": [
    "## GridSearchCV"
   ]
  },
  {
   "cell_type": "markdown",
   "id": "f6dcda5a",
   "metadata": {},
   "source": [
    "### Ridge"
   ]
  },
  {
   "cell_type": "code",
   "execution_count": 129,
   "id": "efafb478",
   "metadata": {},
   "outputs": [
    {
     "data": {
      "text/html": [
       "<style>#sk-container-id-5 {color: black;background-color: white;}#sk-container-id-5 pre{padding: 0;}#sk-container-id-5 div.sk-toggleable {background-color: white;}#sk-container-id-5 label.sk-toggleable__label {cursor: pointer;display: block;width: 100%;margin-bottom: 0;padding: 0.3em;box-sizing: border-box;text-align: center;}#sk-container-id-5 label.sk-toggleable__label-arrow:before {content: \"▸\";float: left;margin-right: 0.25em;color: #696969;}#sk-container-id-5 label.sk-toggleable__label-arrow:hover:before {color: black;}#sk-container-id-5 div.sk-estimator:hover label.sk-toggleable__label-arrow:before {color: black;}#sk-container-id-5 div.sk-toggleable__content {max-height: 0;max-width: 0;overflow: hidden;text-align: left;background-color: #f0f8ff;}#sk-container-id-5 div.sk-toggleable__content pre {margin: 0.2em;color: black;border-radius: 0.25em;background-color: #f0f8ff;}#sk-container-id-5 input.sk-toggleable__control:checked~div.sk-toggleable__content {max-height: 200px;max-width: 100%;overflow: auto;}#sk-container-id-5 input.sk-toggleable__control:checked~label.sk-toggleable__label-arrow:before {content: \"▾\";}#sk-container-id-5 div.sk-estimator input.sk-toggleable__control:checked~label.sk-toggleable__label {background-color: #d4ebff;}#sk-container-id-5 div.sk-label input.sk-toggleable__control:checked~label.sk-toggleable__label {background-color: #d4ebff;}#sk-container-id-5 input.sk-hidden--visually {border: 0;clip: rect(1px 1px 1px 1px);clip: rect(1px, 1px, 1px, 1px);height: 1px;margin: -1px;overflow: hidden;padding: 0;position: absolute;width: 1px;}#sk-container-id-5 div.sk-estimator {font-family: monospace;background-color: #f0f8ff;border: 1px dotted black;border-radius: 0.25em;box-sizing: border-box;margin-bottom: 0.5em;}#sk-container-id-5 div.sk-estimator:hover {background-color: #d4ebff;}#sk-container-id-5 div.sk-parallel-item::after {content: \"\";width: 100%;border-bottom: 1px solid gray;flex-grow: 1;}#sk-container-id-5 div.sk-label:hover label.sk-toggleable__label {background-color: #d4ebff;}#sk-container-id-5 div.sk-serial::before {content: \"\";position: absolute;border-left: 1px solid gray;box-sizing: border-box;top: 0;bottom: 0;left: 50%;z-index: 0;}#sk-container-id-5 div.sk-serial {display: flex;flex-direction: column;align-items: center;background-color: white;padding-right: 0.2em;padding-left: 0.2em;position: relative;}#sk-container-id-5 div.sk-item {position: relative;z-index: 1;}#sk-container-id-5 div.sk-parallel {display: flex;align-items: stretch;justify-content: center;background-color: white;position: relative;}#sk-container-id-5 div.sk-item::before, #sk-container-id-5 div.sk-parallel-item::before {content: \"\";position: absolute;border-left: 1px solid gray;box-sizing: border-box;top: 0;bottom: 0;left: 50%;z-index: -1;}#sk-container-id-5 div.sk-parallel-item {display: flex;flex-direction: column;z-index: 1;position: relative;background-color: white;}#sk-container-id-5 div.sk-parallel-item:first-child::after {align-self: flex-end;width: 50%;}#sk-container-id-5 div.sk-parallel-item:last-child::after {align-self: flex-start;width: 50%;}#sk-container-id-5 div.sk-parallel-item:only-child::after {width: 0;}#sk-container-id-5 div.sk-dashed-wrapped {border: 1px dashed gray;margin: 0 0.4em 0.5em 0.4em;box-sizing: border-box;padding-bottom: 0.4em;background-color: white;}#sk-container-id-5 div.sk-label label {font-family: monospace;font-weight: bold;display: inline-block;line-height: 1.2em;}#sk-container-id-5 div.sk-label-container {text-align: center;}#sk-container-id-5 div.sk-container {/* jupyter's `normalize.less` sets `[hidden] { display: none; }` but bootstrap.min.css set `[hidden] { display: none !important; }` so we also need the `!important` here to be able to override the default hidden behavior on the sphinx rendered scikit-learn.org. See: https://github.com/scikit-learn/scikit-learn/issues/21755 */display: inline-block !important;position: relative;}#sk-container-id-5 div.sk-text-repr-fallback {display: none;}</style><div id=\"sk-container-id-5\" class=\"sk-top-container\"><div class=\"sk-text-repr-fallback\"><pre>GridSearchCV(cv=5, estimator=Ridge(alpha=0.1),\n",
       "             param_grid={&#x27;alpha&#x27;: array([1.00e-02, 2.00e-02, 3.00e-02, 4.00e-02, 5.00e-02, 6.00e-02,\n",
       "       7.00e-02, 8.00e-02, 9.00e-02, 1.00e-01, 1.10e-01, 1.20e-01,\n",
       "       1.30e-01, 1.40e-01, 1.50e-01, 1.60e-01, 1.70e-01, 1.80e-01,\n",
       "       1.90e-01, 2.00e-01, 2.10e-01, 2.20e-01, 2.30e-01, 2.40e-01,\n",
       "       2.50e-01, 2.60e-01, 2.70e-01, 2.80e-01, 2.90e-01, 3.00e-01,\n",
       "       3.10e-01...\n",
       "       5.50e+00, 6.00e+00, 6.50e+00, 7.00e+00, 7.50e+00, 8.00e+00,\n",
       "       8.50e+00, 9.00e+00, 9.50e+00, 1.00e+01, 1.05e+01, 1.10e+01,\n",
       "       1.15e+01, 1.20e+01, 1.25e+01, 1.30e+01, 1.35e+01, 1.40e+01,\n",
       "       1.45e+01, 1.50e+01, 1.55e+01, 1.60e+01, 1.65e+01, 1.70e+01,\n",
       "       1.75e+01, 1.80e+01, 1.85e+01, 1.90e+01, 1.95e+01, 2.00e+01,\n",
       "       2.05e+01, 2.10e+01, 2.15e+01, 2.20e+01, 2.25e+01, 2.30e+01,\n",
       "       2.35e+01, 2.40e+01, 2.45e+01])})</pre><b>In a Jupyter environment, please rerun this cell to show the HTML representation or trust the notebook. <br />On GitHub, the HTML representation is unable to render, please try loading this page with nbviewer.org.</b></div><div class=\"sk-container\" hidden><div class=\"sk-item sk-dashed-wrapped\"><div class=\"sk-label-container\"><div class=\"sk-label sk-toggleable\"><input class=\"sk-toggleable__control sk-hidden--visually\" id=\"sk-estimator-id-7\" type=\"checkbox\" ><label for=\"sk-estimator-id-7\" class=\"sk-toggleable__label sk-toggleable__label-arrow\">GridSearchCV</label><div class=\"sk-toggleable__content\"><pre>GridSearchCV(cv=5, estimator=Ridge(alpha=0.1),\n",
       "             param_grid={&#x27;alpha&#x27;: array([1.00e-02, 2.00e-02, 3.00e-02, 4.00e-02, 5.00e-02, 6.00e-02,\n",
       "       7.00e-02, 8.00e-02, 9.00e-02, 1.00e-01, 1.10e-01, 1.20e-01,\n",
       "       1.30e-01, 1.40e-01, 1.50e-01, 1.60e-01, 1.70e-01, 1.80e-01,\n",
       "       1.90e-01, 2.00e-01, 2.10e-01, 2.20e-01, 2.30e-01, 2.40e-01,\n",
       "       2.50e-01, 2.60e-01, 2.70e-01, 2.80e-01, 2.90e-01, 3.00e-01,\n",
       "       3.10e-01...\n",
       "       5.50e+00, 6.00e+00, 6.50e+00, 7.00e+00, 7.50e+00, 8.00e+00,\n",
       "       8.50e+00, 9.00e+00, 9.50e+00, 1.00e+01, 1.05e+01, 1.10e+01,\n",
       "       1.15e+01, 1.20e+01, 1.25e+01, 1.30e+01, 1.35e+01, 1.40e+01,\n",
       "       1.45e+01, 1.50e+01, 1.55e+01, 1.60e+01, 1.65e+01, 1.70e+01,\n",
       "       1.75e+01, 1.80e+01, 1.85e+01, 1.90e+01, 1.95e+01, 2.00e+01,\n",
       "       2.05e+01, 2.10e+01, 2.15e+01, 2.20e+01, 2.25e+01, 2.30e+01,\n",
       "       2.35e+01, 2.40e+01, 2.45e+01])})</pre></div></div></div><div class=\"sk-parallel\"><div class=\"sk-parallel-item\"><div class=\"sk-item\"><div class=\"sk-label-container\"><div class=\"sk-label sk-toggleable\"><input class=\"sk-toggleable__control sk-hidden--visually\" id=\"sk-estimator-id-8\" type=\"checkbox\" ><label for=\"sk-estimator-id-8\" class=\"sk-toggleable__label sk-toggleable__label-arrow\">estimator: Ridge</label><div class=\"sk-toggleable__content\"><pre>Ridge(alpha=0.1)</pre></div></div></div><div class=\"sk-serial\"><div class=\"sk-item\"><div class=\"sk-estimator sk-toggleable\"><input class=\"sk-toggleable__control sk-hidden--visually\" id=\"sk-estimator-id-9\" type=\"checkbox\" ><label for=\"sk-estimator-id-9\" class=\"sk-toggleable__label sk-toggleable__label-arrow\">Ridge</label><div class=\"sk-toggleable__content\"><pre>Ridge(alpha=0.1)</pre></div></div></div></div></div></div></div></div></div></div>"
      ],
      "text/plain": [
       "GridSearchCV(cv=5, estimator=Ridge(alpha=0.1),\n",
       "             param_grid={'alpha': array([1.00e-02, 2.00e-02, 3.00e-02, 4.00e-02, 5.00e-02, 6.00e-02,\n",
       "       7.00e-02, 8.00e-02, 9.00e-02, 1.00e-01, 1.10e-01, 1.20e-01,\n",
       "       1.30e-01, 1.40e-01, 1.50e-01, 1.60e-01, 1.70e-01, 1.80e-01,\n",
       "       1.90e-01, 2.00e-01, 2.10e-01, 2.20e-01, 2.30e-01, 2.40e-01,\n",
       "       2.50e-01, 2.60e-01, 2.70e-01, 2.80e-01, 2.90e-01, 3.00e-01,\n",
       "       3.10e-01...\n",
       "       5.50e+00, 6.00e+00, 6.50e+00, 7.00e+00, 7.50e+00, 8.00e+00,\n",
       "       8.50e+00, 9.00e+00, 9.50e+00, 1.00e+01, 1.05e+01, 1.10e+01,\n",
       "       1.15e+01, 1.20e+01, 1.25e+01, 1.30e+01, 1.35e+01, 1.40e+01,\n",
       "       1.45e+01, 1.50e+01, 1.55e+01, 1.60e+01, 1.65e+01, 1.70e+01,\n",
       "       1.75e+01, 1.80e+01, 1.85e+01, 1.90e+01, 1.95e+01, 2.00e+01,\n",
       "       2.05e+01, 2.10e+01, 2.15e+01, 2.20e+01, 2.25e+01, 2.30e+01,\n",
       "       2.35e+01, 2.40e+01, 2.45e+01])})"
      ]
     },
     "execution_count": 129,
     "metadata": {},
     "output_type": "execute_result"
    }
   ],
   "source": [
    "ridge_model = Ridge(alpha=0.1)\n",
    "\n",
    "hyperparameters = {'alpha':alpha_array}\n",
    "\n",
    "gscv_ridge_model = GridSearchCV(ridge_model, hyperparameters, cv = 5)\n",
    "gscv_ridge_model.fit(x_train, y_train)\n",
    "gscv_ridge_model"
   ]
  },
  {
   "cell_type": "code",
   "execution_count": 130,
   "id": "6ed79793",
   "metadata": {},
   "outputs": [
    {
     "data": {
      "text/html": [
       "<style>#sk-container-id-6 {color: black;background-color: white;}#sk-container-id-6 pre{padding: 0;}#sk-container-id-6 div.sk-toggleable {background-color: white;}#sk-container-id-6 label.sk-toggleable__label {cursor: pointer;display: block;width: 100%;margin-bottom: 0;padding: 0.3em;box-sizing: border-box;text-align: center;}#sk-container-id-6 label.sk-toggleable__label-arrow:before {content: \"▸\";float: left;margin-right: 0.25em;color: #696969;}#sk-container-id-6 label.sk-toggleable__label-arrow:hover:before {color: black;}#sk-container-id-6 div.sk-estimator:hover label.sk-toggleable__label-arrow:before {color: black;}#sk-container-id-6 div.sk-toggleable__content {max-height: 0;max-width: 0;overflow: hidden;text-align: left;background-color: #f0f8ff;}#sk-container-id-6 div.sk-toggleable__content pre {margin: 0.2em;color: black;border-radius: 0.25em;background-color: #f0f8ff;}#sk-container-id-6 input.sk-toggleable__control:checked~div.sk-toggleable__content {max-height: 200px;max-width: 100%;overflow: auto;}#sk-container-id-6 input.sk-toggleable__control:checked~label.sk-toggleable__label-arrow:before {content: \"▾\";}#sk-container-id-6 div.sk-estimator input.sk-toggleable__control:checked~label.sk-toggleable__label {background-color: #d4ebff;}#sk-container-id-6 div.sk-label input.sk-toggleable__control:checked~label.sk-toggleable__label {background-color: #d4ebff;}#sk-container-id-6 input.sk-hidden--visually {border: 0;clip: rect(1px 1px 1px 1px);clip: rect(1px, 1px, 1px, 1px);height: 1px;margin: -1px;overflow: hidden;padding: 0;position: absolute;width: 1px;}#sk-container-id-6 div.sk-estimator {font-family: monospace;background-color: #f0f8ff;border: 1px dotted black;border-radius: 0.25em;box-sizing: border-box;margin-bottom: 0.5em;}#sk-container-id-6 div.sk-estimator:hover {background-color: #d4ebff;}#sk-container-id-6 div.sk-parallel-item::after {content: \"\";width: 100%;border-bottom: 1px solid gray;flex-grow: 1;}#sk-container-id-6 div.sk-label:hover label.sk-toggleable__label {background-color: #d4ebff;}#sk-container-id-6 div.sk-serial::before {content: \"\";position: absolute;border-left: 1px solid gray;box-sizing: border-box;top: 0;bottom: 0;left: 50%;z-index: 0;}#sk-container-id-6 div.sk-serial {display: flex;flex-direction: column;align-items: center;background-color: white;padding-right: 0.2em;padding-left: 0.2em;position: relative;}#sk-container-id-6 div.sk-item {position: relative;z-index: 1;}#sk-container-id-6 div.sk-parallel {display: flex;align-items: stretch;justify-content: center;background-color: white;position: relative;}#sk-container-id-6 div.sk-item::before, #sk-container-id-6 div.sk-parallel-item::before {content: \"\";position: absolute;border-left: 1px solid gray;box-sizing: border-box;top: 0;bottom: 0;left: 50%;z-index: -1;}#sk-container-id-6 div.sk-parallel-item {display: flex;flex-direction: column;z-index: 1;position: relative;background-color: white;}#sk-container-id-6 div.sk-parallel-item:first-child::after {align-self: flex-end;width: 50%;}#sk-container-id-6 div.sk-parallel-item:last-child::after {align-self: flex-start;width: 50%;}#sk-container-id-6 div.sk-parallel-item:only-child::after {width: 0;}#sk-container-id-6 div.sk-dashed-wrapped {border: 1px dashed gray;margin: 0 0.4em 0.5em 0.4em;box-sizing: border-box;padding-bottom: 0.4em;background-color: white;}#sk-container-id-6 div.sk-label label {font-family: monospace;font-weight: bold;display: inline-block;line-height: 1.2em;}#sk-container-id-6 div.sk-label-container {text-align: center;}#sk-container-id-6 div.sk-container {/* jupyter's `normalize.less` sets `[hidden] { display: none; }` but bootstrap.min.css set `[hidden] { display: none !important; }` so we also need the `!important` here to be able to override the default hidden behavior on the sphinx rendered scikit-learn.org. See: https://github.com/scikit-learn/scikit-learn/issues/21755 */display: inline-block !important;position: relative;}#sk-container-id-6 div.sk-text-repr-fallback {display: none;}</style><div id=\"sk-container-id-6\" class=\"sk-top-container\"><div class=\"sk-text-repr-fallback\"><pre>Ridge(alpha=0.53)</pre><b>In a Jupyter environment, please rerun this cell to show the HTML representation or trust the notebook. <br />On GitHub, the HTML representation is unable to render, please try loading this page with nbviewer.org.</b></div><div class=\"sk-container\" hidden><div class=\"sk-item\"><div class=\"sk-estimator sk-toggleable\"><input class=\"sk-toggleable__control sk-hidden--visually\" id=\"sk-estimator-id-10\" type=\"checkbox\" checked><label for=\"sk-estimator-id-10\" class=\"sk-toggleable__label sk-toggleable__label-arrow\">Ridge</label><div class=\"sk-toggleable__content\"><pre>Ridge(alpha=0.53)</pre></div></div></div></div></div>"
      ],
      "text/plain": [
       "Ridge(alpha=0.53)"
      ]
     },
     "execution_count": 130,
     "metadata": {},
     "output_type": "execute_result"
    }
   ],
   "source": [
    "gscv_ridge_model.best_estimator_"
   ]
  },
  {
   "cell_type": "code",
   "execution_count": 131,
   "id": "d14c11e2",
   "metadata": {},
   "outputs": [
    {
     "data": {
      "text/plain": [
       "{'alpha': 0.53}"
      ]
     },
     "execution_count": 131,
     "metadata": {},
     "output_type": "execute_result"
    }
   ],
   "source": [
    "gscv_ridge_model.best_params_"
   ]
  },
  {
   "cell_type": "code",
   "execution_count": 133,
   "id": "e119e1f4",
   "metadata": {},
   "outputs": [
    {
     "name": "stdout",
     "output_type": "stream",
     "text": [
      "Train Data Accuracy\n",
      "MSE: 9126039.84514644\n",
      "RMSE: 3020.9336048888\n",
      "MAE: 2093.1390318580266\n",
      "R2_Score: 0.8665394683335712\n",
      "\n",
      "Test Data Accuracy\n",
      "MSE: 11207118.01488821\n",
      "RMSE: 3347.70339410292\n",
      "MAE: 2270.542772898416\n",
      "R2_Score: 0.6752543892487137\n"
     ]
    },
    {
     "data": {
      "text/plain": [
       "(11207118.01488821, 3347.70339410292, 2270.542772898416, 0.6752543892487137)"
      ]
     },
     "execution_count": 133,
     "metadata": {},
     "output_type": "execute_result"
    }
   ],
   "source": [
    "print('Train Data Accuracy')\n",
    "evaluation(gscv_ridge_model, x_train, y_train)\n",
    "\n",
    "print()\n",
    "\n",
    "print('Test Data Accuracy')\n",
    "evaluation(gscv_ridge_model, x_test, y_test)"
   ]
  },
  {
   "cell_type": "code",
   "execution_count": null,
   "id": "8e4589d6",
   "metadata": {},
   "outputs": [],
   "source": []
  },
  {
   "cell_type": "markdown",
   "id": "431fe777",
   "metadata": {},
   "source": [
    "### Lasso"
   ]
  },
  {
   "cell_type": "code",
   "execution_count": 135,
   "id": "96113e70",
   "metadata": {},
   "outputs": [
    {
     "data": {
      "text/html": [
       "<style>#sk-container-id-7 {color: black;background-color: white;}#sk-container-id-7 pre{padding: 0;}#sk-container-id-7 div.sk-toggleable {background-color: white;}#sk-container-id-7 label.sk-toggleable__label {cursor: pointer;display: block;width: 100%;margin-bottom: 0;padding: 0.3em;box-sizing: border-box;text-align: center;}#sk-container-id-7 label.sk-toggleable__label-arrow:before {content: \"▸\";float: left;margin-right: 0.25em;color: #696969;}#sk-container-id-7 label.sk-toggleable__label-arrow:hover:before {color: black;}#sk-container-id-7 div.sk-estimator:hover label.sk-toggleable__label-arrow:before {color: black;}#sk-container-id-7 div.sk-toggleable__content {max-height: 0;max-width: 0;overflow: hidden;text-align: left;background-color: #f0f8ff;}#sk-container-id-7 div.sk-toggleable__content pre {margin: 0.2em;color: black;border-radius: 0.25em;background-color: #f0f8ff;}#sk-container-id-7 input.sk-toggleable__control:checked~div.sk-toggleable__content {max-height: 200px;max-width: 100%;overflow: auto;}#sk-container-id-7 input.sk-toggleable__control:checked~label.sk-toggleable__label-arrow:before {content: \"▾\";}#sk-container-id-7 div.sk-estimator input.sk-toggleable__control:checked~label.sk-toggleable__label {background-color: #d4ebff;}#sk-container-id-7 div.sk-label input.sk-toggleable__control:checked~label.sk-toggleable__label {background-color: #d4ebff;}#sk-container-id-7 input.sk-hidden--visually {border: 0;clip: rect(1px 1px 1px 1px);clip: rect(1px, 1px, 1px, 1px);height: 1px;margin: -1px;overflow: hidden;padding: 0;position: absolute;width: 1px;}#sk-container-id-7 div.sk-estimator {font-family: monospace;background-color: #f0f8ff;border: 1px dotted black;border-radius: 0.25em;box-sizing: border-box;margin-bottom: 0.5em;}#sk-container-id-7 div.sk-estimator:hover {background-color: #d4ebff;}#sk-container-id-7 div.sk-parallel-item::after {content: \"\";width: 100%;border-bottom: 1px solid gray;flex-grow: 1;}#sk-container-id-7 div.sk-label:hover label.sk-toggleable__label {background-color: #d4ebff;}#sk-container-id-7 div.sk-serial::before {content: \"\";position: absolute;border-left: 1px solid gray;box-sizing: border-box;top: 0;bottom: 0;left: 50%;z-index: 0;}#sk-container-id-7 div.sk-serial {display: flex;flex-direction: column;align-items: center;background-color: white;padding-right: 0.2em;padding-left: 0.2em;position: relative;}#sk-container-id-7 div.sk-item {position: relative;z-index: 1;}#sk-container-id-7 div.sk-parallel {display: flex;align-items: stretch;justify-content: center;background-color: white;position: relative;}#sk-container-id-7 div.sk-item::before, #sk-container-id-7 div.sk-parallel-item::before {content: \"\";position: absolute;border-left: 1px solid gray;box-sizing: border-box;top: 0;bottom: 0;left: 50%;z-index: -1;}#sk-container-id-7 div.sk-parallel-item {display: flex;flex-direction: column;z-index: 1;position: relative;background-color: white;}#sk-container-id-7 div.sk-parallel-item:first-child::after {align-self: flex-end;width: 50%;}#sk-container-id-7 div.sk-parallel-item:last-child::after {align-self: flex-start;width: 50%;}#sk-container-id-7 div.sk-parallel-item:only-child::after {width: 0;}#sk-container-id-7 div.sk-dashed-wrapped {border: 1px dashed gray;margin: 0 0.4em 0.5em 0.4em;box-sizing: border-box;padding-bottom: 0.4em;background-color: white;}#sk-container-id-7 div.sk-label label {font-family: monospace;font-weight: bold;display: inline-block;line-height: 1.2em;}#sk-container-id-7 div.sk-label-container {text-align: center;}#sk-container-id-7 div.sk-container {/* jupyter's `normalize.less` sets `[hidden] { display: none; }` but bootstrap.min.css set `[hidden] { display: none !important; }` so we also need the `!important` here to be able to override the default hidden behavior on the sphinx rendered scikit-learn.org. See: https://github.com/scikit-learn/scikit-learn/issues/21755 */display: inline-block !important;position: relative;}#sk-container-id-7 div.sk-text-repr-fallback {display: none;}</style><div id=\"sk-container-id-7\" class=\"sk-top-container\"><div class=\"sk-text-repr-fallback\"><pre>GridSearchCV(cv=5, estimator=Lasso(alpha=0.1),\n",
       "             param_grid={&#x27;alpha&#x27;: array([1.00e-02, 2.00e-02, 3.00e-02, 4.00e-02, 5.00e-02, 6.00e-02,\n",
       "       7.00e-02, 8.00e-02, 9.00e-02, 1.00e-01, 1.10e-01, 1.20e-01,\n",
       "       1.30e-01, 1.40e-01, 1.50e-01, 1.60e-01, 1.70e-01, 1.80e-01,\n",
       "       1.90e-01, 2.00e-01, 2.10e-01, 2.20e-01, 2.30e-01, 2.40e-01,\n",
       "       2.50e-01, 2.60e-01, 2.70e-01, 2.80e-01, 2.90e-01, 3.00e-01,\n",
       "       3.10e-01...\n",
       "       5.50e+00, 6.00e+00, 6.50e+00, 7.00e+00, 7.50e+00, 8.00e+00,\n",
       "       8.50e+00, 9.00e+00, 9.50e+00, 1.00e+01, 1.05e+01, 1.10e+01,\n",
       "       1.15e+01, 1.20e+01, 1.25e+01, 1.30e+01, 1.35e+01, 1.40e+01,\n",
       "       1.45e+01, 1.50e+01, 1.55e+01, 1.60e+01, 1.65e+01, 1.70e+01,\n",
       "       1.75e+01, 1.80e+01, 1.85e+01, 1.90e+01, 1.95e+01, 2.00e+01,\n",
       "       2.05e+01, 2.10e+01, 2.15e+01, 2.20e+01, 2.25e+01, 2.30e+01,\n",
       "       2.35e+01, 2.40e+01, 2.45e+01])})</pre><b>In a Jupyter environment, please rerun this cell to show the HTML representation or trust the notebook. <br />On GitHub, the HTML representation is unable to render, please try loading this page with nbviewer.org.</b></div><div class=\"sk-container\" hidden><div class=\"sk-item sk-dashed-wrapped\"><div class=\"sk-label-container\"><div class=\"sk-label sk-toggleable\"><input class=\"sk-toggleable__control sk-hidden--visually\" id=\"sk-estimator-id-11\" type=\"checkbox\" ><label for=\"sk-estimator-id-11\" class=\"sk-toggleable__label sk-toggleable__label-arrow\">GridSearchCV</label><div class=\"sk-toggleable__content\"><pre>GridSearchCV(cv=5, estimator=Lasso(alpha=0.1),\n",
       "             param_grid={&#x27;alpha&#x27;: array([1.00e-02, 2.00e-02, 3.00e-02, 4.00e-02, 5.00e-02, 6.00e-02,\n",
       "       7.00e-02, 8.00e-02, 9.00e-02, 1.00e-01, 1.10e-01, 1.20e-01,\n",
       "       1.30e-01, 1.40e-01, 1.50e-01, 1.60e-01, 1.70e-01, 1.80e-01,\n",
       "       1.90e-01, 2.00e-01, 2.10e-01, 2.20e-01, 2.30e-01, 2.40e-01,\n",
       "       2.50e-01, 2.60e-01, 2.70e-01, 2.80e-01, 2.90e-01, 3.00e-01,\n",
       "       3.10e-01...\n",
       "       5.50e+00, 6.00e+00, 6.50e+00, 7.00e+00, 7.50e+00, 8.00e+00,\n",
       "       8.50e+00, 9.00e+00, 9.50e+00, 1.00e+01, 1.05e+01, 1.10e+01,\n",
       "       1.15e+01, 1.20e+01, 1.25e+01, 1.30e+01, 1.35e+01, 1.40e+01,\n",
       "       1.45e+01, 1.50e+01, 1.55e+01, 1.60e+01, 1.65e+01, 1.70e+01,\n",
       "       1.75e+01, 1.80e+01, 1.85e+01, 1.90e+01, 1.95e+01, 2.00e+01,\n",
       "       2.05e+01, 2.10e+01, 2.15e+01, 2.20e+01, 2.25e+01, 2.30e+01,\n",
       "       2.35e+01, 2.40e+01, 2.45e+01])})</pre></div></div></div><div class=\"sk-parallel\"><div class=\"sk-parallel-item\"><div class=\"sk-item\"><div class=\"sk-label-container\"><div class=\"sk-label sk-toggleable\"><input class=\"sk-toggleable__control sk-hidden--visually\" id=\"sk-estimator-id-12\" type=\"checkbox\" ><label for=\"sk-estimator-id-12\" class=\"sk-toggleable__label sk-toggleable__label-arrow\">estimator: Lasso</label><div class=\"sk-toggleable__content\"><pre>Lasso(alpha=0.1)</pre></div></div></div><div class=\"sk-serial\"><div class=\"sk-item\"><div class=\"sk-estimator sk-toggleable\"><input class=\"sk-toggleable__control sk-hidden--visually\" id=\"sk-estimator-id-13\" type=\"checkbox\" ><label for=\"sk-estimator-id-13\" class=\"sk-toggleable__label sk-toggleable__label-arrow\">Lasso</label><div class=\"sk-toggleable__content\"><pre>Lasso(alpha=0.1)</pre></div></div></div></div></div></div></div></div></div></div>"
      ],
      "text/plain": [
       "GridSearchCV(cv=5, estimator=Lasso(alpha=0.1),\n",
       "             param_grid={'alpha': array([1.00e-02, 2.00e-02, 3.00e-02, 4.00e-02, 5.00e-02, 6.00e-02,\n",
       "       7.00e-02, 8.00e-02, 9.00e-02, 1.00e-01, 1.10e-01, 1.20e-01,\n",
       "       1.30e-01, 1.40e-01, 1.50e-01, 1.60e-01, 1.70e-01, 1.80e-01,\n",
       "       1.90e-01, 2.00e-01, 2.10e-01, 2.20e-01, 2.30e-01, 2.40e-01,\n",
       "       2.50e-01, 2.60e-01, 2.70e-01, 2.80e-01, 2.90e-01, 3.00e-01,\n",
       "       3.10e-01...\n",
       "       5.50e+00, 6.00e+00, 6.50e+00, 7.00e+00, 7.50e+00, 8.00e+00,\n",
       "       8.50e+00, 9.00e+00, 9.50e+00, 1.00e+01, 1.05e+01, 1.10e+01,\n",
       "       1.15e+01, 1.20e+01, 1.25e+01, 1.30e+01, 1.35e+01, 1.40e+01,\n",
       "       1.45e+01, 1.50e+01, 1.55e+01, 1.60e+01, 1.65e+01, 1.70e+01,\n",
       "       1.75e+01, 1.80e+01, 1.85e+01, 1.90e+01, 1.95e+01, 2.00e+01,\n",
       "       2.05e+01, 2.10e+01, 2.15e+01, 2.20e+01, 2.25e+01, 2.30e+01,\n",
       "       2.35e+01, 2.40e+01, 2.45e+01])})"
      ]
     },
     "execution_count": 135,
     "metadata": {},
     "output_type": "execute_result"
    }
   ],
   "source": [
    "lasso_model = Lasso(alpha=0.1)\n",
    "\n",
    "hyperparameters = {'alpha':alpha_array}\n",
    "\n",
    "gscv_lasso_model = GridSearchCV(lasso_model, hyperparameters, cv = 5)\n",
    "gscv_lasso_model.fit(x_train, y_train)\n",
    "gscv_lasso_model"
   ]
  },
  {
   "cell_type": "code",
   "execution_count": 136,
   "id": "8eb8ea3f",
   "metadata": {},
   "outputs": [
    {
     "data": {
      "text/html": [
       "<style>#sk-container-id-8 {color: black;background-color: white;}#sk-container-id-8 pre{padding: 0;}#sk-container-id-8 div.sk-toggleable {background-color: white;}#sk-container-id-8 label.sk-toggleable__label {cursor: pointer;display: block;width: 100%;margin-bottom: 0;padding: 0.3em;box-sizing: border-box;text-align: center;}#sk-container-id-8 label.sk-toggleable__label-arrow:before {content: \"▸\";float: left;margin-right: 0.25em;color: #696969;}#sk-container-id-8 label.sk-toggleable__label-arrow:hover:before {color: black;}#sk-container-id-8 div.sk-estimator:hover label.sk-toggleable__label-arrow:before {color: black;}#sk-container-id-8 div.sk-toggleable__content {max-height: 0;max-width: 0;overflow: hidden;text-align: left;background-color: #f0f8ff;}#sk-container-id-8 div.sk-toggleable__content pre {margin: 0.2em;color: black;border-radius: 0.25em;background-color: #f0f8ff;}#sk-container-id-8 input.sk-toggleable__control:checked~div.sk-toggleable__content {max-height: 200px;max-width: 100%;overflow: auto;}#sk-container-id-8 input.sk-toggleable__control:checked~label.sk-toggleable__label-arrow:before {content: \"▾\";}#sk-container-id-8 div.sk-estimator input.sk-toggleable__control:checked~label.sk-toggleable__label {background-color: #d4ebff;}#sk-container-id-8 div.sk-label input.sk-toggleable__control:checked~label.sk-toggleable__label {background-color: #d4ebff;}#sk-container-id-8 input.sk-hidden--visually {border: 0;clip: rect(1px 1px 1px 1px);clip: rect(1px, 1px, 1px, 1px);height: 1px;margin: -1px;overflow: hidden;padding: 0;position: absolute;width: 1px;}#sk-container-id-8 div.sk-estimator {font-family: monospace;background-color: #f0f8ff;border: 1px dotted black;border-radius: 0.25em;box-sizing: border-box;margin-bottom: 0.5em;}#sk-container-id-8 div.sk-estimator:hover {background-color: #d4ebff;}#sk-container-id-8 div.sk-parallel-item::after {content: \"\";width: 100%;border-bottom: 1px solid gray;flex-grow: 1;}#sk-container-id-8 div.sk-label:hover label.sk-toggleable__label {background-color: #d4ebff;}#sk-container-id-8 div.sk-serial::before {content: \"\";position: absolute;border-left: 1px solid gray;box-sizing: border-box;top: 0;bottom: 0;left: 50%;z-index: 0;}#sk-container-id-8 div.sk-serial {display: flex;flex-direction: column;align-items: center;background-color: white;padding-right: 0.2em;padding-left: 0.2em;position: relative;}#sk-container-id-8 div.sk-item {position: relative;z-index: 1;}#sk-container-id-8 div.sk-parallel {display: flex;align-items: stretch;justify-content: center;background-color: white;position: relative;}#sk-container-id-8 div.sk-item::before, #sk-container-id-8 div.sk-parallel-item::before {content: \"\";position: absolute;border-left: 1px solid gray;box-sizing: border-box;top: 0;bottom: 0;left: 50%;z-index: -1;}#sk-container-id-8 div.sk-parallel-item {display: flex;flex-direction: column;z-index: 1;position: relative;background-color: white;}#sk-container-id-8 div.sk-parallel-item:first-child::after {align-self: flex-end;width: 50%;}#sk-container-id-8 div.sk-parallel-item:last-child::after {align-self: flex-start;width: 50%;}#sk-container-id-8 div.sk-parallel-item:only-child::after {width: 0;}#sk-container-id-8 div.sk-dashed-wrapped {border: 1px dashed gray;margin: 0 0.4em 0.5em 0.4em;box-sizing: border-box;padding-bottom: 0.4em;background-color: white;}#sk-container-id-8 div.sk-label label {font-family: monospace;font-weight: bold;display: inline-block;line-height: 1.2em;}#sk-container-id-8 div.sk-label-container {text-align: center;}#sk-container-id-8 div.sk-container {/* jupyter's `normalize.less` sets `[hidden] { display: none; }` but bootstrap.min.css set `[hidden] { display: none !important; }` so we also need the `!important` here to be able to override the default hidden behavior on the sphinx rendered scikit-learn.org. See: https://github.com/scikit-learn/scikit-learn/issues/21755 */display: inline-block !important;position: relative;}#sk-container-id-8 div.sk-text-repr-fallback {display: none;}</style><div id=\"sk-container-id-8\" class=\"sk-top-container\"><div class=\"sk-text-repr-fallback\"><pre>Lasso(alpha=24.5)</pre><b>In a Jupyter environment, please rerun this cell to show the HTML representation or trust the notebook. <br />On GitHub, the HTML representation is unable to render, please try loading this page with nbviewer.org.</b></div><div class=\"sk-container\" hidden><div class=\"sk-item\"><div class=\"sk-estimator sk-toggleable\"><input class=\"sk-toggleable__control sk-hidden--visually\" id=\"sk-estimator-id-14\" type=\"checkbox\" checked><label for=\"sk-estimator-id-14\" class=\"sk-toggleable__label sk-toggleable__label-arrow\">Lasso</label><div class=\"sk-toggleable__content\"><pre>Lasso(alpha=24.5)</pre></div></div></div></div></div>"
      ],
      "text/plain": [
       "Lasso(alpha=24.5)"
      ]
     },
     "execution_count": 136,
     "metadata": {},
     "output_type": "execute_result"
    }
   ],
   "source": [
    "gscv_lasso_model.best_estimator_"
   ]
  },
  {
   "cell_type": "code",
   "execution_count": 137,
   "id": "1952608d",
   "metadata": {},
   "outputs": [
    {
     "data": {
      "text/plain": [
       "{'alpha': 24.5}"
      ]
     },
     "execution_count": 137,
     "metadata": {},
     "output_type": "execute_result"
    }
   ],
   "source": [
    "gscv_lasso_model.best_params_"
   ]
  },
  {
   "cell_type": "code",
   "execution_count": 138,
   "id": "27d1538b",
   "metadata": {},
   "outputs": [
    {
     "name": "stdout",
     "output_type": "stream",
     "text": [
      "Train Data Accuracy\n",
      "MSE: 9056548.023559157\n",
      "RMSE: 3009.4099128498856\n",
      "MAE: 2081.429009900338\n",
      "R2_Score: 0.8675557268216864\n",
      "\n",
      "Test Data Accuracy\n",
      "MSE: 10534304.526652236\n",
      "RMSE: 3245.659336198461\n",
      "MAE: 2199.3856839785576\n",
      "R2_Score: 0.6947503227142698\n"
     ]
    },
    {
     "data": {
      "text/plain": [
       "(10534304.526652236, 3245.659336198461, 2199.3856839785576, 0.6947503227142698)"
      ]
     },
     "execution_count": 138,
     "metadata": {},
     "output_type": "execute_result"
    }
   ],
   "source": [
    "print('Train Data Accuracy')\n",
    "evaluation(gscv_lasso_model, x_train, y_train)\n",
    "\n",
    "print()\n",
    "\n",
    "print('Test Data Accuracy')\n",
    "evaluation(gscv_lasso_model, x_test, y_test)"
   ]
  },
  {
   "cell_type": "markdown",
   "id": "01fb57bc",
   "metadata": {},
   "source": [
    "## RandomizedSearchCV"
   ]
  },
  {
   "cell_type": "code",
   "execution_count": 139,
   "id": "8fd43c05",
   "metadata": {},
   "outputs": [
    {
     "data": {
      "text/html": [
       "<style>#sk-container-id-9 {color: black;background-color: white;}#sk-container-id-9 pre{padding: 0;}#sk-container-id-9 div.sk-toggleable {background-color: white;}#sk-container-id-9 label.sk-toggleable__label {cursor: pointer;display: block;width: 100%;margin-bottom: 0;padding: 0.3em;box-sizing: border-box;text-align: center;}#sk-container-id-9 label.sk-toggleable__label-arrow:before {content: \"▸\";float: left;margin-right: 0.25em;color: #696969;}#sk-container-id-9 label.sk-toggleable__label-arrow:hover:before {color: black;}#sk-container-id-9 div.sk-estimator:hover label.sk-toggleable__label-arrow:before {color: black;}#sk-container-id-9 div.sk-toggleable__content {max-height: 0;max-width: 0;overflow: hidden;text-align: left;background-color: #f0f8ff;}#sk-container-id-9 div.sk-toggleable__content pre {margin: 0.2em;color: black;border-radius: 0.25em;background-color: #f0f8ff;}#sk-container-id-9 input.sk-toggleable__control:checked~div.sk-toggleable__content {max-height: 200px;max-width: 100%;overflow: auto;}#sk-container-id-9 input.sk-toggleable__control:checked~label.sk-toggleable__label-arrow:before {content: \"▾\";}#sk-container-id-9 div.sk-estimator input.sk-toggleable__control:checked~label.sk-toggleable__label {background-color: #d4ebff;}#sk-container-id-9 div.sk-label input.sk-toggleable__control:checked~label.sk-toggleable__label {background-color: #d4ebff;}#sk-container-id-9 input.sk-hidden--visually {border: 0;clip: rect(1px 1px 1px 1px);clip: rect(1px, 1px, 1px, 1px);height: 1px;margin: -1px;overflow: hidden;padding: 0;position: absolute;width: 1px;}#sk-container-id-9 div.sk-estimator {font-family: monospace;background-color: #f0f8ff;border: 1px dotted black;border-radius: 0.25em;box-sizing: border-box;margin-bottom: 0.5em;}#sk-container-id-9 div.sk-estimator:hover {background-color: #d4ebff;}#sk-container-id-9 div.sk-parallel-item::after {content: \"\";width: 100%;border-bottom: 1px solid gray;flex-grow: 1;}#sk-container-id-9 div.sk-label:hover label.sk-toggleable__label {background-color: #d4ebff;}#sk-container-id-9 div.sk-serial::before {content: \"\";position: absolute;border-left: 1px solid gray;box-sizing: border-box;top: 0;bottom: 0;left: 50%;z-index: 0;}#sk-container-id-9 div.sk-serial {display: flex;flex-direction: column;align-items: center;background-color: white;padding-right: 0.2em;padding-left: 0.2em;position: relative;}#sk-container-id-9 div.sk-item {position: relative;z-index: 1;}#sk-container-id-9 div.sk-parallel {display: flex;align-items: stretch;justify-content: center;background-color: white;position: relative;}#sk-container-id-9 div.sk-item::before, #sk-container-id-9 div.sk-parallel-item::before {content: \"\";position: absolute;border-left: 1px solid gray;box-sizing: border-box;top: 0;bottom: 0;left: 50%;z-index: -1;}#sk-container-id-9 div.sk-parallel-item {display: flex;flex-direction: column;z-index: 1;position: relative;background-color: white;}#sk-container-id-9 div.sk-parallel-item:first-child::after {align-self: flex-end;width: 50%;}#sk-container-id-9 div.sk-parallel-item:last-child::after {align-self: flex-start;width: 50%;}#sk-container-id-9 div.sk-parallel-item:only-child::after {width: 0;}#sk-container-id-9 div.sk-dashed-wrapped {border: 1px dashed gray;margin: 0 0.4em 0.5em 0.4em;box-sizing: border-box;padding-bottom: 0.4em;background-color: white;}#sk-container-id-9 div.sk-label label {font-family: monospace;font-weight: bold;display: inline-block;line-height: 1.2em;}#sk-container-id-9 div.sk-label-container {text-align: center;}#sk-container-id-9 div.sk-container {/* jupyter's `normalize.less` sets `[hidden] { display: none; }` but bootstrap.min.css set `[hidden] { display: none !important; }` so we also need the `!important` here to be able to override the default hidden behavior on the sphinx rendered scikit-learn.org. See: https://github.com/scikit-learn/scikit-learn/issues/21755 */display: inline-block !important;position: relative;}#sk-container-id-9 div.sk-text-repr-fallback {display: none;}</style><div id=\"sk-container-id-9\" class=\"sk-top-container\"><div class=\"sk-text-repr-fallback\"><pre>RandomizedSearchCV(cv=5, estimator=Lasso(alpha=0.1),\n",
       "                   param_distributions={&#x27;alpha&#x27;: array([1.00e-02, 2.00e-02, 3.00e-02, 4.00e-02, 5.00e-02, 6.00e-02,\n",
       "       7.00e-02, 8.00e-02, 9.00e-02, 1.00e-01, 1.10e-01, 1.20e-01,\n",
       "       1.30e-01, 1.40e-01, 1.50e-01, 1.60e-01, 1.70e-01, 1.80e-01,\n",
       "       1.90e-01, 2.00e-01, 2.10e-01, 2.20e-01, 2.30e-01, 2.40e-01,\n",
       "       2.50e-01, 2.60e-01, 2.70e-01, 2.80e-01, 2.90e-01, 3....\n",
       "       5.50e+00, 6.00e+00, 6.50e+00, 7.00e+00, 7.50e+00, 8.00e+00,\n",
       "       8.50e+00, 9.00e+00, 9.50e+00, 1.00e+01, 1.05e+01, 1.10e+01,\n",
       "       1.15e+01, 1.20e+01, 1.25e+01, 1.30e+01, 1.35e+01, 1.40e+01,\n",
       "       1.45e+01, 1.50e+01, 1.55e+01, 1.60e+01, 1.65e+01, 1.70e+01,\n",
       "       1.75e+01, 1.80e+01, 1.85e+01, 1.90e+01, 1.95e+01, 2.00e+01,\n",
       "       2.05e+01, 2.10e+01, 2.15e+01, 2.20e+01, 2.25e+01, 2.30e+01,\n",
       "       2.35e+01, 2.40e+01, 2.45e+01])})</pre><b>In a Jupyter environment, please rerun this cell to show the HTML representation or trust the notebook. <br />On GitHub, the HTML representation is unable to render, please try loading this page with nbviewer.org.</b></div><div class=\"sk-container\" hidden><div class=\"sk-item sk-dashed-wrapped\"><div class=\"sk-label-container\"><div class=\"sk-label sk-toggleable\"><input class=\"sk-toggleable__control sk-hidden--visually\" id=\"sk-estimator-id-15\" type=\"checkbox\" ><label for=\"sk-estimator-id-15\" class=\"sk-toggleable__label sk-toggleable__label-arrow\">RandomizedSearchCV</label><div class=\"sk-toggleable__content\"><pre>RandomizedSearchCV(cv=5, estimator=Lasso(alpha=0.1),\n",
       "                   param_distributions={&#x27;alpha&#x27;: array([1.00e-02, 2.00e-02, 3.00e-02, 4.00e-02, 5.00e-02, 6.00e-02,\n",
       "       7.00e-02, 8.00e-02, 9.00e-02, 1.00e-01, 1.10e-01, 1.20e-01,\n",
       "       1.30e-01, 1.40e-01, 1.50e-01, 1.60e-01, 1.70e-01, 1.80e-01,\n",
       "       1.90e-01, 2.00e-01, 2.10e-01, 2.20e-01, 2.30e-01, 2.40e-01,\n",
       "       2.50e-01, 2.60e-01, 2.70e-01, 2.80e-01, 2.90e-01, 3....\n",
       "       5.50e+00, 6.00e+00, 6.50e+00, 7.00e+00, 7.50e+00, 8.00e+00,\n",
       "       8.50e+00, 9.00e+00, 9.50e+00, 1.00e+01, 1.05e+01, 1.10e+01,\n",
       "       1.15e+01, 1.20e+01, 1.25e+01, 1.30e+01, 1.35e+01, 1.40e+01,\n",
       "       1.45e+01, 1.50e+01, 1.55e+01, 1.60e+01, 1.65e+01, 1.70e+01,\n",
       "       1.75e+01, 1.80e+01, 1.85e+01, 1.90e+01, 1.95e+01, 2.00e+01,\n",
       "       2.05e+01, 2.10e+01, 2.15e+01, 2.20e+01, 2.25e+01, 2.30e+01,\n",
       "       2.35e+01, 2.40e+01, 2.45e+01])})</pre></div></div></div><div class=\"sk-parallel\"><div class=\"sk-parallel-item\"><div class=\"sk-item\"><div class=\"sk-label-container\"><div class=\"sk-label sk-toggleable\"><input class=\"sk-toggleable__control sk-hidden--visually\" id=\"sk-estimator-id-16\" type=\"checkbox\" ><label for=\"sk-estimator-id-16\" class=\"sk-toggleable__label sk-toggleable__label-arrow\">estimator: Lasso</label><div class=\"sk-toggleable__content\"><pre>Lasso(alpha=0.1)</pre></div></div></div><div class=\"sk-serial\"><div class=\"sk-item\"><div class=\"sk-estimator sk-toggleable\"><input class=\"sk-toggleable__control sk-hidden--visually\" id=\"sk-estimator-id-17\" type=\"checkbox\" ><label for=\"sk-estimator-id-17\" class=\"sk-toggleable__label sk-toggleable__label-arrow\">Lasso</label><div class=\"sk-toggleable__content\"><pre>Lasso(alpha=0.1)</pre></div></div></div></div></div></div></div></div></div></div>"
      ],
      "text/plain": [
       "RandomizedSearchCV(cv=5, estimator=Lasso(alpha=0.1),\n",
       "                   param_distributions={'alpha': array([1.00e-02, 2.00e-02, 3.00e-02, 4.00e-02, 5.00e-02, 6.00e-02,\n",
       "       7.00e-02, 8.00e-02, 9.00e-02, 1.00e-01, 1.10e-01, 1.20e-01,\n",
       "       1.30e-01, 1.40e-01, 1.50e-01, 1.60e-01, 1.70e-01, 1.80e-01,\n",
       "       1.90e-01, 2.00e-01, 2.10e-01, 2.20e-01, 2.30e-01, 2.40e-01,\n",
       "       2.50e-01, 2.60e-01, 2.70e-01, 2.80e-01, 2.90e-01, 3....\n",
       "       5.50e+00, 6.00e+00, 6.50e+00, 7.00e+00, 7.50e+00, 8.00e+00,\n",
       "       8.50e+00, 9.00e+00, 9.50e+00, 1.00e+01, 1.05e+01, 1.10e+01,\n",
       "       1.15e+01, 1.20e+01, 1.25e+01, 1.30e+01, 1.35e+01, 1.40e+01,\n",
       "       1.45e+01, 1.50e+01, 1.55e+01, 1.60e+01, 1.65e+01, 1.70e+01,\n",
       "       1.75e+01, 1.80e+01, 1.85e+01, 1.90e+01, 1.95e+01, 2.00e+01,\n",
       "       2.05e+01, 2.10e+01, 2.15e+01, 2.20e+01, 2.25e+01, 2.30e+01,\n",
       "       2.35e+01, 2.40e+01, 2.45e+01])})"
      ]
     },
     "execution_count": 139,
     "metadata": {},
     "output_type": "execute_result"
    }
   ],
   "source": [
    "lasso_model = Lasso(alpha=0.1)\n",
    "\n",
    "hyperparameters = {'alpha':alpha_array}\n",
    "\n",
    "rscv_lasso_model = RandomizedSearchCV(lasso_model, hyperparameters, cv = 5)\n",
    "rscv_lasso_model.fit(x_train, y_train)\n",
    "rscv_lasso_model"
   ]
  },
  {
   "cell_type": "code",
   "execution_count": 140,
   "id": "2f3b8b0c",
   "metadata": {},
   "outputs": [
    {
     "data": {
      "text/html": [
       "<style>#sk-container-id-10 {color: black;background-color: white;}#sk-container-id-10 pre{padding: 0;}#sk-container-id-10 div.sk-toggleable {background-color: white;}#sk-container-id-10 label.sk-toggleable__label {cursor: pointer;display: block;width: 100%;margin-bottom: 0;padding: 0.3em;box-sizing: border-box;text-align: center;}#sk-container-id-10 label.sk-toggleable__label-arrow:before {content: \"▸\";float: left;margin-right: 0.25em;color: #696969;}#sk-container-id-10 label.sk-toggleable__label-arrow:hover:before {color: black;}#sk-container-id-10 div.sk-estimator:hover label.sk-toggleable__label-arrow:before {color: black;}#sk-container-id-10 div.sk-toggleable__content {max-height: 0;max-width: 0;overflow: hidden;text-align: left;background-color: #f0f8ff;}#sk-container-id-10 div.sk-toggleable__content pre {margin: 0.2em;color: black;border-radius: 0.25em;background-color: #f0f8ff;}#sk-container-id-10 input.sk-toggleable__control:checked~div.sk-toggleable__content {max-height: 200px;max-width: 100%;overflow: auto;}#sk-container-id-10 input.sk-toggleable__control:checked~label.sk-toggleable__label-arrow:before {content: \"▾\";}#sk-container-id-10 div.sk-estimator input.sk-toggleable__control:checked~label.sk-toggleable__label {background-color: #d4ebff;}#sk-container-id-10 div.sk-label input.sk-toggleable__control:checked~label.sk-toggleable__label {background-color: #d4ebff;}#sk-container-id-10 input.sk-hidden--visually {border: 0;clip: rect(1px 1px 1px 1px);clip: rect(1px, 1px, 1px, 1px);height: 1px;margin: -1px;overflow: hidden;padding: 0;position: absolute;width: 1px;}#sk-container-id-10 div.sk-estimator {font-family: monospace;background-color: #f0f8ff;border: 1px dotted black;border-radius: 0.25em;box-sizing: border-box;margin-bottom: 0.5em;}#sk-container-id-10 div.sk-estimator:hover {background-color: #d4ebff;}#sk-container-id-10 div.sk-parallel-item::after {content: \"\";width: 100%;border-bottom: 1px solid gray;flex-grow: 1;}#sk-container-id-10 div.sk-label:hover label.sk-toggleable__label {background-color: #d4ebff;}#sk-container-id-10 div.sk-serial::before {content: \"\";position: absolute;border-left: 1px solid gray;box-sizing: border-box;top: 0;bottom: 0;left: 50%;z-index: 0;}#sk-container-id-10 div.sk-serial {display: flex;flex-direction: column;align-items: center;background-color: white;padding-right: 0.2em;padding-left: 0.2em;position: relative;}#sk-container-id-10 div.sk-item {position: relative;z-index: 1;}#sk-container-id-10 div.sk-parallel {display: flex;align-items: stretch;justify-content: center;background-color: white;position: relative;}#sk-container-id-10 div.sk-item::before, #sk-container-id-10 div.sk-parallel-item::before {content: \"\";position: absolute;border-left: 1px solid gray;box-sizing: border-box;top: 0;bottom: 0;left: 50%;z-index: -1;}#sk-container-id-10 div.sk-parallel-item {display: flex;flex-direction: column;z-index: 1;position: relative;background-color: white;}#sk-container-id-10 div.sk-parallel-item:first-child::after {align-self: flex-end;width: 50%;}#sk-container-id-10 div.sk-parallel-item:last-child::after {align-self: flex-start;width: 50%;}#sk-container-id-10 div.sk-parallel-item:only-child::after {width: 0;}#sk-container-id-10 div.sk-dashed-wrapped {border: 1px dashed gray;margin: 0 0.4em 0.5em 0.4em;box-sizing: border-box;padding-bottom: 0.4em;background-color: white;}#sk-container-id-10 div.sk-label label {font-family: monospace;font-weight: bold;display: inline-block;line-height: 1.2em;}#sk-container-id-10 div.sk-label-container {text-align: center;}#sk-container-id-10 div.sk-container {/* jupyter's `normalize.less` sets `[hidden] { display: none; }` but bootstrap.min.css set `[hidden] { display: none !important; }` so we also need the `!important` here to be able to override the default hidden behavior on the sphinx rendered scikit-learn.org. See: https://github.com/scikit-learn/scikit-learn/issues/21755 */display: inline-block !important;position: relative;}#sk-container-id-10 div.sk-text-repr-fallback {display: none;}</style><div id=\"sk-container-id-10\" class=\"sk-top-container\"><div class=\"sk-text-repr-fallback\"><pre>Lasso(alpha=23.5)</pre><b>In a Jupyter environment, please rerun this cell to show the HTML representation or trust the notebook. <br />On GitHub, the HTML representation is unable to render, please try loading this page with nbviewer.org.</b></div><div class=\"sk-container\" hidden><div class=\"sk-item\"><div class=\"sk-estimator sk-toggleable\"><input class=\"sk-toggleable__control sk-hidden--visually\" id=\"sk-estimator-id-18\" type=\"checkbox\" checked><label for=\"sk-estimator-id-18\" class=\"sk-toggleable__label sk-toggleable__label-arrow\">Lasso</label><div class=\"sk-toggleable__content\"><pre>Lasso(alpha=23.5)</pre></div></div></div></div></div>"
      ],
      "text/plain": [
       "Lasso(alpha=23.5)"
      ]
     },
     "execution_count": 140,
     "metadata": {},
     "output_type": "execute_result"
    }
   ],
   "source": [
    "rscv_lasso_model.best_estimator_"
   ]
  },
  {
   "cell_type": "code",
   "execution_count": 141,
   "id": "01816da2",
   "metadata": {},
   "outputs": [
    {
     "data": {
      "text/plain": [
       "{'alpha': 23.5}"
      ]
     },
     "execution_count": 141,
     "metadata": {},
     "output_type": "execute_result"
    }
   ],
   "source": [
    "rscv_lasso_model.best_params_"
   ]
  },
  {
   "cell_type": "code",
   "execution_count": 142,
   "id": "72684ffa",
   "metadata": {},
   "outputs": [
    {
     "name": "stdout",
     "output_type": "stream",
     "text": [
      "Train Data Accuracy\n",
      "MSE: 9011386.642748142\n",
      "RMSE: 3001.897173913214\n",
      "MAE: 2075.898694302181\n",
      "R2_Score: 0.868216173411456\n",
      "\n",
      "Test Data Accuracy\n",
      "MSE: 10604739.01603492\n",
      "RMSE: 3256.4918264959488\n",
      "MAE: 2204.543944240246\n",
      "R2_Score: 0.6927093616712837\n"
     ]
    },
    {
     "data": {
      "text/plain": [
       "(10604739.01603492, 3256.4918264959488, 2204.543944240246, 0.6927093616712837)"
      ]
     },
     "execution_count": 142,
     "metadata": {},
     "output_type": "execute_result"
    }
   ],
   "source": [
    "print('Train Data Accuracy')\n",
    "evaluation(rscv_lasso_model, x_train, y_train)\n",
    "\n",
    "print()\n",
    "\n",
    "print('Test Data Accuracy')\n",
    "evaluation(rscv_lasso_model, x_test, y_test)"
   ]
  },
  {
   "cell_type": "code",
   "execution_count": null,
   "id": "9ce48bd0",
   "metadata": {},
   "outputs": [],
   "source": []
  },
  {
   "cell_type": "code",
   "execution_count": 144,
   "id": "11e61281",
   "metadata": {},
   "outputs": [
    {
     "data": {
      "text/html": [
       "<style>#sk-container-id-11 {color: black;background-color: white;}#sk-container-id-11 pre{padding: 0;}#sk-container-id-11 div.sk-toggleable {background-color: white;}#sk-container-id-11 label.sk-toggleable__label {cursor: pointer;display: block;width: 100%;margin-bottom: 0;padding: 0.3em;box-sizing: border-box;text-align: center;}#sk-container-id-11 label.sk-toggleable__label-arrow:before {content: \"▸\";float: left;margin-right: 0.25em;color: #696969;}#sk-container-id-11 label.sk-toggleable__label-arrow:hover:before {color: black;}#sk-container-id-11 div.sk-estimator:hover label.sk-toggleable__label-arrow:before {color: black;}#sk-container-id-11 div.sk-toggleable__content {max-height: 0;max-width: 0;overflow: hidden;text-align: left;background-color: #f0f8ff;}#sk-container-id-11 div.sk-toggleable__content pre {margin: 0.2em;color: black;border-radius: 0.25em;background-color: #f0f8ff;}#sk-container-id-11 input.sk-toggleable__control:checked~div.sk-toggleable__content {max-height: 200px;max-width: 100%;overflow: auto;}#sk-container-id-11 input.sk-toggleable__control:checked~label.sk-toggleable__label-arrow:before {content: \"▾\";}#sk-container-id-11 div.sk-estimator input.sk-toggleable__control:checked~label.sk-toggleable__label {background-color: #d4ebff;}#sk-container-id-11 div.sk-label input.sk-toggleable__control:checked~label.sk-toggleable__label {background-color: #d4ebff;}#sk-container-id-11 input.sk-hidden--visually {border: 0;clip: rect(1px 1px 1px 1px);clip: rect(1px, 1px, 1px, 1px);height: 1px;margin: -1px;overflow: hidden;padding: 0;position: absolute;width: 1px;}#sk-container-id-11 div.sk-estimator {font-family: monospace;background-color: #f0f8ff;border: 1px dotted black;border-radius: 0.25em;box-sizing: border-box;margin-bottom: 0.5em;}#sk-container-id-11 div.sk-estimator:hover {background-color: #d4ebff;}#sk-container-id-11 div.sk-parallel-item::after {content: \"\";width: 100%;border-bottom: 1px solid gray;flex-grow: 1;}#sk-container-id-11 div.sk-label:hover label.sk-toggleable__label {background-color: #d4ebff;}#sk-container-id-11 div.sk-serial::before {content: \"\";position: absolute;border-left: 1px solid gray;box-sizing: border-box;top: 0;bottom: 0;left: 50%;z-index: 0;}#sk-container-id-11 div.sk-serial {display: flex;flex-direction: column;align-items: center;background-color: white;padding-right: 0.2em;padding-left: 0.2em;position: relative;}#sk-container-id-11 div.sk-item {position: relative;z-index: 1;}#sk-container-id-11 div.sk-parallel {display: flex;align-items: stretch;justify-content: center;background-color: white;position: relative;}#sk-container-id-11 div.sk-item::before, #sk-container-id-11 div.sk-parallel-item::before {content: \"\";position: absolute;border-left: 1px solid gray;box-sizing: border-box;top: 0;bottom: 0;left: 50%;z-index: -1;}#sk-container-id-11 div.sk-parallel-item {display: flex;flex-direction: column;z-index: 1;position: relative;background-color: white;}#sk-container-id-11 div.sk-parallel-item:first-child::after {align-self: flex-end;width: 50%;}#sk-container-id-11 div.sk-parallel-item:last-child::after {align-self: flex-start;width: 50%;}#sk-container-id-11 div.sk-parallel-item:only-child::after {width: 0;}#sk-container-id-11 div.sk-dashed-wrapped {border: 1px dashed gray;margin: 0 0.4em 0.5em 0.4em;box-sizing: border-box;padding-bottom: 0.4em;background-color: white;}#sk-container-id-11 div.sk-label label {font-family: monospace;font-weight: bold;display: inline-block;line-height: 1.2em;}#sk-container-id-11 div.sk-label-container {text-align: center;}#sk-container-id-11 div.sk-container {/* jupyter's `normalize.less` sets `[hidden] { display: none; }` but bootstrap.min.css set `[hidden] { display: none !important; }` so we also need the `!important` here to be able to override the default hidden behavior on the sphinx rendered scikit-learn.org. See: https://github.com/scikit-learn/scikit-learn/issues/21755 */display: inline-block !important;position: relative;}#sk-container-id-11 div.sk-text-repr-fallback {display: none;}</style><div id=\"sk-container-id-11\" class=\"sk-top-container\"><div class=\"sk-text-repr-fallback\"><pre>DecisionTreeClassifier()</pre><b>In a Jupyter environment, please rerun this cell to show the HTML representation or trust the notebook. <br />On GitHub, the HTML representation is unable to render, please try loading this page with nbviewer.org.</b></div><div class=\"sk-container\" hidden><div class=\"sk-item\"><div class=\"sk-estimator sk-toggleable\"><input class=\"sk-toggleable__control sk-hidden--visually\" id=\"sk-estimator-id-19\" type=\"checkbox\" checked><label for=\"sk-estimator-id-19\" class=\"sk-toggleable__label sk-toggleable__label-arrow\">DecisionTreeClassifier</label><div class=\"sk-toggleable__content\"><pre>DecisionTreeClassifier()</pre></div></div></div></div></div>"
      ],
      "text/plain": [
       "DecisionTreeClassifier()"
      ]
     },
     "execution_count": 144,
     "metadata": {},
     "output_type": "execute_result"
    }
   ],
   "source": [
    "from sklearn.tree import DecisionTreeClassifier\n",
    "\n",
    "DecisionTreeClassifier()\n",
    "\n",
    "criterion=['gini', 'entropy'],\n",
    "splitter=['best', 'random'],\n",
    "max_depth= [1,2,3],\n",
    "min_samples_split= [4,6,8]\n",
    "\n",
    "\n",
    "GridSearchCV:\n",
    "    \n",
    "criterion = 'gini' and splitter = 'best' and max_depth = 1 and min_samples_split= 4\n",
    "criterion = 'gini' and splitter = 'best' and max_depth = 1 and min_samples_split= 6\n",
    "criterion = 'gini' and splitter = 'best' and max_depth = 1 and min_samples_split= 8\n",
    "\n",
    "criterion = 'gini' and splitter = 'best' and max_depth = 2 and min_samples_split= 4\n",
    "criterion = 'gini' and splitter = 'best' and max_depth = 2 and min_samples_split= 6\n",
    "criterion = 'gini' and splitter = 'best' and max_depth = 2 and min_samples_split= 8\n",
    "\n",
    "criterion = 'gini' and splitter = 'best' and max_depth = 3 and min_samples_split= 4\n",
    "criterion = 'gini' and splitter = 'best' and max_depth = 3 and min_samples_split= 6\n",
    "criterion = 'gini' and splitter = 'best' and max_depth = 3 and min_samples_split= 8\n",
    "\n",
    "\n",
    "\n",
    "criterion = 'gini' and splitter = 'random' and max_depth = 1 and min_samples_split= 4\n",
    "criterion = 'gini' and splitter = 'random' and max_depth = 1 and min_samples_split= 6\n",
    "criterion = 'gini' and splitter = 'random' and max_depth = 1 and min_samples_split= 8\n",
    "\n",
    "criterion = 'gini' and splitter = 'random' and max_depth = 2 and min_samples_split= 4\n",
    "criterion = 'gini' and splitter = 'random' and max_depth = 2 and min_samples_split= 6\n",
    "criterion = 'gini' and splitter = 'random' and max_depth = 2 and min_samples_split= 8\n",
    "\n",
    "criterion = 'gini' and splitter = 'random' and max_depth = 3 and min_samples_split= 4\n",
    "criterion = 'gini' and splitter = 'random' and max_depth = 3 and min_samples_split= 6\n",
    "criterion = 'gini' and splitter = 'random' and max_depth = 3 and min_samples_split= 8"
   ]
  },
  {
   "cell_type": "code",
   "execution_count": null,
   "id": "d21184a7",
   "metadata": {},
   "outputs": [],
   "source": []
  },
  {
   "cell_type": "code",
   "execution_count": null,
   "id": "783d1c48",
   "metadata": {},
   "outputs": [],
   "source": []
  },
  {
   "cell_type": "code",
   "execution_count": null,
   "id": "4fd9d342",
   "metadata": {},
   "outputs": [],
   "source": []
  },
  {
   "cell_type": "code",
   "execution_count": null,
   "id": "f88681b1",
   "metadata": {},
   "outputs": [],
   "source": []
  },
  {
   "cell_type": "code",
   "execution_count": null,
   "id": "6d27b01c",
   "metadata": {},
   "outputs": [],
   "source": []
  },
  {
   "cell_type": "code",
   "execution_count": null,
   "id": "0b2fd494",
   "metadata": {},
   "outputs": [],
   "source": [
    "6LPA >> 50%  >> 9LPA\n",
    "     >> 100% >> 12LPA\n",
    "     >> 150% >> 15LPA\n",
    "        \n",
    "    \n",
    "error %:\n",
    "    0- 100\n",
    "    \n",
    "    \n",
    "120 - 150 = 30 var , 20% var\n",
    "\n",
    "\n",
    "120 - 200 = 80 var , 40%\n",
    "120 - 240 = 120 , 100%\n",
    "\n",
    "120 - 300 = 125% \n",
    "\n",
    "1 - SSE/SST\n",
    "\n",
    "SSE + SSR\n",
    "300 - 20  = 280\n",
    "\n",
    "yp- y_mean = 100 - 120 = -20"
   ]
  },
  {
   "cell_type": "code",
   "execution_count": 145,
   "id": "dc26e8b7",
   "metadata": {},
   "outputs": [
    {
     "data": {
      "text/plain": [
       "-0.0714285714285714"
      ]
     },
     "execution_count": 145,
     "metadata": {},
     "output_type": "execute_result"
    }
   ],
   "source": [
    "1 - 300/280"
   ]
  },
  {
   "cell_type": "code",
   "execution_count": 146,
   "id": "6468eb01",
   "metadata": {},
   "outputs": [
    {
     "data": {
      "text/plain": [
       "array([651, 303, 643, 361, 571, 164, 128, 670, 712, 383, 548, 437, 566,\n",
       "       902, 450, 324, 212, 196, 268, 189])"
      ]
     },
     "execution_count": 146,
     "metadata": {},
     "output_type": "execute_result"
    }
   ],
   "source": [
    "a1 = np.random.randint(100,1000, size = 20)\n",
    "a1"
   ]
  },
  {
   "cell_type": "code",
   "execution_count": 148,
   "id": "0d48b22c",
   "metadata": {},
   "outputs": [
    {
     "data": {
      "text/plain": [
       "array([6.47850964, 5.71373281, 6.46614472, 5.88887796, 6.34738921,\n",
       "       5.09986643, 4.85203026, 6.50727771, 6.56807791, 5.94803499,\n",
       "       6.30627529, 6.0799332 , 6.33859408, 6.80461452, 6.10924758,\n",
       "       5.78074352, 5.35658627, 5.27811466, 5.59098698, 5.24174702])"
      ]
     },
     "execution_count": 148,
     "metadata": {},
     "output_type": "execute_result"
    }
   ],
   "source": [
    "np.log(a1)"
   ]
  },
  {
   "cell_type": "code",
   "execution_count": null,
   "id": "6416653a",
   "metadata": {},
   "outputs": [],
   "source": []
  },
  {
   "cell_type": "code",
   "execution_count": null,
   "id": "fba2ee72",
   "metadata": {},
   "outputs": [],
   "source": []
  }
 ],
 "metadata": {
  "kernelspec": {
   "display_name": "Python 3 (ipykernel)",
   "language": "python",
   "name": "python3"
  },
  "language_info": {
   "codemirror_mode": {
    "name": "ipython",
    "version": 3
   },
   "file_extension": ".py",
   "mimetype": "text/x-python",
   "name": "python",
   "nbconvert_exporter": "python",
   "pygments_lexer": "ipython3",
   "version": "3.10.7"
  }
 },
 "nbformat": 4,
 "nbformat_minor": 5
}
